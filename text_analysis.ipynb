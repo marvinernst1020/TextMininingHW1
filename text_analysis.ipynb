{
 "cells": [
  {
   "cell_type": "markdown",
   "metadata": {},
   "source": [
    "# Homework 1: Text Mining\n",
    "## Part 2: Text analysis\n",
    "\n",
    "Group Members: Matias Borrel, Pol Garcia, Marvin Ernst"
   ]
  },
  {
   "cell_type": "markdown",
   "metadata": {},
   "source": [
    "#### Importing relevant Libraries:"
   ]
  },
  {
   "cell_type": "code",
   "execution_count": 21,
   "metadata": {},
   "outputs": [
    {
     "name": "stderr",
     "output_type": "stream",
     "text": [
      "[nltk_data] Downloading package stopwords to /Users/Admin/nltk_data...\n",
      "[nltk_data]   Package stopwords is already up-to-date!\n",
      "[nltk_data] Downloading package punkt to /Users/Admin/nltk_data...\n",
      "[nltk_data]   Package punkt is already up-to-date!\n",
      "[nltk_data] Downloading package punkt_tab to /Users/Admin/nltk_data...\n",
      "[nltk_data]   Package punkt_tab is already up-to-date!\n"
     ]
    }
   ],
   "source": [
    "import os\n",
    "import pandas as pd\n",
    "from wordcloud import WordCloud\n",
    "import matplotlib.pyplot as plt\n",
    "import nltk\n",
    "nltk.download('stopwords')\n",
    "nltk.download('punkt')\n",
    "nltk.download('punkt_tab')\n",
    "from nltk.corpus import stopwords\n",
    "from nltk.tokenize import word_tokenize\n",
    "from nltk.stem import PorterStemmer"
   ]
  },
  {
   "cell_type": "markdown",
   "metadata": {},
   "source": [
    "#### Define file paths:"
   ]
  },
  {
   "cell_type": "code",
   "execution_count": 22,
   "metadata": {},
   "outputs": [],
   "source": [
    "files = {\n",
    "    \"Barcelona\": {\n",
    "        \"Post\": \"./Original_data/hotels_barcelona_MWC.csv\",\n",
    "        \"Pre\": \"./Original_data/hotels_barcelona_after_MWC.csv\",\n",
    "    },\n",
    "    \"Madrid\": {\n",
    "        \"Post\": \"./Original_data/hotel_data_Madrid_MWC.csv\",\n",
    "        \"Pre\": \"./Original_data/hotels_madrid_after_MWC.csv\",\n",
    "    },\n",
    "}"
   ]
  },
  {
   "cell_type": "markdown",
   "metadata": {},
   "source": [
    "#### Load Data:"
   ]
  },
  {
   "cell_type": "code",
   "execution_count": 23,
   "metadata": {},
   "outputs": [],
   "source": [
    "dataframes = {city: {key: pd.read_csv(path) for key, path in city_files.items()} for city, city_files in files.items()}"
   ]
  },
  {
   "cell_type": "markdown",
   "metadata": {},
   "source": [
    "#### Inspect the data frames:\n",
    "\n",
    "Print column names for each dataframe:"
   ]
  },
  {
   "cell_type": "code",
   "execution_count": 24,
   "metadata": {},
   "outputs": [
    {
     "name": "stdout",
     "output_type": "stream",
     "text": [
      "Barcelona - Post:\n",
      "Index(['Name', 'Price', 'Rating', 'Detail Link', 'Description'], dtype='object')\n",
      "\n",
      "\n",
      "Barcelona - Pre:\n",
      "Index(['Name', 'Price', 'Rating', 'Detail Link', 'Description'], dtype='object')\n",
      "\n",
      "\n",
      "Madrid - Post:\n",
      "Index(['Name', 'Price', 'Rating', 'Detail Link', 'Description'], dtype='object')\n",
      "\n",
      "\n",
      "Madrid - Pre:\n",
      "Index(['Name', 'Price', 'Rating', 'Detail Link', 'Description'], dtype='object')\n",
      "\n",
      "\n"
     ]
    }
   ],
   "source": [
    "for city, periods in dataframes.items():\n",
    "    for period, df in periods.items():\n",
    "        print(f\"{city} - {period}:\")\n",
    "        print(df.columns)\n",
    "        print(\"\\n\")"
   ]
  },
  {
   "cell_type": "markdown",
   "metadata": {},
   "source": [
    "#### Preparing the Dataframes\n",
    "\n",
    "We want that pre and post treatment we have the same units (here \"hotels\") in each of the groups (here \"city\"). \n",
    "\n",
    "Filter Out Rows with Empty Names, or missing values for any of the columns:"
   ]
  },
  {
   "cell_type": "code",
   "execution_count": 25,
   "metadata": {},
   "outputs": [],
   "source": [
    "for city, periods in dataframes.items():\n",
    "    for period, df in periods.items():\n",
    "        # Drop rows with missing values in any column\n",
    "        dataframes[city][period] = df.dropna(how='any')"
   ]
  },
  {
   "cell_type": "markdown",
   "metadata": {},
   "source": [
    "Retain Only Names Present in Both Pre and Post:"
   ]
  },
  {
   "cell_type": "code",
   "execution_count": 26,
   "metadata": {},
   "outputs": [],
   "source": [
    "for city, periods in dataframes.items():\n",
    "    # Get the intersection of names in Pre and Post datasets\n",
    "    common_names = set(periods['Pre']['Name']).intersection(set(periods['Post']['Name']))\n",
    "    \n",
    "    # Filter rows in both Pre and Post to only include these common names\n",
    "    dataframes[city]['Pre'] = periods['Pre'][periods['Pre']['Name'].isin(common_names)]\n",
    "    dataframes[city]['Post'] = periods['Post'][periods['Post']['Name'].isin(common_names)]"
   ]
  },
  {
   "cell_type": "markdown",
   "metadata": {},
   "source": [
    "Verify Results:"
   ]
  },
  {
   "cell_type": "code",
   "execution_count": 27,
   "metadata": {},
   "outputs": [
    {
     "name": "stdout",
     "output_type": "stream",
     "text": [
      "Barcelona - Pre dataset shape: (409, 5)\n",
      "Barcelona - Post dataset shape: (409, 5)\n",
      "Barcelona - Common Names: 409\n",
      "Madrid - Pre dataset shape: (536, 5)\n",
      "Madrid - Post dataset shape: (536, 5)\n",
      "Madrid - Common Names: 536\n"
     ]
    }
   ],
   "source": [
    "for city, periods in dataframes.items():\n",
    "    print(f\"{city} - Pre dataset shape: {periods['Pre'].shape}\")\n",
    "    print(f\"{city} - Post dataset shape: {periods['Post'].shape}\")\n",
    "    print(f\"{city} - Common Names: {len(set(periods['Pre']['Name']).intersection(set(periods['Post']['Name'])))}\")"
   ]
  },
  {
   "cell_type": "markdown",
   "metadata": {},
   "source": [
    "Check for duplicates:"
   ]
  },
  {
   "cell_type": "code",
   "execution_count": 28,
   "metadata": {},
   "outputs": [
    {
     "name": "stdout",
     "output_type": "stream",
     "text": [
      "Barcelona - Post:\n",
      "Total Names: 409, Duplicates: 0\n",
      "\n",
      "\n",
      "Barcelona - Pre:\n",
      "Total Names: 409, Duplicates: 0\n",
      "\n",
      "\n",
      "Madrid - Post:\n",
      "Total Names: 536, Duplicates: 0\n",
      "\n",
      "\n",
      "Madrid - Pre:\n",
      "Total Names: 536, Duplicates: 0\n",
      "\n",
      "\n"
     ]
    }
   ],
   "source": [
    "for city, periods in dataframes.items():\n",
    "    for period, df in periods.items():\n",
    "        # Check for duplicates in the 'Name' column\n",
    "        duplicate_count = df['Name'].duplicated().sum()  # Count duplicates\n",
    "        total_names = df['Name'].shape[0]  # Total number of rows\n",
    "        print(f\"{city} - {period}:\")\n",
    "        print(f\"Total Names: {total_names}, Duplicates: {duplicate_count}\")\n",
    "        \n",
    "        if duplicate_count > 0:\n",
    "            # Display duplicate rows\n",
    "            duplicates = df[df['Name'].duplicated(keep=False)]\n",
    "            print(\"Duplicate Names:\")\n",
    "            print(duplicates[['Name']])\n",
    "        print(\"\\n\")"
   ]
  },
  {
   "cell_type": "markdown",
   "metadata": {},
   "source": [
    "Since we do not have any dublicates, we don't need to further filter some observations, i.e. the names uniquely identify each hotel."
   ]
  },
  {
   "cell_type": "markdown",
   "metadata": {},
   "source": [
    "#### Convert the Price to numeric:"
   ]
  },
  {
   "cell_type": "code",
   "execution_count": 29,
   "metadata": {},
   "outputs": [],
   "source": [
    "for city, periods in dataframes.items():\n",
    "    for period, df in periods.items():\n",
    "        # Remove all non-numeric characters (e.g., € and spaces) and dots (thousands separators)\n",
    "        df['Price'] = (\n",
    "            df['Price']\n",
    "            .astype(str)  # Ensure the column is treated as strings\n",
    "            .str.replace(r'[^\\d]', '', regex=True)  # Remove non-numeric characters\n",
    "            .astype(int)  # Convert cleaned strings to integers\n",
    "        )"
   ]
  },
  {
   "cell_type": "markdown",
   "metadata": {},
   "source": [
    "Verify the changes:"
   ]
  },
  {
   "cell_type": "code",
   "execution_count": 30,
   "metadata": {},
   "outputs": [
    {
     "name": "stdout",
     "output_type": "stream",
     "text": [
      "--- Barcelona - Post ---\n",
      "                                     Name  Price\n",
      "0                         Tembo Barcelona   2821\n",
      "1          Hesperia Barcelona Barri Gòtic   2311\n",
      "2                           Royal Ramblas   3519\n",
      "3  Axel TWO Barcelona 4 Sup - Adults Only   2119\n",
      "4                           TSA La Rambla   2235\n",
      "\n",
      "\n",
      "--- Barcelona - Pre ---\n",
      "                             Name  Price\n",
      "0         chic&basic Habana Hoose   1075\n",
      "4                    Hotel Market    807\n",
      "5   Travelodge Barcelona Poblenou    651\n",
      "8                       Exe Mitre    735\n",
      "10                  Hotel Condado    696\n",
      "\n",
      "\n",
      "--- Madrid - Post ---\n",
      "                             Name  Price\n",
      "0              BYPILLOW Crosstown    891\n",
      "1  Only YOU Boutique Hotel Madrid   1818\n",
      "2             Hostal Flat55Madrid    571\n",
      "3                     Hostal Adis    869\n",
      "4   ITC Infantas by Soho Boutique   1173\n",
      "\n",
      "\n",
      "--- Madrid - Pre ---\n",
      "                                   Name  Price\n",
      "0               Hostal New Dream Madrid    576\n",
      "1                      Sonder Santa Ana   1147\n",
      "4  Hostal A Nuestra Senora de La Paloma    726\n",
      "6                    Hostal María Luisa    529\n",
      "7                    Edificio Leganitos    883\n",
      "\n",
      "\n"
     ]
    }
   ],
   "source": [
    "for city, periods in dataframes.items():\n",
    "    for period, df in periods.items():\n",
    "        print(f\"--- {city} - {period} ---\")\n",
    "        print(df[['Name', 'Price']].head())  # Show the 'Name' and cleaned 'Price' columns\n",
    "        print(\"\\n\")"
   ]
  },
  {
   "cell_type": "markdown",
   "metadata": {},
   "source": [
    "##### Deleting the Link column:"
   ]
  },
  {
   "cell_type": "code",
   "execution_count": 34,
   "metadata": {},
   "outputs": [],
   "source": [
    "for city, periods in dataframes.items():\n",
    "    for period, df in periods.items():\n",
    "        # Drop the 'Detail Link' column if it exists\n",
    "        if 'Detail Link' in df.columns:\n",
    "            df.drop(columns=['Detail Link'], inplace=True)"
   ]
  },
  {
   "cell_type": "markdown",
   "metadata": {},
   "source": [
    "#### Convert the Ranking to numeric:"
   ]
  },
  {
   "cell_type": "code",
   "execution_count": 35,
   "metadata": {},
   "outputs": [],
   "source": [
    "for city, periods in dataframes.items():\n",
    "    for period, df in periods.items():\n",
    "        if 'Rating' in df.columns:\n",
    "            # Extract numeric values, replace commas with dots, and convert to float\n",
    "            df['Rating'] = (\n",
    "                df['Rating']\n",
    "                .astype(str)  # Ensure all values are strings\n",
    "                .str.extract(r'(\\d+,\\d+)')  # Extract only the first valid number\n",
    "                .replace(',', '.', regex=True)  # Replace comma with dot\n",
    "                .astype(float)  # Convert to float\n",
    "            )"
   ]
  },
  {
   "cell_type": "markdown",
   "metadata": {},
   "source": [
    "Verify the changes:"
   ]
  },
  {
   "cell_type": "code",
   "execution_count": 37,
   "metadata": {},
   "outputs": [
    {
     "name": "stdout",
     "output_type": "stream",
     "text": [
      "--- Barcelona - Post ---\n",
      "                                     Name  Rating\n",
      "0                         Tembo Barcelona    8.88\n",
      "1          Hesperia Barcelona Barri Gòtic    8.78\n",
      "2                           Royal Ramblas    8.38\n",
      "3  Axel TWO Barcelona 4 Sup - Adults Only    8.38\n",
      "4                           TSA La Rambla    9.19\n",
      "\n",
      "\n",
      "--- Barcelona - Pre ---\n",
      "                             Name  Rating\n",
      "0         chic&basic Habana Hoose    8.58\n",
      "4                    Hotel Market    7.67\n",
      "5   Travelodge Barcelona Poblenou    7.37\n",
      "8                       Exe Mitre    8.38\n",
      "10                  Hotel Condado    8.58\n",
      "\n",
      "\n",
      "--- Madrid - Post ---\n",
      "                             Name  Rating\n",
      "0              BYPILLOW Crosstown    8.78\n",
      "1  Only YOU Boutique Hotel Madrid    9.39\n",
      "2             Hostal Flat55Madrid    8.08\n",
      "3                     Hostal Adis    8.48\n",
      "4   ITC Infantas by Soho Boutique    8.28\n",
      "\n",
      "\n",
      "--- Madrid - Pre ---\n",
      "                                   Name  Rating\n",
      "0               Hostal New Dream Madrid    7.97\n",
      "1                      Sonder Santa Ana    8.68\n",
      "4  Hostal A Nuestra Senora de La Paloma    8.48\n",
      "6                    Hostal María Luisa    8.08\n",
      "7                    Edificio Leganitos    8.18\n",
      "\n",
      "\n"
     ]
    }
   ],
   "source": [
    "for city, periods in dataframes.items():\n",
    "    for period, df in periods.items():\n",
    "        print(f\"--- {city} - {period} ---\")\n",
    "        print(df[['Name', 'Rating']].head())  # Show the 'Name' and cleaned 'Price' columns\n",
    "        print(\"\\n\")"
   ]
  },
  {
   "cell_type": "markdown",
   "metadata": {},
   "source": [
    "#### Summarize and Compare:"
   ]
  },
  {
   "cell_type": "code",
   "execution_count": 38,
   "metadata": {},
   "outputs": [
    {
     "name": "stdout",
     "output_type": "stream",
     "text": [
      "Barcelona - Post: Avg Price = 2605.51, Avg Score = 8.28\n",
      "Barcelona - Pre: Avg Price = 1189.0, Avg Score = 8.28\n",
      "Madrid - Post: Avg Price = 1140.85, Avg Score = 7.82\n",
      "Madrid - Pre: Avg Price = 1169.32, Avg Score = 7.83\n"
     ]
    }
   ],
   "source": [
    "for city, periods in dataframes.items():\n",
    "    for period, df in periods.items():\n",
    "        avg_price = round(df['Price'].mean(), 2)  # Round average price to 2 decimal places\n",
    "        avg_score = round(df['Rating'].mean(), 2)  # Round average score to 2 decimal places\n",
    "        print(f\"{city} - {period}: Avg Price = {avg_price}, Avg Score = {avg_score}\")"
   ]
  },
  {
   "cell_type": "markdown",
   "metadata": {},
   "source": [
    "As expected, the rankings are the same, and we see changes in the price."
   ]
  },
  {
   "cell_type": "markdown",
   "metadata": {},
   "source": [
    "## (a) Preprocess the Text "
   ]
  },
  {
   "cell_type": "markdown",
   "metadata": {},
   "source": [
    "##### Looking at the first few descriptions:"
   ]
  },
  {
   "cell_type": "code",
   "execution_count": null,
   "metadata": {},
   "outputs": [
    {
     "name": "stdout",
     "output_type": "stream",
     "text": [
      "--- Barcelona - Post ---\n",
      "                                     Name  \\\n",
      "0                         Tembo Barcelona   \n",
      "1          Hesperia Barcelona Barri Gòtic   \n",
      "2                           Royal Ramblas   \n",
      "3  Axel TWO Barcelona 4 Sup - Adults Only   \n",
      "4                           TSA La Rambla   \n",
      "\n",
      "                                         Description  \n",
      "0  Tembo Barcelona está en Barcelona, a 16 min a ...  \n",
      "1  Hesperia Barcelona Barri Gòtic es un alojamien...  \n",
      "2  El Royal Ramblas está ubicado en las famosas R...  \n",
      "3  El TWO Hotel Barcelona by Axel está situado en...  \n",
      "4  TSA La Rambla, que cuenta con terraza y wifi g...  \n",
      "\n",
      "\n",
      "--- Barcelona - Pre ---\n",
      "                             Name  \\\n",
      "0         chic&basic Habana Hoose   \n",
      "4                    Hotel Market   \n",
      "5   Travelodge Barcelona Poblenou   \n",
      "8                       Exe Mitre   \n",
      "10                  Hotel Condado   \n",
      "\n",
      "                                          Description  \n",
      "0   Chic&basic Habana Hoose es un alojamiento con ...  \n",
      "4   El Hotel Market se encuentra en Barcelona, jun...  \n",
      "5   Este moderno hotel cuenta con 250 amplias y co...  \n",
      "8   El Exe Mitre goza de una ubicación tranquila e...  \n",
      "10  El Hotel Condado se encuentra a 200 metros de ...  \n",
      "\n",
      "\n",
      "--- Madrid - Post ---\n",
      "                             Name  \\\n",
      "0              BYPILLOW Crosstown   \n",
      "1  Only YOU Boutique Hotel Madrid   \n",
      "2             Hostal Flat55Madrid   \n",
      "3                     Hostal Adis   \n",
      "4   ITC Infantas by Soho Boutique   \n",
      "\n",
      "                                         Description  \n",
      "0  BYPILLOW Crosstown es un alojamiento de 3 estr...  \n",
      "1  El Only You Boutique Hotel Madrid es un hotel ...  \n",
      "2  Este luminoso y colorido hostal te permitirá d...  \n",
      "3  El Hostal Adis se encuentra en el centro de Ma...  \n",
      "4  El ITC Infantas by Soho Boutique está ubicado ...  \n",
      "\n",
      "\n",
      "--- Madrid - Pre ---\n",
      "                                   Name  \\\n",
      "0               Hostal New Dream Madrid   \n",
      "1                      Sonder Santa Ana   \n",
      "4  Hostal A Nuestra Senora de La Paloma   \n",
      "6                    Hostal María Luisa   \n",
      "7                    Edificio Leganitos   \n",
      "\n",
      "                                         Description  \n",
      "0  Hostal New Dream Madrid es un alojamiento muy ...  \n",
      "1  Sonder Santa Ana está en el centro de Madrid, ...  \n",
      "4  Este hostal económico goza de una ubicación ex...  \n",
      "6  El Hostal María Luisa se encuentra en el anima...  \n",
      "7  Edificio Leganitos está en el centro de Madrid...  \n",
      "\n",
      "\n"
     ]
    }
   ],
   "source": [
    "for city, periods in dataframes.items():\n",
    "    for period, df in periods.items():\n",
    "        print(f\"--- {city} - {period} ---\")\n",
    "        print(df[['Name', 'Description']].head())  \n",
    "        print(\"\\n\")"
   ]
  },
  {
   "cell_type": "markdown",
   "metadata": {},
   "source": [
    "##### Check whether descriptions match for both observation times:"
   ]
  },
  {
   "cell_type": "code",
   "execution_count": 41,
   "metadata": {},
   "outputs": [
    {
     "name": "stdout",
     "output_type": "stream",
     "text": [
      "--- Barcelona: Description Differences ---\n",
      "                Name  \\\n",
      "227  Sagrada Familia   \n",
      "238      Casa Lolita   \n",
      "\n",
      "                                                                                                                                                                                                                                                                                                                                                                                                                                                                                                                                                                                                                                                                                                            Description_Pre  \\\n",
      "227                                                                                                         Sagrada Familia se encuentra en Barcelona, a 11 min a pie de Sagrada Familia y a 2,5 km de La Pedrera, y ofrece alojamiento con equipamiento como wifi gratis y TV de pantalla plana. Este apartamento está a 3 km de Casa Batlló y a 3,1 km de Paseo de Gracia.\\n\\nEste apartamento con aire acondicionado se compone de 2 dormitorios independientes, una cocina totalmente equipada con lavavajillas y tostadora, y 1 baño.\\n\\nEstación de metro Passeig de Gràcia está a 3,4 km del alojamiento, y Teatro Tívoli está a 3,6 km. El aeropuerto más cercano (Aeropuerto de Barcelona - El Prat) está a 16 km.   \n",
      "238  Casa Lolita es un alojamiento con una ubicación ideal en el centro de Barcelona que ofrece habitaciones con aire acondicionado y wifi gratis y parking privado. Este alojamiento, que tiene cocina compartida, también ofrece terraza. Algunas habitaciones del alojamiento tienen un balcón con vistas a la ciudad.\\n\\nEn el hostal o pensión, todas las habitaciones están equipadas con armario y TV de pantalla plana, y algunas también ofrecen patio. En Casa Lolita, cada habitación dispone de ropa de cama y toallas.\\n\\nCerca del alojamiento hay puntos de interés como Paseo de Gracia, Estación de metro Passeig de Gràcia y Casa Batlló. El aeropuerto (Aeropuerto de Barcelona - El Prat) está a 14 km.   \n",
      "\n",
      "                                                                                                                                                                                                                                                                                                                                                                                                                                                                                                                                                                                                                                                                                                                                    Description_Post  \n",
      "227                                                                                                                                                      Sagrada Familia se encuentra en el barrio de Eixample, en Barcelona, cerca de Sagrada Familia. Dispone de terraza, wifi gratis y lavadora. Este apartamento está a 2,9 km de Platja de la Nova Icària y a 19 min a pie de Estación de metro Passeig de Gràcia.\\n\\nEste apartamento con aire acondicionado se compone de 1 dormitorio independiente, una cocina totalmente equipada y 1 baño. Se ofrece TV de pantalla plana.\\n\\nCerca del alojamiento hay puntos de interés como La Pedrera, Casa Batlló y Paseo de Gracia. El aeropuerto (Aeropuerto de Barcelona - El Prat) está a 14 km.  \n",
      "238  Casa Lolita es un alojamiento con una ubicación ideal en Barcelona que ofrece terraza, wifi gratis y habitaciones con aire acondicionado. Este alojamiento está muy cerca de lugares de interés como Teatro Tívoli, Palacio de la Música Catalana y La Pedrera. Algunas habitaciones del alojamiento tienen un balcón con vistas a la ciudad.\\n\\nEn el hostal o pensión, todas las habitaciones están equipadas con armario y TV de pantalla plana, y algunas también ofrecen patio. En Casa Lolita, cada habitación dispone de ropa de cama y toallas.\\n\\nCerca del alojamiento hay puntos de interés como Paseo de Gracia, Estación de metro Passeig de Gràcia y Casa Batlló. El aeropuerto (Aeropuerto de Barcelona - El Prat) está a 14 km.  \n",
      "\n",
      "\n",
      "--- Madrid: Description Differences ---\n",
      "                        Name  \\\n",
      "471  BNBHolder Joyful Centre   \n",
      "\n",
      "                                                                                                                                                                                                                                                                                                                                                                                                                                                                                                                                                                                                                                                       Description_Pre  \\\n",
      "471  BNBHolder Joyful Centre se encuentra en el corazón de Madrid, a poca distancia de Museo Reina Sofía y Estación de tren de Atocha. Ofrece equipamiento como wifi gratis, aire acondicionado, nevera y cafetera. Este apartamento está a 1,7 km de Parque de El Retiro y a 12 min a pie de Puerta del Sol.\\n\\nEl apartamento tiene TV. El apartamento también dispone de una cocina bien equipada con lavavajillas, horno y microondas, y también hay secador de pelo.\\n\\nCerca del alojamiento hay puntos de interés como Plaza Mayor de Madrid, Mercado de San Miguel y Puerta de Toledo. El aeropuerto (Aeropuerto Adolfo Suárez Madrid - Barajas) está a 14 km.   \n",
      "\n",
      "                                                                                                                                                                                                                                                                                                                                                                                                                                                                                                                                                                                                                                                                               Description_Post  \n",
      "471  BNBHolder Joyful Centre se encuentra en el corazón de Madrid, a poca distancia de Museo Reina Sofía y Estación de tren de Atocha. Ofrece equipamiento como wifi gratis, aire acondicionado, horno y cafetera. Este apartamento está a 1,7 km de Parque de El Retiro y a 12 min a pie de Puerta del Sol.\\n\\nEl apartamento tiene 1 dormitorio, una cocina con nevera y lavavajillas, y 1 baño con ducha, secador de pelo y lavadora. Hay toallas y ropa de cama en el apartamento.\\n\\nCerca del alojamiento hay puntos de interés como Plaza Mayor de Madrid, Mercado de San Miguel y Puerta de Toledo. El aeropuerto más cercano (Aeropuerto Adolfo Suárez Madrid - Barajas) está a 14 km.  \n",
      "\n",
      "\n"
     ]
    }
   ],
   "source": [
    "pd.set_option('display.max_colwidth', None) # to see the full descriptions\n",
    "\n",
    "for city, periods in dataframes.items():\n",
    "    # Merge the Pre and Post dataframes on 'Name'\n",
    "    merged_df = periods['Pre'].merge(periods['Post'], on='Name', suffixes=('_Pre', '_Post'))\n",
    "    \n",
    "    mismatched = merged_df[merged_df['Description_Pre'] != merged_df['Description_Post']]\n",
    "    \n",
    "    print(f\"--- {city}: Description Differences ---\")\n",
    "    if mismatched.empty:\n",
    "        print(\"All descriptions match!\")\n",
    "    else:\n",
    "        print(mismatched[['Name', 'Description_Pre', 'Description_Post']])\n",
    "    print(\"\\n\")"
   ]
  },
  {
   "cell_type": "markdown",
   "metadata": {},
   "source": [
    "#### Normalize and Remove Special Characters:"
   ]
  },
  {
   "cell_type": "code",
   "execution_count": null,
   "metadata": {},
   "outputs": [],
   "source": [
    "for city, periods in dataframes.items():\n",
    "    for period, df in periods.items():\n",
    "        df['Description'] = df['Description'].str.replace(r'[√©√±]', '', regex=True)"
   ]
  },
  {
   "cell_type": "markdown",
   "metadata": {},
   "source": [
    "#### Tokenize, Remove Stop Words, and Stem:"
   ]
  },
  {
   "cell_type": "code",
   "execution_count": null,
   "metadata": {},
   "outputs": [],
   "source": [
    "stop_words = set(stopwords.words('spanish'))  # Spanish stop words\n",
    "stemmer = PorterStemmer()\n",
    "\n",
    "def preprocess_text(text):\n",
    "    tokens = word_tokenize(text.lower())\n",
    "    filtered_tokens = [stemmer.stem(word) for word in tokens if word.isalnum() and word not in stop_words]\n",
    "    return ' '.join(filtered_tokens)\n",
    "\n",
    "for city, periods in dataframes.items():\n",
    "    for period, df in periods.items():\n",
    "        df['Cleaned_Description'] = df['Description'].apply(preprocess_text)"
   ]
  },
  {
   "cell_type": "markdown",
   "metadata": {},
   "source": [
    "## (b) Create Word Clouds:"
   ]
  },
  {
   "cell_type": "code",
   "execution_count": null,
   "metadata": {},
   "outputs": [],
   "source": [
    "def generate_wordcloud(text, title):\n",
    "    wordcloud = WordCloud(width=800, height=400, background_color='white').generate(' '.join(text))\n",
    "    plt.figure(figsize=(10, 5))\n",
    "    plt.imshow(wordcloud, interpolation='bilinear')\n",
    "    plt.title(title)\n",
    "    plt.axis('off')\n",
    "    plt.show()\n",
    "\n",
    "for city, periods in dataframes.items():\n",
    "    for period, df in periods.items():\n",
    "        # Raw text word cloud\n",
    "        generate_wordcloud(df['Description'], f\"{city} - {period} (Raw)\")\n",
    "\n",
    "        # Preprocessed text word cloud\n",
    "        generate_wordcloud(df['Cleaned_Description'], f\"{city} - {period} (Cleaned)\")"
   ]
  },
  {
   "cell_type": "markdown",
   "metadata": {},
   "source": [
    "####  Save Cleaned Data:"
   ]
  },
  {
   "cell_type": "code",
   "execution_count": null,
   "metadata": {},
   "outputs": [],
   "source": [
    "for city, periods in dataframes.items():\n",
    "    for period, df in periods.items():\n",
    "        df.to_csv(f\"{city}_{period}_cleaned.csv\", index=False)"
   ]
  }
 ],
 "metadata": {
  "kernelspec": {
   "display_name": "base",
   "language": "python",
   "name": "python3"
  },
  "language_info": {
   "codemirror_mode": {
    "name": "ipython",
    "version": 3
   },
   "file_extension": ".py",
   "mimetype": "text/x-python",
   "name": "python",
   "nbconvert_exporter": "python",
   "pygments_lexer": "ipython3",
   "version": "3.12.2"
  }
 },
 "nbformat": 4,
 "nbformat_minor": 2
}
