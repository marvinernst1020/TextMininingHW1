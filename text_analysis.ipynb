{
 "cells": [
  {
   "cell_type": "markdown",
   "metadata": {},
   "source": [
    "# Homework 1: Text Mining\n",
    "## Part 2: Text analysis\n",
    "\n",
    "Group Members: Matias Borrel, Pol Garcia, Marvin Ernst"
   ]
  },
  {
   "cell_type": "markdown",
   "metadata": {},
   "source": [
    "#### Importing relevant Libraries:"
   ]
  },
  {
   "cell_type": "code",
   "execution_count": 6,
   "metadata": {},
   "outputs": [
    {
     "name": "stderr",
     "output_type": "stream",
     "text": [
      "[nltk_data] Downloading package stopwords to\n",
      "[nltk_data]     /Users/polgarcia/nltk_data...\n",
      "[nltk_data]   Package stopwords is already up-to-date!\n",
      "[nltk_data] Downloading package punkt to /Users/polgarcia/nltk_data...\n",
      "[nltk_data]   Package punkt is already up-to-date!\n",
      "[nltk_data] Downloading package punkt_tab to\n",
      "[nltk_data]     /Users/polgarcia/nltk_data...\n",
      "[nltk_data]   Package punkt_tab is already up-to-date!\n"
     ]
    }
   ],
   "source": [
    "import os\n",
    "import pandas as pd\n",
    "from wordcloud import WordCloud\n",
    "import matplotlib.pyplot as plt\n",
    "import nltk\n",
    "import re\n",
    "nltk.download('stopwords')\n",
    "nltk.download('punkt')\n",
    "nltk.download('punkt_tab')\n",
    "from nltk.corpus import stopwords\n",
    "from nltk.tokenize import word_tokenize, sent_tokenize\n",
    "from nltk.stem import PorterStemmer, SnowballStemmer\n",
    "import unidecode\n",
    "from textblob import TextBlob  # For sentiment analysis - we have seen this in our statistics course already, when we had to analyze hotel reviews for homework 3 last term."
   ]
  },
  {
   "cell_type": "markdown",
   "metadata": {},
   "source": [
    "#### Define file paths:"
   ]
  },
  {
   "cell_type": "code",
   "execution_count": 73,
   "metadata": {},
   "outputs": [],
   "source": [
    "files = {\n",
    "    \"Barcelona\": {\n",
    "        \"During\": \"./epico/hotels_barcelona_MWC.csv\",\n",
    "        \"Post\": \"./epico/hotels_barcelona_after_MWC.csv\",\n",
    "    },\n",
    "    \"Madrid\": {\n",
    "        \"During\": \"./epico/hotels_madrid_MWC.csv\",\n",
    "        \"Post\": \"./epico/hotels_madrid_after_MWC.csv\",\n",
    "    },\n",
    "}"
   ]
  },
  {
   "cell_type": "markdown",
   "metadata": {},
   "source": [
    "#### Load Data:"
   ]
  },
  {
   "cell_type": "code",
   "execution_count": 74,
   "metadata": {},
   "outputs": [],
   "source": [
    "dataframes = {city: {key: pd.read_csv(path) for key, path in city_files.items()} for city, city_files in files.items()}"
   ]
  },
  {
   "cell_type": "markdown",
   "metadata": {},
   "source": [
    "#### Inspect the data frames:\n",
    "\n",
    "Print column names for each dataframe:"
   ]
  },
  {
   "cell_type": "code",
   "execution_count": 75,
   "metadata": {},
   "outputs": [
    {
     "name": "stdout",
     "output_type": "stream",
     "text": [
      "Barcelona - During:\n",
      "Index(['Name', 'Price', 'Rating', 'Detail Link', 'stars', 'center',\n",
      "       'num_coments', 'Description'],\n",
      "      dtype='object')\n",
      "\n",
      "\n",
      "Barcelona - Post:\n",
      "Index(['Name', 'Price', 'Rating', 'Detail Link', 'stars', 'center',\n",
      "       'num_coments', 'Description'],\n",
      "      dtype='object')\n",
      "\n",
      "\n",
      "Madrid - During:\n",
      "Index(['Name', 'Price', 'Rating', 'Detail Link', 'stars', 'center',\n",
      "       'num_coments', 'Description'],\n",
      "      dtype='object')\n",
      "\n",
      "\n",
      "Madrid - Post:\n",
      "Index(['Name', 'Price', 'Rating', 'Detail Link', 'stars', 'center',\n",
      "       'num_coments', 'Description'],\n",
      "      dtype='object')\n",
      "\n",
      "\n"
     ]
    }
   ],
   "source": [
    "for city, periods in dataframes.items():\n",
    "    for period, df in periods.items():\n",
    "        #df=df.drop('center',axis=1)\n",
    "        print(f\"{city} - {period}:\")\n",
    "        print(df.columns)\n",
    "        print(\"\\n\")"
   ]
  },
  {
   "cell_type": "code",
   "execution_count": 76,
   "metadata": {},
   "outputs": [
    {
     "name": "stdout",
     "output_type": "stream",
     "text": [
      "Barcelona - During dataset shape: (796, 8)\n",
      "Barcelona - Post dataset shape: (999, 8)\n",
      "Madrid - During dataset shape: (649, 8)\n",
      "Madrid - Post dataset shape: (976, 8)\n"
     ]
    }
   ],
   "source": [
    "for city, periods in dataframes.items():\n",
    "    print(f\"{city} - During dataset shape: {periods['During'].shape}\")\n",
    "    print(f\"{city} - Post dataset shape: {periods['Post'].shape}\")"
   ]
  },
  {
   "cell_type": "markdown",
   "metadata": {},
   "source": [
    "#### Preparing the Dataframes\n",
    "\n",
    "We want that during and post treatment we have the same units (here \"hotels\") in each of the groups (here \"city\"). \n",
    "\n",
    "Filter Out Rows with Empty Names, or missing values for any of the columns:"
   ]
  },
  {
   "cell_type": "code",
   "execution_count": 77,
   "metadata": {},
   "outputs": [],
   "source": [
    "for city, periods in dataframes.items():\n",
    "    for period, df in periods.items():\n",
    "        # Drop rows with missing values in any column\n",
    "        df = df.drop('center', axis=1, errors='ignore')\n",
    "        dataframes[city][period] = df.dropna(how='any')"
   ]
  },
  {
   "cell_type": "markdown",
   "metadata": {},
   "source": [
    "Retain Only Names Present in Both During and Post:"
   ]
  },
  {
   "cell_type": "code",
   "execution_count": 78,
   "metadata": {},
   "outputs": [],
   "source": [
    "for city, periods in dataframes.items():\n",
    "    # Get the intersection of names in During and Post datasets\n",
    "    common_names = set(periods['During']['Name']).intersection(set(periods['Post']['Name']))\n",
    "    \n",
    "    # Filter rows in both During and Post to only include these common names\n",
    "    dataframes[city]['During'] = periods['During'][periods['During']['Name'].isin(common_names)]\n",
    "    dataframes[city]['Post'] = periods['Post'][periods['Post']['Name'].isin(common_names)]"
   ]
  },
  {
   "cell_type": "markdown",
   "metadata": {},
   "source": [
    "Verify Results:"
   ]
  },
  {
   "cell_type": "code",
   "execution_count": 79,
   "metadata": {},
   "outputs": [
    {
     "name": "stdout",
     "output_type": "stream",
     "text": [
      "Barcelona - During dataset shape: (339, 7)\n",
      "Barcelona - Post dataset shape: (339, 7)\n",
      "Barcelona - Common Names: 339\n",
      "Madrid - During dataset shape: (402, 7)\n",
      "Madrid - Post dataset shape: (402, 7)\n",
      "Madrid - Common Names: 402\n"
     ]
    }
   ],
   "source": [
    "for city, periods in dataframes.items():\n",
    "    print(f\"{city} - During dataset shape: {periods['During'].shape}\")\n",
    "    print(f\"{city} - Post dataset shape: {periods['Post'].shape}\")\n",
    "    print(f\"{city} - Common Names: {len(set(periods['During']['Name']).intersection(set(periods['Post']['Name'])))}\")"
   ]
  },
  {
   "cell_type": "markdown",
   "metadata": {},
   "source": [
    "Check for duplicates:"
   ]
  },
  {
   "cell_type": "code",
   "execution_count": 80,
   "metadata": {},
   "outputs": [
    {
     "name": "stdout",
     "output_type": "stream",
     "text": [
      "Barcelona - During:\n",
      "Total Names: 339, Duplicates: 0\n",
      "\n",
      "\n",
      "Barcelona - Post:\n",
      "Total Names: 339, Duplicates: 0\n",
      "\n",
      "\n",
      "Madrid - During:\n",
      "Total Names: 402, Duplicates: 0\n",
      "\n",
      "\n",
      "Madrid - Post:\n",
      "Total Names: 402, Duplicates: 0\n",
      "\n",
      "\n"
     ]
    }
   ],
   "source": [
    "for city, periods in dataframes.items():\n",
    "    for period, df in periods.items():\n",
    "        # Check for duplicates in the 'Name' column\n",
    "        duplicate_count = df['Name'].duplicated().sum()  # Count duplicates\n",
    "        total_names = df['Name'].shape[0]  # Total number of rows\n",
    "        print(f\"{city} - {period}:\")\n",
    "        print(f\"Total Names: {total_names}, Duplicates: {duplicate_count}\")\n",
    "        \n",
    "        if duplicate_count > 0:\n",
    "            # Display duplicate rows\n",
    "            duplicates = df[df['Name'].duplicated(keep=False)]\n",
    "            print(\"Duplicate Names:\")\n",
    "            print(duplicates[['Name']])\n",
    "        print(\"\\n\")"
   ]
  },
  {
   "cell_type": "markdown",
   "metadata": {},
   "source": [
    "Since we do not have any dublicates, we don't need to further filter some observations, i.e. the names uniquely identify each hotel."
   ]
  },
  {
   "cell_type": "markdown",
   "metadata": {},
   "source": [
    "#### Convert the Price to numeric:"
   ]
  },
  {
   "cell_type": "code",
   "execution_count": 81,
   "metadata": {},
   "outputs": [],
   "source": [
    "for city, periods in dataframes.items():\n",
    "    for period, df in periods.items():\n",
    "        # Remove all non-numeric characters (e.g., € and spaces) and dots (thousands separators)\n",
    "        df['Price'] = (\n",
    "            df['Price']\n",
    "            .astype(str)  # Ensure the column is treated as strings\n",
    "            .str.replace(r'[^\\d]', '', regex=True)  # Remove non-numeric characters\n",
    "            .astype(int)  # Convert cleaned strings to integers\n",
    "        )"
   ]
  },
  {
   "cell_type": "markdown",
   "metadata": {},
   "source": [
    "Verify the changes:"
   ]
  },
  {
   "cell_type": "code",
   "execution_count": 82,
   "metadata": {},
   "outputs": [
    {
     "name": "stdout",
     "output_type": "stream",
     "text": [
      "--- Barcelona - During ---\n",
      "                                     Name  Price\n",
      "0                        Isabella's House   2142\n",
      "1                         Sonder Casa Luz   4870\n",
      "4  Axel TWO Barcelona 4 Sup - Adults Only   2149\n",
      "6                           Acta Voraport   1540\n",
      "7                         Tembo Barcelona   2840\n",
      "\n",
      "\n",
      "--- Barcelona - Post ---\n",
      "                            Name  Price\n",
      "0        chic&basic Habana Hoose   1075\n",
      "3                   Hotel Market    830\n",
      "6  Travelodge Barcelona Poblenou    656\n",
      "7                      Exe Mitre    744\n",
      "8                  Hotel Condado    698\n",
      "\n",
      "\n",
      "--- Madrid - During ---\n",
      "                                           Name  Price\n",
      "0                               Room Mate Oscar   1069\n",
      "1  El Autor Hotel, Madrid, Autograph Collection   2409\n",
      "2                                Hostal Mendoza    584\n",
      "4           Amor de Dios 17 Boutique Apartments    752\n",
      "5              Apartamento Plaza Mayor centrico    534\n",
      "\n",
      "\n",
      "--- Madrid - Post ---\n",
      "                       Name  Price\n",
      "0                New Go Inn    819\n",
      "1          Sonder Santa Ana   1103\n",
      "2    JC Rooms Santo Domingo    792\n",
      "7          Dobo Homes - D14    859\n",
      "8  Hostal Centro Sol Madrid    740\n",
      "\n",
      "\n"
     ]
    }
   ],
   "source": [
    "for city, periods in dataframes.items():\n",
    "    for period, df in periods.items():\n",
    "        print(f\"--- {city} - {period} ---\")\n",
    "        print(df[['Name', 'Price']].head())  # Show the 'Name' and cleaned 'Price' columns\n",
    "        print(\"\\n\")"
   ]
  },
  {
   "cell_type": "markdown",
   "metadata": {},
   "source": [
    "##### Deleting the Link column:"
   ]
  },
  {
   "cell_type": "code",
   "execution_count": 83,
   "metadata": {},
   "outputs": [],
   "source": [
    "for city, periods in dataframes.items():\n",
    "    for period, df in periods.items():\n",
    "        # Drop the 'Detail Link' column if it exists\n",
    "        if 'Detail Link' in df.columns:\n",
    "            df.drop(columns=['Detail Link'], inplace=True)"
   ]
  },
  {
   "cell_type": "markdown",
   "metadata": {},
   "source": [
    "#### Convert the Ranking to numeric (num_coments and star are already type float.):"
   ]
  },
  {
   "cell_type": "code",
   "execution_count": 84,
   "metadata": {},
   "outputs": [],
   "source": [
    "for city, periods in dataframes.items():\n",
    "    for period, df in periods.items():\n",
    "        if 'Rating' in df.columns:\n",
    "            # Extract numeric values, replace commas with dots, and convert to float\n",
    "            df['Rating'] = (\n",
    "                df['Rating']\n",
    "                .astype(str)  # Ensure all values are strings\n",
    "                .str.extract(r'(\\d+,\\d+)')  # Extract only the first valid number\n",
    "                .replace(',', '.', regex=True)  # Replace comma with dot\n",
    "                .astype(float)  # Convert to float\n",
    "            )"
   ]
  },
  {
   "cell_type": "code",
   "execution_count": 93,
   "metadata": {},
   "outputs": [
    {
     "name": "stdout",
     "output_type": "stream",
     "text": [
      "0      4.609\n",
      "1      1.991\n",
      "2      4.203\n",
      "7    166.000\n",
      "8      2.042\n",
      "Name: num_coments, dtype: float64\n"
     ]
    }
   ],
   "source": [
    "print(df['num_coments'].head())"
   ]
  },
  {
   "cell_type": "markdown",
   "metadata": {},
   "source": [
    "Verify the changes:"
   ]
  },
  {
   "cell_type": "code",
   "execution_count": 94,
   "metadata": {},
   "outputs": [
    {
     "name": "stdout",
     "output_type": "stream",
     "text": [
      "--- Barcelona - During ---\n",
      "                                     Name  Rating\n",
      "0                        Isabella's House    8.58\n",
      "1                         Sonder Casa Luz    8.48\n",
      "4  Axel TWO Barcelona 4 Sup - Adults Only    8.38\n",
      "6                           Acta Voraport    8.88\n",
      "7                         Tembo Barcelona    8.88\n",
      "\n",
      "\n",
      "--- Barcelona - Post ---\n",
      "                            Name  Rating\n",
      "0        chic&basic Habana Hoose    8.58\n",
      "3                   Hotel Market    7.67\n",
      "6  Travelodge Barcelona Poblenou    7.37\n",
      "7                      Exe Mitre    8.38\n",
      "8                  Hotel Condado    8.58\n",
      "\n",
      "\n",
      "--- Madrid - During ---\n",
      "                                           Name  Rating\n",
      "0                               Room Mate Oscar    8.78\n",
      "1  El Autor Hotel, Madrid, Autograph Collection    9.59\n",
      "2                                Hostal Mendoza    7.97\n",
      "4           Amor de Dios 17 Boutique Apartments    7.87\n",
      "5              Apartamento Plaza Mayor centrico    6.86\n",
      "\n",
      "\n",
      "--- Madrid - Post ---\n",
      "                       Name  Rating\n",
      "0                New Go Inn    8.28\n",
      "1          Sonder Santa Ana    8.68\n",
      "2    JC Rooms Santo Domingo    7.97\n",
      "7          Dobo Homes - D14    8.08\n",
      "8  Hostal Centro Sol Madrid    8.88\n",
      "\n",
      "\n"
     ]
    }
   ],
   "source": [
    "for city, periods in dataframes.items():\n",
    "    for period, df in periods.items():\n",
    "        print(f\"--- {city} - {period} ---\")\n",
    "        print(df[['Name', 'Rating']].head())  \n",
    "        print(\"\\n\")"
   ]
  },
  {
   "cell_type": "markdown",
   "metadata": {},
   "source": [
    "#### Summarize and Compare:"
   ]
  },
  {
   "cell_type": "code",
   "execution_count": 95,
   "metadata": {},
   "outputs": [
    {
     "name": "stdout",
     "output_type": "stream",
     "text": [
      "Barcelona - During: Avg Price = 2701.09, Avg Score = 8.36\n",
      "Barcelona - Post: Avg Price = 1179.2, Avg Score = 8.37\n",
      "Madrid - During: Avg Price = 1228.76, Avg Score = 8.0\n",
      "Madrid - Post: Avg Price = 1341.54, Avg Score = 8.0\n"
     ]
    }
   ],
   "source": [
    "for city, periods in dataframes.items():\n",
    "    for period, df in periods.items():\n",
    "        avg_price = round(df['Price'].mean(), 2)  # Round average price to 2 decimal places\n",
    "        avg_score = round(df['Rating'].mean(), 2)  # Round average score to 2 decimal places\n",
    "        print(f\"{city} - {period}: Avg Price = {avg_price}, Avg Score = {avg_score}\")"
   ]
  },
  {
   "cell_type": "markdown",
   "metadata": {},
   "source": [
    "As expected, the rankings are the same, and we see changes in the price."
   ]
  },
  {
   "cell_type": "markdown",
   "metadata": {},
   "source": [
    "## (a) Preprocess the Text "
   ]
  },
  {
   "cell_type": "markdown",
   "metadata": {},
   "source": [
    "##### Looking at the first few descriptions:"
   ]
  },
  {
   "cell_type": "code",
   "execution_count": 96,
   "metadata": {},
   "outputs": [
    {
     "name": "stdout",
     "output_type": "stream",
     "text": [
      "--- Barcelona - During ---\n",
      "                                     Name  \\\n",
      "0                        Isabella's House   \n",
      "1                         Sonder Casa Luz   \n",
      "4  Axel TWO Barcelona 4 Sup - Adults Only   \n",
      "6                           Acta Voraport   \n",
      "7                         Tembo Barcelona   \n",
      "\n",
      "                                                                                                                                                                                                                                                                                                                                                                                                                                                                                                                                                                                                                                                                                                                                                                                                                                                                                                                                                                                                                                                                                                                                                                                                                                                                                                                                                                                                                                                             Description  \n",
      "0                                                                                                                                                                                                                                                                                                                                                                                                                                                                                                                                                                                                                                                                                                                                                                                                    Isabella's House se encuentra a 2,9 km de Paseo de Gracia y ofrece alojamiento conrestaurante, bar y servicio de habitaciones. Hay wifi gratis en todo el alojamiento.\\n\\nEl alojamiento tiene aire acondicionado, cocina totalmente equipada y con zona de comedor, TV de pantalla plana y baño privado con bañera o ducha, artículos de aseo gratuitos y secador de pelo. También se ofrece nevera, microondas y fogones, además de cafetera y hervidor.\\n\\nEn el apartahotel se puede disfrutar de un desayuno continental.\\n\\nLa Pedrera está a 3 km del alojamiento, y Camp Nou está a 3,1 km. El aeropuerto (Aeropuerto de Barcelona - El Prat) está a 13 km.  \n",
      "1                                                                                                                                                                                                                                                                                                                                                                                                                                                                                                                                                                                                                                                                                                                                                                                                                                                                                                                                                                               El Sonder Casa Luz se encuentra en Barcelona y ofrece terraza, desayuno y servicio de limpieza gratuito. Los huéspedes podrán visitar el cercano museo de arte contemporáneo MACBA, el mercado de La Boquería y la Rambla del Raval.\\n\\nEl establecimiento alberga un restaurante.\\n\\nEntre los sitios de interés cercanos al hotel están el paseo de Gracia, la Casa Batlló y la plaza de Cataluña. El aeropuerto de El Prat, situado a 14 km del Sonder l Casa Luz, es el más cercano.  \n",
      "4  El TWO Hotel Barcelona by Axel está situado en pleno barrio gay de Barcelona, a 2 km de la playa de la Barceloneta, y alberga una piscina en la azotea con solárium amplio.\\n\\nEste hotel hetero friendly proporciona aparcamiento privado. También incluye recepción 24 horas y mostrador de información turística, donde se ofrece información sobre la ciudad y la zona gay. Además, la azotea alberga el bar Sky, un gimnasio, un baño de vapor y una sala de masajes.\\n\\nLas habitaciones están equipadas con aire acondicionado y minibar. El baño es privado y consta de ducha y secador de pelo. Además, las habitaciones incluyen caja fuerte y cargador universal para teléfonos móviles.\\n\\nEl alojamiento alberga un bar en la azotea con vistas impresionantes a la ciudad, así como un bar salón donde se preparan cócteles fabulosos. El alojamiento sirve un desayuno buffet todas las mañanas y ofrece WiFi gratuita de alta velocidad en todas las instalaciones.\\n\\nEl personal puede facilitar información sobre la zona de los alrededores, conocida como “Gayxample” debido a su animado ocio nocturno gay.\\n\\nEl hotel se encuentra a 2 minutos a pie de la estación de metro de Rocafort y a 10 minutos a pie de la plaza España, que ofrece enlace directo en autobús con el aeropuerto de Barcelona. El TWO Hotel Barcelona by Axel se encuentra a 1,3 km de la avenida del Paralelo, repleta de bares, restaurantes, discotecas y teatros.  \n",
      "6                                                                                                                                                                                                                                                                                                                                                                                                                                                                                                                                                     Acta Voraport está en Barcelona, a 10 min a pie de Platja del Bogatell, y dispone de alojamiento con piscina al aire libre, parking privado, terraza y restaurante. Este hotel de 3 estrellas ofrece bar y tiene habitaciones con aire acondicionado, wifi gratis y baño privado. El alojamiento ofrece cajero automático, servicio de conserjería y servicio de organización de tours.\\n\\nEn el hotel, cada habitación está equipada con escritorio y TV de pantalla plana. En Acta Voraport, cada habitación cuenta con ropa de cama y toallas.\\n\\nEn el alojamiento se sirve todas las mañanas un desayuno buffet.\\n\\nEn la recepción 24 horas se hablan varios idiomas, como catalán, inglés, español y francés.\\n\\nCerca del alojamiento hay puntos de interés como Playa de la Mar Bella, Platja de la Nova Icària y Platja del Somorrostro. El aeropuerto (Aeropuerto de Barcelona - El Prat) está a 15 km.  \n",
      "7                                                                                                                                                                                                                                                                                                                                                                                                                                                                                                                           Tembo Barcelona está en Barcelona, a 16 min a pie de Platja de Llevant, y dispone de alojamiento con piscina al aire libre, parking privado, centro de fitness y salón de uso común. Ofrece terraza, restaurante y bar. El alojamiento ofrece recepción 24 horas, traslado para ir o volver del aeropuerto, servicio de habitaciones y wifi gratis en todo el alojamiento.\\n\\nEn el hotel, las habitaciones cuentan con armario, TV de pantalla plana, baño privado, ropa de cama y toallas. Las habitaciones están equipadas con caja fuerte, y algunas también ofrecen vistas a la ciudad. Las unidades cuentan con nevera.\\n\\nEn Tembo Barcelona se puede disfrutar de un desayuno buffet.\\n\\nHay una cafetería en el alojamiento, y también se puede usar la zona business.\\n\\nPlatja del Fòrum está a 16 min a pie del alojamiento, y Platja del Litoral está a 1,9 km. El aeropuerto (Aeropuerto de Barcelona - El Prat) está a 17 km.  \n",
      "\n",
      "\n",
      "--- Barcelona - Post ---\n",
      "                            Name  \\\n",
      "0        chic&basic Habana Hoose   \n",
      "3                   Hotel Market   \n",
      "6  Travelodge Barcelona Poblenou   \n",
      "7                      Exe Mitre   \n",
      "8                  Hotel Condado   \n",
      "\n",
      "                                                                                                                                                                                                                                                                                                                                                                                                                                                                                                                                                                                                                                                                                                                                                                                                                                                                                                                                                                                                                                                                                                                                                                                                                                                                                                                                                                                                                                                 Description  \n",
      "0                                                                                                                                                                                                                                                                                                                                                                                                                                         Chic&basic Habana Hoose es un alojamiento con una ubicación excelente en Barcelona que ofrece restaurante, wifi gratis, bar y habitaciones con aire acondicionado. Este hotel de 3 estrellas ofrece servicio de conserjería y mostrador de información turística. Este alojamiento libre de humo se encuentra a 18 min a pie de Platja del Somorrostro.\\n\\nEn el hotel, todas las habitaciones tienen armario, TV de pantalla plana, baño privado, ropa de cama y toallas. Cada habitación dispone de caja fuerte, y algunas también ofrecen balcón.\\n\\nEn chic&basic Habana Hoose se puede disfrutar de un desayuno buffet.\\n\\nLa recepción ofrece ayuda de forma ininterrumpida, y el personal habla catalán, inglés y español.\\n\\nCerca del alojamiento hay puntos de interés como Platja de Sant Miquel, Platja de la Barceloneta y Santa María del Mar. El aeropuerto (Aeropuerto de Barcelona - El Prat) está a 12 km, y el alojamiento ofrece servicio de traslado de pago para ir o volver del aeropuerto.  \n",
      "3                                                                                                                                                                                                                                                                                                                                                                                                                                                               El Hotel Market se encuentra en Barcelona, junto al mercado de San Antonio y ​​a 10 minutos a pie del Museo de Arte Contemporáneo MACBA. El establecimiento ofrece habitaciones elegantes con ducha de efecto lluvia y WiFi gratuita. También alberga un restaurante muy frecuentado.\\n\\nLas habitaciones del Market Hotel presentan una decoración moderna y constan de vigas de madera oscura, paredes blancas y ventanas grandes. Todas las habitaciones incluyen baño privado. Algunas habitaciones cuentan con balcón o terraza.\\n\\nEl establecimiento se halla a 15 minutos a pie de la plaza de España y de la plaza Catalunya. Asimismo, el hotel está ubicado a unos 200 metros de la estación de metro Sant Antoni y a solo 2 minutos a pie de la parada del autobús que proporciona conexiones con el aeropuerto.\\n\\nEl restaurante del Market Hotel está especializado en platos de arroz y sirve una selección de platos de la cocina catalana moderna en un ambiente elegante.  \n",
      "6  Este moderno hotel cuenta con 250 amplias y completamente equipadas habitaciones, un Snack-Bar abierto las 24 horas donde los clientes pueden disfrutar de un desayuno buffet, así como comidas ligeras para el almuerzo y la cena. También dispone de máquinas expendedoras y parking privado de pago. Todas sus instalaciones están perfectamente adaptadas y accesibles para personas con movilidad reducida.\\nEs un hotel con WiFi de alta velocidad gratuito e ilimitado en las zonas comunes. También disponen de WiFi por un suplemento.\\nTravelodge Barcelona Poblenou es un hotel pet-friendly que estará encantado de ofrecerte a ti y a tu mascota la mejor experiencia.\\nSe encuentra en el tradicional barrio de Poblenou, dentro de calles llenas de restaurantes, bares y tiendas. Uno de los barrios con más encanto de la ciudad, ya 600 metros de la playa del Bogatell. Se puede llegar al centro de la ciudad de Barcelona en 10 minutos en metro y el Port Olímpic de Barcelona, con su vibrante vida nocturna, está a solo 20 minutos a pie.\\nEste es considerado el barrio más innovador de la ciudad. Está en pleno Distrito 22@ y concentra multitud de empresas tecnológicas y de I+D. Por tanto, gracias a su ubicación e instalaciones, también es un alojamiento perfecto para viajes de negocios.\\nTravelodge Barcelona Poblenou te ofrece todo lo que necesitas para tener la mejor experiencia en la ciudad de Barcelona.  \n",
      "7                                                                                                                                                                                                                                                                                                                                                                                                                                                                                                                                                                                                                                                          El Exe Mitre goza de una ubicación tranquila en el barrio de San Gervasi de Barcelona, ​​a 200 metros del parque del Putxet. Ofrece habitaciones amplias y WiFi gratuita.\\n\\nEl amplio desayuno buffet incluye platos fríos y calientes. Además, el atento personal estará encantado de recomendarle restaurantes y bares de la zona.\\n\\nLas elegantes habitaciones del Exe Mitre presentan una decoración clásica y están equipadas con TV de pantalla plana. Algunas también tienen una terraza con vistas a la montaña del Tibidado.\\n\\nEl Exe Mitre está a solo 15 minutos a pie del famoso Park Güell de Gaudí y a 200 metros de la estación de ferrocarril de Putxet, que conecta con el Passeig de Gràcia en solo 6 minutos. La plaza Catalunya y las Ramblas quedan a 8 minutos en metro.  \n",
      "8                                                                                                                                                                                                                                                                                                                                                                                                                                                                                                                                                                                                                                                                          El Hotel Condado se encuentra a 200 metros de la avenida Diagonal de Barcelona y a 10 minutos a pie de la estación de metro de Diagonal. Ofrece habitaciones elegantes con aire acondicionado, TV vía satélite y conexión Wi-Fi gratuita.\\n\\nLas habitaciones del Condado también cuentan con calefacción y baño privado con secador de pelo y artículos de aseo. Disponen de caja fuerte y un escritorio con un cable LAN para conectarse a internet de forma gratuita.\\n\\nEl desayuno se sirve en la cafetería del hotel, aunque también podrá tomarlo en su habitación.\\n\\nEl hotel dispone de recepción 24 horas y de mostrador de información turística, donde podrá alquilar un coche.\\n\\nLa Pedrera y la Casa Batlló, situadas en el paseo de Gracia, están a pocos pasos.  \n",
      "\n",
      "\n",
      "--- Madrid - During ---\n",
      "                                           Name  \\\n",
      "0                               Room Mate Oscar   \n",
      "1  El Autor Hotel, Madrid, Autograph Collection   \n",
      "2                                Hostal Mendoza   \n",
      "4           Amor de Dios 17 Boutique Apartments   \n",
      "5              Apartamento Plaza Mayor centrico   \n",
      "\n",
      "                                                                                                                                                                                                                                                                                                                                                                                                                                                                                                                                                                                                                                                                                                                                                                                                                                                                                                                                                                                                                                                                                                                                                                                                                                                                  Description  \n",
      "0                                                                                                                                                                                                                  El Room Mate Oscar es un hotel elegante ubicado en el centro de Madrid, entre la Gran Vía y la zona de Chueca. Cuenta con WiFi gratuita, bar en la azotea y habitaciones con TV de pantalla plana.\\n\\nEl Room Mate Oscar presenta una decoración elegante en colores vivos. Las habitaciones tienen aire acondicionado y son amplias y confortables. Además, disponen de minibar y baño totalmente equipado.\\n\\nEl restaurante del hotel sirve un desayuno buffet. La azotea alberga un bar con terraza y vistas fantásticas a Madrid. Se ofrecen comidas sin gluten bajo petición.\\n\\nHay salas para conferencias y reuniones. Se facilitan dispositivos WiFi portátiles.\\n\\nEl Room Mate Oscar Madrid se halla a unos 10 minutos a pie de numerosos bares, restaurantes y cafeterías. La Plaza Mayor y la zona de la Puerta del Sol quedan a menos de 800 metros. La estación de metro Gran Vía está a 5 minutos a pie del hotel.\\n\\nEste hotel ha sido galardonado por la calidad de sus instalaciones adaptadas para huéspedes con movilidad reducida.  \n",
      "1                                                                                                                                                                                                                                                                                                                              El Autor Hotel, Madrid, Autograph Collection, que cuenta con centro de fitness, restaurante y bar, se encuentra en el centro de Madrid, a 3 min a pie de Museo Thyssen-Bornemisza. Este hotel de 5 estrellas ofrece servicio de habitaciones y recepción 24 horas. Hay piscina cubierta y vistas a la ciudad.\\n\\nTodas las unidades en el hotel están equipadas con aire acondicionado, zona de estar, TV de pantalla plana con canales vía satélite, caja fuerte y baño privado con ducha, artículos de aseo gratuitos y secador de pelo. En El Autor Hotel, Madrid, Autograph Collection, todas las habitaciones cuentan con ropa de cama y toallas.\\n\\nEn el alojamiento se puede disfrutar de un desayuno buffet, a la carta o americano.\\n\\nCerca del alojamiento hay puntos de interés como Estación de metro Gran Vía, Parque de El Retiro y Museo Reina Sofía. El aeropuerto (Aeropuerto Adolfo Suárez Madrid - Barajas) está a 12 km.  \n",
      "2  El Hostal Mendoza, situado en el centro de la ciudad de Madrid y a solo 20 metros de la Gran Vía, dispone de habitaciones individuales o dobles modernas con conexión Wi-Fi gratuita y taquillas gratuitas. Hay aparcamiento público en los alrededores.\\n\\nTodas las habitaciones están insonorizadas y tienen aire acondicionado, suelo de madera, escritorio, TV de pantalla plana de 42 pulgadas con puerto USB, armario y baño privado con ducha, artículos de aseo gratuitos y toallas. Además, hay taquillas gratuitas.\\n\\nEl establecimiento está rodeado de discotecas y bares conocidos, restaurantes típicos, tiendas y lugares de interés cultural. Además, se encuentra a 350 metros de la Puerta del Sol y a menos de 3 minutos a pie de El Corte Inglés.\\n\\nEl Hostal Mendoza se encuentra en una calle tranquila del centro, bien comunicada en transporte público y a 150 metros de las estaciones de metro de Gran Vía y Callao.\\n\\nLa calle Alcalá está a 15 minutos a pie. El personal del establecimiento puede facilitar información sobre los numerosos lugares de interés que hay en Madrid, así como reservar transporte, entradas para espectáculos y mesas en restaurantes.\\n\\nHay aparcamiento público en las inmediaciones por un suplemento.  \n",
      "4                                                                                                                                                                                                                                                                                                                                                                                                                                                                                                                      Amor de Dios 17 Boutique Apartments ofrece alojamiento con aire acondicionado en el centro de Madrid, a 13 min a pie de Plaza Mayor de Madrid, a 700 metros de Museo Reina Sofía y a 12 min a pie de Estación de tren de Atocha. Se ofrece wifi gratis en todo el alojamiento.\\n\\nCada unidad cuenta con cocina totalmente equipada con mesa de comedor, TV de pantalla plana con canales vía satélite y baño privado con ducha, artículos de aseo gratuitos y secador de pelo. También hay nevera, microondas y fogones, además de cafetera y hervidor.\\n\\nCerca del alojamiento hay puntos de interés como Mercado de San Miguel, Museo Thyssen-Bornemisza y Puerta del Sol. El aeropuerto (Aeropuerto Adolfo Suárez Madrid - Barajas) está a 15 km.  \n",
      "5                                                                                                                                                                                                                                                                                                                                                                                                                                                                                                                                                                                                                                                                       Apartamento Plaza Mayor centrico ofrece alojamiento con wifi gratis, cocina, nevera, horno y microondas a pocos pasos del centro de Madrid.\\n\\nLas unidades están equipadas con balcón y ofrecen aire acondicionado, TV y baño privado con ducha y secador de pelo. También hay tostadora y cafetera.\\n\\nCerca del alojamiento hay puntos de interés como Puerta del Sol, Mercado de San Miguel y Plaza Mayor de Madrid. El aeropuerto más cercano (Aeropuerto Adolfo Suárez Madrid - Barajas) está a 15 km del alojamiento, que ofrece servicio de traslado de pago para ir o volver del aeropuerto.  \n",
      "\n",
      "\n",
      "--- Madrid - Post ---\n",
      "                       Name  \\\n",
      "0                New Go Inn   \n",
      "1          Sonder Santa Ana   \n",
      "2    JC Rooms Santo Domingo   \n",
      "7          Dobo Homes - D14   \n",
      "8  Hostal Centro Sol Madrid   \n",
      "\n",
      "                                                                                                                                                                                                                                                                                                                                                                                                                                                                                                                                                                                                                                                                                                                                                                                                                                                                                                                                                                                                                                                                    Description  \n",
      "0                                                                                                                                                                                                                                                                                                                                                                                                                                                                                                                  El New Go Inn goza de una ubicación ideal en el centro de Madrid, a 500 metros de la Gran Vía. En las inmediaciones hay lugares de interés como el Museo Thyssen-Bornemisza y la Puerta de Alcalá. El Paseo del Prado está a 1,9 km.\\n\\nTodas las habitaciones del albergue tienen armario. Las habitaciones del New Go Inn disponen de conexión WiFi gratuita y baño privado con ducha y artículos de aseo gratuitos. Todas las habitaciones incluyen nevera.\\n\\nEl Museo del Prado está a 2,3 km. El aeropuerto Adolfo Suárez Madrid-Barajas está a 24 km.  \n",
      "1                                                                                                                                                                                                                                                                                                                                                                                                                                 Sonder Santa Ana está en el centro de Madrid, a 9 min a pie de Plaza Mayor de Madrid y a 900 metros de Mercado de San Miguel, y ofrece alojamiento con wifi gratis.\\n\\nEl alojamiento tiene aire acondicionado, cocina totalmente equipada y con zona de comedor, TV de pantalla plana y baño privado con bañera o ducha, artículos de aseo gratuitos y secador de pelo. También hay nevera, microondas y fogones, además de cafetera y hervidor.\\n\\nCerca del alojamiento hay puntos de interés como Puerta del Sol, Estación de metro Gran Vía y Museo Reina Sofía. El aeropuerto (Aeropuerto Adolfo Suárez Madrid - Barajas) está a 13 km.  \n",
      "2                                                                                                                                                                                                                                                                                                    En las reservas de 3 o más habitaciones se debe contactar primero con el alojamiento, ya que no se garantiza la disponibilidad.\\n\\nEl JC Rooms Santo Domingo es un hotel moderno ubicado en el centro de Madrid, junto a la plaza de Santo Domingo. Ofrece habitaciones con decoración temática, minibar gratuito y ducha de hidromasaje. Hay WiFi gratuita.\\n\\nTodas las habitaciones tienen caja fuerte y TV HD de pantalla plana. El minibar se repone a diario.\\n\\nEste hotel JC Rooms cuenta con recepción 24 horas que ofrece información turística, entre otros servicios.\\n\\nSe puede prestar un servicio de traslado al aeropuerto por un suplemento. La estación de metro Santo Domingo se encuentra a 350 metros y la avenida Gran Vía está a 15 minutos a pie.  \n",
      "7                                                                                                                                                                                                                                                                                                                                                                                                                                                                                                                                                                                                                                                                      Dobo Homes - D14 ofrece alojamiento con wifi gratis, cocina, nevera, microondas y tostadora a 400 metros del centro de Madrid.\\n\\nTodas las unidades disponen de aire acondicionado y TV de pantalla plana.\\n\\nCerca del alojamiento hay puntos de interés como Estación de metro Gran Vía, Gran Vía y Museo Thyssen-Bornemisza. El aeropuerto (Aeropuerto Adolfo Suárez Madrid - Barajas) está a 13 km.  \n",
      "8  El hotel Centro Sol ofrece habitaciones coloridas con aire acondicionado en el centro de Madrid. Se encuentra a menos de 100 metros de la Puerta del Sol y a unos 15 minutos a pie del parque de El Retiro. Hay conexión Wi-Fi gratuita.\\n\\nLas habitaciones del Hostal Centro Sol Madrid están pintadas con colores luminosos y cuentan con suelos de parqué y calefacción central. Todas disponen de escritorio, TV con canales vía satélite y minibar. Los baños privados cuentan con secador de pelo.\\n\\nEl hotel se encuentra en la zona comercial y de ocio de Madrid, muy cerca de una gran variedad de bares, cafeterías, restaurantes y tiendas. La calle Mayor y la calle del Carmen, una calle peatonal y comercial, se encuentran a menos de 5 minutos a pie. Gran Vía se encuentra a 2 paradas en metro.\\n\\nEl Centro Sol está a unos 10 minutos a pie de los lugares de interés de la capital, como por ejemplo, la Plaza Mayor, el Palacio Real y el museo de El Prado. La estación de tren de Atocha se encuentra a 15 minutos a pie o a 3 paradas en metro.  \n",
      "\n",
      "\n"
     ]
    }
   ],
   "source": [
    "pd.set_option('display.max_colwidth', None) # to see the full descriptions\n",
    "\n",
    "for city, periods in dataframes.items():\n",
    "    for period, df in periods.items():\n",
    "        print(f\"--- {city} - {period} ---\")\n",
    "        print(df[['Name', 'Description']].head())  \n",
    "        print(\"\\n\")"
   ]
  },
  {
   "cell_type": "markdown",
   "metadata": {},
   "source": [
    "##### Check whether descriptions match for both observation times:"
   ]
  },
  {
   "cell_type": "code",
   "execution_count": 104,
   "metadata": {},
   "outputs": [
    {
     "name": "stdout",
     "output_type": "stream",
     "text": [
      "--- Barcelona: Description Differences ---\n",
      "                Name  \\\n",
      "325  Sagrada Familia   \n",
      "\n",
      "                                                                                                                                                                                                                                                                                                                                                                                                                                                                                                                                                                              Description_During  \\\n",
      "325  Sagrada Familia se encuentra en el barrio de Eixample, en Barcelona, cerca de Sagrada Familia. Dispone de terraza, wifi gratis y lavadora. Este apartamento está a 2,9 km de Platja de la Nova Icària y a 19 min a pie de Estación de metro Passeig de Gràcia.\\n\\nEste apartamento con aire acondicionado se compone de 1 dormitorio independiente, una cocina totalmente equipada y 1 baño. Se ofrece TV de pantalla plana.\\n\\nCerca del alojamiento hay puntos de interés como La Pedrera, Casa Batlló y Paseo de Gracia. El aeropuerto (Aeropuerto de Barcelona - El Prat) está a 14 km.   \n",
      "\n",
      "                                                                                                                                                                                                                                                                                                                                                                                                                                                                                                                                                                                                    Description_Post  \n",
      "325  Sagrada Familia se encuentra en Barcelona, a 11 min a pie de Sagrada Familia y a 2,5 km de La Pedrera, y ofrece alojamiento con equipamiento como wifi gratis y TV de pantalla plana. Este apartamento está a 3 km de Casa Batlló y a 3,1 km de Paseo de Gracia.\\n\\nEste apartamento con aire acondicionado se compone de 2 dormitorios independientes, una cocina totalmente equipada con lavavajillas y tostadora, y 1 baño.\\n\\nEstación de metro Passeig de Gràcia está a 3,4 km del alojamiento, y Teatro Tívoli está a 3,6 km. El aeropuerto más cercano (Aeropuerto de Barcelona - El Prat) está a 16 km.  \n",
      "\n",
      "\n",
      "--- Madrid: Description Differences ---\n",
      "All descriptions match!\n",
      "\n",
      "\n"
     ]
    }
   ],
   "source": [
    "for city, periods in dataframes.items():\n",
    "    # Merge the During and During dataframes on 'Name'\n",
    "    merged_df = periods['During'].merge(periods['Post'], on='Name', suffixes=('_During', '_Post'))\n",
    "    \n",
    "    mismatched = merged_df[merged_df['Description_During'] != merged_df['Description_Post']]\n",
    "    \n",
    "    print(f\"--- {city}: Description Differences ---\")\n",
    "    if mismatched.empty:\n",
    "        print(\"All descriptions match!\")\n",
    "    else:\n",
    "        print(mismatched[['Name', 'Description_During', 'Description_Post']])\n",
    "    print(\"\\n\")"
   ]
  },
  {
   "cell_type": "markdown",
   "metadata": {},
   "source": [
    "#### Generate a dataframe for all four observations:"
   ]
  },
  {
   "cell_type": "code",
   "execution_count": 107,
   "metadata": {},
   "outputs": [],
   "source": [
    "final_data = []\n",
    "\n",
    "for city, periods in dataframes.items():\n",
    "    merged_df = periods['During'].merge(periods['Post'], on='Name', suffixes=('_During', '_Post'))\n",
    "    \n",
    "    merged_df['Barcelona'] = 1 if city == \"Barcelona\" else 0\n",
    "\n",
    "    # During_Treatment = 1 for \"During\" period (event happening), 0 for \"Post\" period (no treatment)\n",
    "    selected_columns_during = merged_df[['Name', 'Barcelona', 'Price_During', 'Rating_During','stars_During','num_coments_During','Description_During']].copy()\n",
    "    selected_columns_during['During_Treatment'] = 1  \n",
    "\n",
    "    selected_columns_post = merged_df[['Name', 'Barcelona', 'Price_Post', 'Rating_During','stars_During','num_coments_During', 'Description_During']].copy()\n",
    "    selected_columns_post['During_Treatment'] = 0  \n",
    "\n",
    "    selected_columns_during.rename(columns={'Price_During': 'Price', 'Rating_During': 'Rating','stars_During':'stars', 'num_coments_During':'num_coments','Description_During': 'Description'}, inplace=True)\n",
    "    selected_columns_post.rename(columns={'Price_Post': 'Price', 'Rating_During': 'Rating', 'stars_During':'stars', 'num_coments_During':'num_coments','Description_During': 'Description'}, inplace=True)\n",
    "\n",
    "    final_data.append(selected_columns_during)\n",
    "    final_data.append(selected_columns_post)\n",
    "\n",
    "final_df = pd.concat(final_data, ignore_index=True)"
   ]
  },
  {
   "cell_type": "code",
   "execution_count": 109,
   "metadata": {},
   "outputs": [
    {
     "name": "stdout",
     "output_type": "stream",
     "text": [
      "                                     Name  Barcelona  Price  Rating  stars  \\\n",
      "0                        Isabella's House          1   2142    8.58    4.0   \n",
      "1                         Sonder Casa Luz          1   4870    8.48    4.0   \n",
      "2  Axel TWO Barcelona 4 Sup - Adults Only          1   2149    8.38    4.0   \n",
      "3                           Acta Voraport          1   1540    8.88    3.0   \n",
      "4                         Tembo Barcelona          1   2840    8.88    4.0   \n",
      "\n",
      "   num_coments  \\\n",
      "0        1.390   \n",
      "1        2.889   \n",
      "2        2.742   \n",
      "3       13.850   \n",
      "4        2.697   \n",
      "\n",
      "                                                                                                                                                                                                                                                                                                                                                                                                                                                                                                                                                                                                                                                                                                                                                                                                                                                                                                                                                                                                                                                                                                                                                                                                                                                                                                                                                                                                                                                             Description  \\\n",
      "0                                                                                                                                                                                                                                                                                                                                                                                                                                                                                                                                                                                                                                                                                                                                                                                                    Isabella's House se encuentra a 2,9 km de Paseo de Gracia y ofrece alojamiento conrestaurante, bar y servicio de habitaciones. Hay wifi gratis en todo el alojamiento.\\n\\nEl alojamiento tiene aire acondicionado, cocina totalmente equipada y con zona de comedor, TV de pantalla plana y baño privado con bañera o ducha, artículos de aseo gratuitos y secador de pelo. También se ofrece nevera, microondas y fogones, además de cafetera y hervidor.\\n\\nEn el apartahotel se puede disfrutar de un desayuno continental.\\n\\nLa Pedrera está a 3 km del alojamiento, y Camp Nou está a 3,1 km. El aeropuerto (Aeropuerto de Barcelona - El Prat) está a 13 km.   \n",
      "1                                                                                                                                                                                                                                                                                                                                                                                                                                                                                                                                                                                                                                                                                                                                                                                                                                                                                                                                                                               El Sonder Casa Luz se encuentra en Barcelona y ofrece terraza, desayuno y servicio de limpieza gratuito. Los huéspedes podrán visitar el cercano museo de arte contemporáneo MACBA, el mercado de La Boquería y la Rambla del Raval.\\n\\nEl establecimiento alberga un restaurante.\\n\\nEntre los sitios de interés cercanos al hotel están el paseo de Gracia, la Casa Batlló y la plaza de Cataluña. El aeropuerto de El Prat, situado a 14 km del Sonder l Casa Luz, es el más cercano.   \n",
      "2  El TWO Hotel Barcelona by Axel está situado en pleno barrio gay de Barcelona, a 2 km de la playa de la Barceloneta, y alberga una piscina en la azotea con solárium amplio.\\n\\nEste hotel hetero friendly proporciona aparcamiento privado. También incluye recepción 24 horas y mostrador de información turística, donde se ofrece información sobre la ciudad y la zona gay. Además, la azotea alberga el bar Sky, un gimnasio, un baño de vapor y una sala de masajes.\\n\\nLas habitaciones están equipadas con aire acondicionado y minibar. El baño es privado y consta de ducha y secador de pelo. Además, las habitaciones incluyen caja fuerte y cargador universal para teléfonos móviles.\\n\\nEl alojamiento alberga un bar en la azotea con vistas impresionantes a la ciudad, así como un bar salón donde se preparan cócteles fabulosos. El alojamiento sirve un desayuno buffet todas las mañanas y ofrece WiFi gratuita de alta velocidad en todas las instalaciones.\\n\\nEl personal puede facilitar información sobre la zona de los alrededores, conocida como “Gayxample” debido a su animado ocio nocturno gay.\\n\\nEl hotel se encuentra a 2 minutos a pie de la estación de metro de Rocafort y a 10 minutos a pie de la plaza España, que ofrece enlace directo en autobús con el aeropuerto de Barcelona. El TWO Hotel Barcelona by Axel se encuentra a 1,3 km de la avenida del Paralelo, repleta de bares, restaurantes, discotecas y teatros.   \n",
      "3                                                                                                                                                                                                                                                                                                                                                                                                                                                                                                                                                     Acta Voraport está en Barcelona, a 10 min a pie de Platja del Bogatell, y dispone de alojamiento con piscina al aire libre, parking privado, terraza y restaurante. Este hotel de 3 estrellas ofrece bar y tiene habitaciones con aire acondicionado, wifi gratis y baño privado. El alojamiento ofrece cajero automático, servicio de conserjería y servicio de organización de tours.\\n\\nEn el hotel, cada habitación está equipada con escritorio y TV de pantalla plana. En Acta Voraport, cada habitación cuenta con ropa de cama y toallas.\\n\\nEn el alojamiento se sirve todas las mañanas un desayuno buffet.\\n\\nEn la recepción 24 horas se hablan varios idiomas, como catalán, inglés, español y francés.\\n\\nCerca del alojamiento hay puntos de interés como Playa de la Mar Bella, Platja de la Nova Icària y Platja del Somorrostro. El aeropuerto (Aeropuerto de Barcelona - El Prat) está a 15 km.   \n",
      "4                                                                                                                                                                                                                                                                                                                                                                                                                                                                                                                           Tembo Barcelona está en Barcelona, a 16 min a pie de Platja de Llevant, y dispone de alojamiento con piscina al aire libre, parking privado, centro de fitness y salón de uso común. Ofrece terraza, restaurante y bar. El alojamiento ofrece recepción 24 horas, traslado para ir o volver del aeropuerto, servicio de habitaciones y wifi gratis en todo el alojamiento.\\n\\nEn el hotel, las habitaciones cuentan con armario, TV de pantalla plana, baño privado, ropa de cama y toallas. Las habitaciones están equipadas con caja fuerte, y algunas también ofrecen vistas a la ciudad. Las unidades cuentan con nevera.\\n\\nEn Tembo Barcelona se puede disfrutar de un desayuno buffet.\\n\\nHay una cafetería en el alojamiento, y también se puede usar la zona business.\\n\\nPlatja del Fòrum está a 16 min a pie del alojamiento, y Platja del Litoral está a 1,9 km. El aeropuerto (Aeropuerto de Barcelona - El Prat) está a 17 km.   \n",
      "\n",
      "   During_Treatment  \n",
      "0                 1  \n",
      "1                 1  \n",
      "2                 1  \n",
      "3                 1  \n",
      "4                 1  \n"
     ]
    }
   ],
   "source": [
    "print(final_df.head())"
   ]
  },
  {
   "cell_type": "markdown",
   "metadata": {},
   "source": [
    "#### Normalize and Remove Special Characters:"
   ]
  },
  {
   "cell_type": "code",
   "execution_count": 110,
   "metadata": {},
   "outputs": [],
   "source": [
    "final_df['Description'] = final_df['Description'].str.replace(r'[√©√±]', '', regex=True)"
   ]
  },
  {
   "cell_type": "markdown",
   "metadata": {},
   "source": [
    "#### Tokenize, Remove Stop Words, and Stem:"
   ]
  },
  {
   "cell_type": "markdown",
   "metadata": {},
   "source": [
    "We use Spanish Snowball Stemmer for better accuracy:"
   ]
  },
  {
   "cell_type": "code",
   "execution_count": 111,
   "metadata": {},
   "outputs": [],
   "source": [
    "stemmer = SnowballStemmer(\"spanish\")"
   ]
  },
  {
   "cell_type": "markdown",
   "metadata": {},
   "source": [
    "Spanish stopwords and city names to remove:"
   ]
  },
  {
   "cell_type": "code",
   "execution_count": 112,
   "metadata": {},
   "outputs": [],
   "source": [
    "stop_words = set(stopwords.words(\"spanish\")) | {\"barcelona\", \"madrid\", \"hotel\"}"
   ]
  },
  {
   "cell_type": "markdown",
   "metadata": {},
   "source": [
    "Regex pattern to detect numbers followed by distance or time units:"
   ]
  },
  {
   "cell_type": "code",
   "execution_count": 113,
   "metadata": {},
   "outputs": [],
   "source": [
    "distance_pattern = re.compile(r\"(\\d+)\\s+(km|kilometros|metros|millas|yardas|m|ft|feet|yd)\", re.IGNORECASE)\n",
    "time_pattern = re.compile(r\"(\\d+)\\s+(min|mins|minuto|minutos|hora|horas)\", re.IGNORECASE)"
   ]
  },
  {
   "cell_type": "markdown",
   "metadata": {},
   "source": [
    "We believe lemmatization (instead of stemming) for better Spanish text processing."
   ]
  },
  {
   "cell_type": "code",
   "execution_count": 114,
   "metadata": {},
   "outputs": [],
   "source": [
    "def preprocess_text(text):\n",
    "    if pd.isna(text):\n",
    "        return \"\"  # Handle NaN values\n",
    "\n",
    "    text = text.lower()  # Convert to lowercase\n",
    "\n",
    "    # Preserve numbers with distance/time expressions as a single token\n",
    "    text = distance_pattern.sub(lambda x: f\"{x.group(1)}_{x.group(2)}\", text)\n",
    "    text = time_pattern.sub(lambda x: f\"{x.group(1)}_{x.group(2)}\", text)\n",
    "\n",
    "    # Remove accents, punctuation, and standalone numbers (except for preserved ones)\n",
    "    text = unidecode.unidecode(text)  # Remove accents (á -> a, ñ -> n)\n",
    "    text = re.sub(r\"[^\\w\\s]\", \"\", text)  # Remove punctuation\n",
    "    text = re.sub(r\"\\b\\d+\\b\", \"\", text)  # Remove standalone numbers\n",
    "\n",
    "    # Tokenization and Stemming\n",
    "    tokens = word_tokenize(text)\n",
    "    stemmed_tokens = [stemmer.stem(word) for word in tokens if word not in stop_words]\n",
    "\n",
    "    return \" \".join(stemmed_tokens)\n",
    "\n",
    "# Apply preprocessing to the dataset\n",
    "final_df['Cleaned_Description'] = final_df['Description'].astype(str).apply(preprocess_text)"
   ]
  },
  {
   "cell_type": "markdown",
   "metadata": {},
   "source": [
    "## (b) Create Word Clouds:"
   ]
  },
  {
   "cell_type": "code",
   "execution_count": 115,
   "metadata": {},
   "outputs": [],
   "source": [
    "def generate_wordcloud(text, title, filename):\n",
    "    wordcloud = WordCloud(width=800, height=400, background_color='white').generate(' '.join(text))\n",
    "    plt.figure(figsize=(10, 5))\n",
    "    plt.imshow(wordcloud, interpolation='bilinear')\n",
    "    plt.title(title)\n",
    "    plt.axis('off')\n",
    "    plt.savefig(filename, format='png', dpi=300, bbox_inches='tight')  # Save the word cloud\n",
    "    plt.close()\n",
    "\n",
    "# Generate and save word clouds for each city before and after preprocessing\n",
    "for city_label, city_name in [(1, \"Barcelona\"), (0, \"Madrid\")]:\n",
    "    city_df = final_df[final_df['Barcelona'] == city_label]\n",
    "    \n",
    "    # Raw descriptions\n",
    "    generate_wordcloud(city_df['Description'].dropna(), f\"{city_name} - Before Preprocessing\", f\"{city_name.lower()}_before.png\")\n",
    "\n",
    "    # Cleaned descriptions\n",
    "    generate_wordcloud(city_df['Cleaned_Description'].dropna(), f\"{city_name} - After Preprocessing\", f\"{city_name.lower()}_after.png\")"
   ]
  },
  {
   "cell_type": "markdown",
   "metadata": {},
   "source": [
    "We can see that the words have improved a lot and now show words that seem to be more important for an analysis such as \"air acondicion\" or \"wifi\" compared to just the name of the city or \"de la\"."
   ]
  },
  {
   "cell_type": "markdown",
   "metadata": {},
   "source": [
    "## Extracting Metadata:"
   ]
  },
  {
   "cell_type": "code",
   "execution_count": 116,
   "metadata": {},
   "outputs": [],
   "source": [
    "special_words = [\"centro\", \"playa\", \"aeropuerto\", \"wifi\", \"metro\", \"piscina\", \"habitacion\"]\n",
    "\n",
    "def extract_metadata(text):\n",
    "    if pd.isna(text) or text.strip() == \"\":\n",
    "        return pd.Series([0, 0, 0, 0, 0])  # Handle empty cases\n",
    "\n",
    "    words = word_tokenize(text)\n",
    "    sentences = sent_tokenize(text)\n",
    "    \n",
    "    # Compute metadata features\n",
    "    word_count = len(words)\n",
    "    sentence_count = len(sentences)\n",
    "    avg_word_length = sum(len(word) for word in words) / max(1, word_count)  # Avoid division by zero\n",
    "    sentiment_score = TextBlob(text).sentiment.polarity  # Sentiment polarity\n",
    "\n",
    "    # Count occurrences of special words\n",
    "    special_mentions = sum(text.count(word) for word in special_words)\n",
    "\n",
    "    return pd.Series([word_count, sentence_count, avg_word_length, special_mentions, sentiment_score])\n",
    "\n",
    "# Apply function to create metadata columns\n",
    "final_df[[\"Word_Count\", \"Sentence_Count\", \"Avg_Word_Length\", \"Special_Mentions\", \"Sentiment_Score\"]] = \\\n",
    "    final_df[\"Cleaned_Description\"].apply(extract_metadata)"
   ]
  },
  {
   "cell_type": "markdown",
   "metadata": {},
   "source": [
    "####  Save Cleaned Data:"
   ]
  },
  {
   "cell_type": "code",
   "execution_count": 117,
   "metadata": {},
   "outputs": [],
   "source": [
    "final_df.to_csv(\"final_cleaned_data.csv\", index=False)"
   ]
  },
  {
   "cell_type": "code",
   "execution_count": null,
   "metadata": {},
   "outputs": [],
   "source": []
  }
 ],
 "metadata": {
  "kernelspec": {
   "display_name": "DS_enviroment",
   "language": "python",
   "name": "python3"
  },
  "language_info": {
   "codemirror_mode": {
    "name": "ipython",
    "version": 3
   },
   "file_extension": ".py",
   "mimetype": "text/x-python",
   "name": "python",
   "nbconvert_exporter": "python",
   "pygments_lexer": "ipython3",
   "version": "3.12.2"
  }
 },
 "nbformat": 4,
 "nbformat_minor": 2
}
