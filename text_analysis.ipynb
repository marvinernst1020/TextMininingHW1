{
 "cells": [
  {
   "cell_type": "markdown",
   "metadata": {},
   "source": [
    "# Homework 1: Text Mining\n",
    "## Part 2: Text analysis\n",
    "\n",
    "Group Members: Matias Borrel, Pol Garcia, Marvin Ernst"
   ]
  },
  {
   "cell_type": "markdown",
   "metadata": {},
   "source": [
    "#### Importing relevant Libraries:"
   ]
  },
  {
   "cell_type": "code",
   "execution_count": 191,
   "metadata": {},
   "outputs": [
    {
     "name": "stderr",
     "output_type": "stream",
     "text": [
      "[nltk_data] Downloading package stopwords to /Users/Admin/nltk_data...\n",
      "[nltk_data]   Package stopwords is already up-to-date!\n",
      "[nltk_data] Downloading package punkt to /Users/Admin/nltk_data...\n",
      "[nltk_data]   Package punkt is already up-to-date!\n",
      "[nltk_data] Downloading package punkt_tab to /Users/Admin/nltk_data...\n",
      "[nltk_data]   Package punkt_tab is already up-to-date!\n"
     ]
    }
   ],
   "source": [
    "import os\n",
    "import pandas as pd\n",
    "from wordcloud import WordCloud\n",
    "import matplotlib.pyplot as plt\n",
    "import nltk\n",
    "import re\n",
    "nltk.download('stopwords')\n",
    "nltk.download('punkt')\n",
    "nltk.download('punkt_tab')\n",
    "from nltk.corpus import stopwords\n",
    "from nltk.tokenize import word_tokenize, sent_tokenize\n",
    "from nltk.stem import PorterStemmer, SnowballStemmer\n",
    "import unidecode\n",
    "from textblob import TextBlob  # For sentiment analysis - we have seen this in our statistics course already, when we had to analyze hotel reviews for homework 3 last term."
   ]
  },
  {
   "cell_type": "markdown",
   "metadata": {},
   "source": [
    "#### Define file paths:"
   ]
  },
  {
   "cell_type": "code",
   "execution_count": 192,
   "metadata": {},
   "outputs": [],
   "source": [
    "files = {\n",
    "    \"Barcelona\": {\n",
    "        \"During\": \"./Original_data/hotels_barcelona_MWC.csv\",\n",
    "        \"Post\": \"./Original_data/hotels_barcelona_after_MWC.csv\",\n",
    "    },\n",
    "    \"Madrid\": {\n",
    "        \"During\": \"./Original_data/hotels_madrid_MWC.csv\",\n",
    "        \"Post\": \"./Original_data/hotels_madrid_after_MWC.csv\",\n",
    "    },\n",
    "}"
   ]
  },
  {
   "cell_type": "markdown",
   "metadata": {},
   "source": [
    "#### Load Data:"
   ]
  },
  {
   "cell_type": "code",
   "execution_count": 193,
   "metadata": {},
   "outputs": [],
   "source": [
    "dataframes = {city: {key: pd.read_csv(path) for key, path in city_files.items()} for city, city_files in files.items()}"
   ]
  },
  {
   "cell_type": "markdown",
   "metadata": {},
   "source": [
    "#### Inspect the data frames:\n",
    "\n",
    "Print column names for each dataframe:"
   ]
  },
  {
   "cell_type": "code",
   "execution_count": 194,
   "metadata": {},
   "outputs": [
    {
     "name": "stdout",
     "output_type": "stream",
     "text": [
      "Barcelona - During:\n",
      "Index(['Name', 'Price', 'Rating', 'Detail Link', 'Description'], dtype='object')\n",
      "\n",
      "\n",
      "Barcelona - Post:\n",
      "Index(['Name', 'Price', 'Rating', 'Detail Link', 'Description'], dtype='object')\n",
      "\n",
      "\n",
      "Madrid - During:\n",
      "Index(['Name', 'Price', 'Rating', 'Detail Link', 'Description'], dtype='object')\n",
      "\n",
      "\n",
      "Madrid - Post:\n",
      "Index(['Name', 'Price', 'Rating', 'Detail Link', 'Description'], dtype='object')\n",
      "\n",
      "\n"
     ]
    }
   ],
   "source": [
    "for city, periods in dataframes.items():\n",
    "    for period, df in periods.items():\n",
    "        print(f\"{city} - {period}:\")\n",
    "        print(df.columns)\n",
    "        print(\"\\n\")"
   ]
  },
  {
   "cell_type": "markdown",
   "metadata": {},
   "source": [
    "#### Preparing the Dataframes\n",
    "\n",
    "We want that during and post treatment we have the same units (here \"hotels\") in each of the groups (here \"city\"). \n",
    "\n",
    "Filter Out Rows with Empty Names, or missing values for any of the columns:"
   ]
  },
  {
   "cell_type": "code",
   "execution_count": 195,
   "metadata": {},
   "outputs": [],
   "source": [
    "for city, periods in dataframes.items():\n",
    "    for period, df in periods.items():\n",
    "        # Drop rows with missing values in any column\n",
    "        dataframes[city][period] = df.dropna(how='any')"
   ]
  },
  {
   "cell_type": "markdown",
   "metadata": {},
   "source": [
    "Retain Only Names Present in Both During and Post:"
   ]
  },
  {
   "cell_type": "code",
   "execution_count": 196,
   "metadata": {},
   "outputs": [],
   "source": [
    "for city, periods in dataframes.items():\n",
    "    # Get the intersection of names in During and Post datasets\n",
    "    common_names = set(periods['During']['Name']).intersection(set(periods['Post']['Name']))\n",
    "    \n",
    "    # Filter rows in both During and Post to only include these common names\n",
    "    dataframes[city]['During'] = periods['During'][periods['During']['Name'].isin(common_names)]\n",
    "    dataframes[city]['Post'] = periods['Post'][periods['Post']['Name'].isin(common_names)]"
   ]
  },
  {
   "cell_type": "markdown",
   "metadata": {},
   "source": [
    "Verify Results:"
   ]
  },
  {
   "cell_type": "code",
   "execution_count": 197,
   "metadata": {},
   "outputs": [
    {
     "name": "stdout",
     "output_type": "stream",
     "text": [
      "Barcelona - During dataset shape: (390, 5)\n",
      "Barcelona - Post dataset shape: (390, 5)\n",
      "Barcelona - Common Names: 390\n",
      "Madrid - During dataset shape: (511, 5)\n",
      "Madrid - Post dataset shape: (511, 5)\n",
      "Madrid - Common Names: 511\n"
     ]
    }
   ],
   "source": [
    "for city, periods in dataframes.items():\n",
    "    print(f\"{city} - During dataset shape: {periods['During'].shape}\")\n",
    "    print(f\"{city} - Post dataset shape: {periods['Post'].shape}\")\n",
    "    print(f\"{city} - Common Names: {len(set(periods['During']['Name']).intersection(set(periods['Post']['Name'])))}\")"
   ]
  },
  {
   "cell_type": "markdown",
   "metadata": {},
   "source": [
    "Check for duplicates:"
   ]
  },
  {
   "cell_type": "code",
   "execution_count": 198,
   "metadata": {},
   "outputs": [
    {
     "name": "stdout",
     "output_type": "stream",
     "text": [
      "Barcelona - During:\n",
      "Total Names: 390, Duplicates: 0\n",
      "\n",
      "\n",
      "Barcelona - Post:\n",
      "Total Names: 390, Duplicates: 0\n",
      "\n",
      "\n",
      "Madrid - During:\n",
      "Total Names: 511, Duplicates: 0\n",
      "\n",
      "\n",
      "Madrid - Post:\n",
      "Total Names: 511, Duplicates: 0\n",
      "\n",
      "\n"
     ]
    }
   ],
   "source": [
    "for city, periods in dataframes.items():\n",
    "    for period, df in periods.items():\n",
    "        # Check for duplicates in the 'Name' column\n",
    "        duplicate_count = df['Name'].duplicated().sum()  # Count duplicates\n",
    "        total_names = df['Name'].shape[0]  # Total number of rows\n",
    "        print(f\"{city} - {period}:\")\n",
    "        print(f\"Total Names: {total_names}, Duplicates: {duplicate_count}\")\n",
    "        \n",
    "        if duplicate_count > 0:\n",
    "            # Display duplicate rows\n",
    "            duplicates = df[df['Name'].duplicated(keep=False)]\n",
    "            print(\"Duplicate Names:\")\n",
    "            print(duplicates[['Name']])\n",
    "        print(\"\\n\")"
   ]
  },
  {
   "cell_type": "markdown",
   "metadata": {},
   "source": [
    "Since we do not have any dublicates, we don't need to further filter some observations, i.e. the names uniquely identify each hotel."
   ]
  },
  {
   "cell_type": "markdown",
   "metadata": {},
   "source": [
    "#### Convert the Price to numeric:"
   ]
  },
  {
   "cell_type": "code",
   "execution_count": 199,
   "metadata": {},
   "outputs": [],
   "source": [
    "for city, periods in dataframes.items():\n",
    "    for period, df in periods.items():\n",
    "        # Remove all non-numeric characters (e.g., € and spaces) and dots (thousands separators)\n",
    "        df['Price'] = (\n",
    "            df['Price']\n",
    "            .astype(str)  # Ensure the column is treated as strings\n",
    "            .str.replace(r'[^\\d]', '', regex=True)  # Remove non-numeric characters\n",
    "            .astype(int)  # Convert cleaned strings to integers\n",
    "        )"
   ]
  },
  {
   "cell_type": "markdown",
   "metadata": {},
   "source": [
    "Verify the changes:"
   ]
  },
  {
   "cell_type": "code",
   "execution_count": 200,
   "metadata": {},
   "outputs": [
    {
     "name": "stdout",
     "output_type": "stream",
     "text": [
      "--- Barcelona - During ---\n",
      "                                     Name  Price\n",
      "0                 chic&basic Habana Hoose   2652\n",
      "1  Axel TWO Barcelona 4 Sup - Adults Only   2149\n",
      "2      Barcelonaforrent The Central Place   5312\n",
      "3                         Tembo Barcelona   2840\n",
      "4          Hesperia Barcelona Barri Gòtic   2327\n",
      "\n",
      "\n",
      "--- Barcelona - Post ---\n",
      "                             Name  Price\n",
      "0         chic&basic Habana Hoose   1075\n",
      "4                    Hotel Market    807\n",
      "5   Travelodge Barcelona Poblenou    651\n",
      "10                  Hotel Condado    696\n",
      "11  BCN Urbaness Hotels Bonavista    725\n",
      "\n",
      "\n",
      "--- Madrid - During ---\n",
      "                                  Name  Price\n",
      "0                      Room Mate Oscar    996\n",
      "1                     Sonder Santa Ana   1219\n",
      "2                       Hostal Mendoza    584\n",
      "4  Amor de Dios 17 Boutique Apartments    780\n",
      "6                  Hostal Flat55Madrid    545\n",
      "\n",
      "\n",
      "--- Madrid - Post ---\n",
      "                      Name  Price\n",
      "0      Hostal Flat55Madrid    487\n",
      "1         Sonder Santa Ana   1114\n",
      "2   JC Rooms Santo Domingo    780\n",
      "7     Hostal Arenal Madrid    728\n",
      "10          Hostal Mendoza    634\n",
      "\n",
      "\n"
     ]
    }
   ],
   "source": [
    "for city, periods in dataframes.items():\n",
    "    for period, df in periods.items():\n",
    "        print(f\"--- {city} - {period} ---\")\n",
    "        print(df[['Name', 'Price']].head())  # Show the 'Name' and cleaned 'Price' columns\n",
    "        print(\"\\n\")"
   ]
  },
  {
   "cell_type": "markdown",
   "metadata": {},
   "source": [
    "##### Deleting the Link column:"
   ]
  },
  {
   "cell_type": "code",
   "execution_count": 201,
   "metadata": {},
   "outputs": [],
   "source": [
    "for city, periods in dataframes.items():\n",
    "    for period, df in periods.items():\n",
    "        # Drop the 'Detail Link' column if it exists\n",
    "        if 'Detail Link' in df.columns:\n",
    "            df.drop(columns=['Detail Link'], inplace=True)"
   ]
  },
  {
   "cell_type": "markdown",
   "metadata": {},
   "source": [
    "#### Convert the Ranking to numeric:"
   ]
  },
  {
   "cell_type": "code",
   "execution_count": 202,
   "metadata": {},
   "outputs": [],
   "source": [
    "for city, periods in dataframes.items():\n",
    "    for period, df in periods.items():\n",
    "        if 'Rating' in df.columns:\n",
    "            # Extract numeric values, replace commas with dots, and convert to float\n",
    "            df['Rating'] = (\n",
    "                df['Rating']\n",
    "                .astype(str)  # Ensure all values are strings\n",
    "                .str.extract(r'(\\d+,\\d+)')  # Extract only the first valid number\n",
    "                .replace(',', '.', regex=True)  # Replace comma with dot\n",
    "                .astype(float)  # Convert to float\n",
    "            )"
   ]
  },
  {
   "cell_type": "markdown",
   "metadata": {},
   "source": [
    "Verify the changes:"
   ]
  },
  {
   "cell_type": "code",
   "execution_count": 203,
   "metadata": {},
   "outputs": [
    {
     "name": "stdout",
     "output_type": "stream",
     "text": [
      "--- Barcelona - During ---\n",
      "                                     Name  Rating\n",
      "0                 chic&basic Habana Hoose    8.58\n",
      "1  Axel TWO Barcelona 4 Sup - Adults Only    8.38\n",
      "2      Barcelonaforrent The Central Place    8.28\n",
      "3                         Tembo Barcelona    8.88\n",
      "4          Hesperia Barcelona Barri Gòtic    8.78\n",
      "\n",
      "\n",
      "--- Barcelona - Post ---\n",
      "                             Name  Rating\n",
      "0         chic&basic Habana Hoose    8.58\n",
      "4                    Hotel Market    7.67\n",
      "5   Travelodge Barcelona Poblenou    7.37\n",
      "10                  Hotel Condado    8.58\n",
      "11  BCN Urbaness Hotels Bonavista    7.87\n",
      "\n",
      "\n",
      "--- Madrid - During ---\n",
      "                                  Name  Rating\n",
      "0                      Room Mate Oscar    8.78\n",
      "1                     Sonder Santa Ana    8.68\n",
      "2                       Hostal Mendoza    7.97\n",
      "4  Amor de Dios 17 Boutique Apartments    7.87\n",
      "6                  Hostal Flat55Madrid    8.08\n",
      "\n",
      "\n",
      "--- Madrid - Post ---\n",
      "                      Name  Rating\n",
      "0      Hostal Flat55Madrid    8.08\n",
      "1         Sonder Santa Ana    8.68\n",
      "2   JC Rooms Santo Domingo    7.97\n",
      "7     Hostal Arenal Madrid    8.38\n",
      "10          Hostal Mendoza    7.97\n",
      "\n",
      "\n"
     ]
    }
   ],
   "source": [
    "for city, periods in dataframes.items():\n",
    "    for period, df in periods.items():\n",
    "        print(f\"--- {city} - {period} ---\")\n",
    "        print(df[['Name', 'Rating']].head())  \n",
    "        print(\"\\n\")"
   ]
  },
  {
   "cell_type": "markdown",
   "metadata": {},
   "source": [
    "#### Summarize and Compare:"
   ]
  },
  {
   "cell_type": "code",
   "execution_count": 204,
   "metadata": {},
   "outputs": [
    {
     "name": "stdout",
     "output_type": "stream",
     "text": [
      "Barcelona - During: Avg Price = 2607.06, Avg Score = 8.3\n",
      "Barcelona - Post: Avg Price = 1193.16, Avg Score = 8.3\n",
      "Madrid - During: Avg Price = 1231.2, Avg Score = 7.76\n",
      "Madrid - Post: Avg Price = 1293.38, Avg Score = 7.76\n"
     ]
    }
   ],
   "source": [
    "for city, periods in dataframes.items():\n",
    "    for period, df in periods.items():\n",
    "        avg_price = round(df['Price'].mean(), 2)  # Round average price to 2 decimal places\n",
    "        avg_score = round(df['Rating'].mean(), 2)  # Round average score to 2 decimal places\n",
    "        print(f\"{city} - {period}: Avg Price = {avg_price}, Avg Score = {avg_score}\")"
   ]
  },
  {
   "cell_type": "markdown",
   "metadata": {},
   "source": [
    "As expected, the rankings are the same, and we see changes in the price."
   ]
  },
  {
   "cell_type": "markdown",
   "metadata": {},
   "source": [
    "## (a) Preprocess the Text "
   ]
  },
  {
   "cell_type": "markdown",
   "metadata": {},
   "source": [
    "##### Looking at the first few descriptions:"
   ]
  },
  {
   "cell_type": "code",
   "execution_count": 205,
   "metadata": {},
   "outputs": [
    {
     "name": "stdout",
     "output_type": "stream",
     "text": [
      "--- Barcelona - During ---\n",
      "                                     Name  \\\n",
      "0                 chic&basic Habana Hoose   \n",
      "1  Axel TWO Barcelona 4 Sup - Adults Only   \n",
      "2      Barcelonaforrent The Central Place   \n",
      "3                         Tembo Barcelona   \n",
      "4          Hesperia Barcelona Barri Gòtic   \n",
      "\n",
      "                                                                                                                                                                                                                                                                                                                                                                                                                                                                                                                                                                                                                                                                                                                                                                                                                                                                                                                                                                                                                                                                                                                                                                                                                                                                                                                                                                                                                                                             Description  \n",
      "0                                                                                                                                                                                                                                                                                                                                                                                                                                                     Chic&basic Habana Hoose es un alojamiento con una ubicación excelente en Barcelona que ofrece restaurante, wifi gratis, bar y habitaciones con aire acondicionado. Este hotel de 3 estrellas ofrece servicio de conserjería y mostrador de información turística. Este alojamiento libre de humo se encuentra a 18 min a pie de Platja del Somorrostro.\\n\\nEn el hotel, todas las habitaciones tienen armario, TV de pantalla plana, baño privado, ropa de cama y toallas. Cada habitación dispone de caja fuerte, y algunas también ofrecen balcón.\\n\\nEn chic&basic Habana Hoose se puede disfrutar de un desayuno buffet.\\n\\nLa recepción ofrece ayuda de forma ininterrumpida, y el personal habla catalán, inglés y español.\\n\\nCerca del alojamiento hay puntos de interés como Platja de Sant Miquel, Platja de la Barceloneta y Santa María del Mar. El aeropuerto (Aeropuerto de Barcelona - El Prat) está a 12 km, y el alojamiento ofrece servicio de traslado de pago para ir o volver del aeropuerto.  \n",
      "1  El TWO Hotel Barcelona by Axel está situado en pleno barrio gay de Barcelona, a 2 km de la playa de la Barceloneta, y alberga una piscina en la azotea con solárium amplio.\\n\\nEste hotel hetero friendly proporciona aparcamiento privado. También incluye recepción 24 horas y mostrador de información turística, donde se ofrece información sobre la ciudad y la zona gay. Además, la azotea alberga el bar Sky, un gimnasio, un baño de vapor y una sala de masajes.\\n\\nLas habitaciones están equipadas con aire acondicionado y minibar. El baño es privado y consta de ducha y secador de pelo. Además, las habitaciones incluyen caja fuerte y cargador universal para teléfonos móviles.\\n\\nEl alojamiento alberga un bar en la azotea con vistas impresionantes a la ciudad, así como un bar salón donde se preparan cócteles fabulosos. El alojamiento sirve un desayuno buffet todas las mañanas y ofrece WiFi gratuita de alta velocidad en todas las instalaciones.\\n\\nEl personal puede facilitar información sobre la zona de los alrededores, conocida como “Gayxample” debido a su animado ocio nocturno gay.\\n\\nEl hotel se encuentra a 2 minutos a pie de la estación de metro de Rocafort y a 10 minutos a pie de la plaza España, que ofrece enlace directo en autobús con el aeropuerto de Barcelona. El TWO Hotel Barcelona by Axel se encuentra a 1,3 km de la avenida del Paralelo, repleta de bares, restaurantes, discotecas y teatros.  \n",
      "2                                                                                                                                                                                                                                                                                                                                                                                                                                                                                                                  El Barcelonaforrent The Central Places ofrece vistas a la Casa Batlló y está en una zona céntrica, entre el Paseo de Gracia y La Rambla. Los apartamentos cuentan con balcón, aire acondicionado y WiFi gratuita.\\n\\nLa zona de estar, que presenta una decoración sencilla y un interior luminoso, dispone de TV de pantalla plana con Netflix, sofá cama y soporte para iPod. La cocina está equipada con horno, lavavajillas y cafetera.\\n\\nLos dormitorios del Barcelonaforrent The Central Places son modernos y tienen suelo de parquet y camas individuales. También disponen de baño privado con ducha y toallas. Se proporciona ropa de cama.\\n\\nEn los alrededores de los apartamentos hay tiendas y restaurantes. La estación de metro Passeig de Gràcia está a 250 metros y ofrece conexiones con la Sagrada Familia y la playa de La Barceloneta en menos de 20 minutos. El aeropuerto de Barcelona-El Prat queda a 15 minutos en coche.  \n",
      "3                                                                                                                                                                                                                                                                                                                                                                                                                                                                                                                           Tembo Barcelona está en Barcelona, a 16 min a pie de Platja de Llevant, y dispone de alojamiento con piscina al aire libre, parking privado, centro de fitness y salón de uso común. Ofrece terraza, restaurante y bar. El alojamiento ofrece recepción 24 horas, traslado para ir o volver del aeropuerto, servicio de habitaciones y wifi gratis en todo el alojamiento.\\n\\nEn el hotel, las habitaciones cuentan con armario, TV de pantalla plana, baño privado, ropa de cama y toallas. Las habitaciones están equipadas con caja fuerte, y algunas también ofrecen vistas a la ciudad. Las unidades cuentan con nevera.\\n\\nEn Tembo Barcelona se puede disfrutar de un desayuno buffet.\\n\\nHay una cafetería en el alojamiento, y también se puede usar la zona business.\\n\\nPlatja del Fòrum está a 16 min a pie del alojamiento, y Platja del Litoral está a 1,9 km. El aeropuerto (Aeropuerto de Barcelona - El Prat) está a 17 km.  \n",
      "4                                                                                                                                                                                                                                        Hesperia Barcelona Barri Gòtic es un alojamiento bien ubicado en el centro de Barcelona que ofrece habitaciones con aire acondicionado, centro de fitness, wifi gratis y salón de uso común. El alojamiento está a unos 18 min a pie de Platja de Sant Sebastià, a 1,6 km de Platja de la Barceloneta y a 5 min a pie de Plaza Real. Este alojamiento hipoalergénico se encuentra a 16 min a pie de Platja de Sant Miquel.\\n\\nEn el hotel, todas las habitaciones están equipadas con escritorio, TV de pantalla plana, baño privado, ropa de cama y toallas. Cada habitación está equipada con caja fuerte, algunas ofrecen balcón y otras también disponen de vistas a la ciudad. Las habitaciones cuentan con armario y hervidor.\\n\\nEn Hesperia Barcelona Barri Gòtic se sirve un desayuno continental.\\n\\nHay un centro de negocios y máquinas expendedoras de snacks y bebidas en el propio alojamiento en el alojamiento. El personal de la recepción habla catalán, inglés y español, y puede ayudar a la clientela a planificar su estancia.\\n\\nCerca del alojamiento hay puntos de interés como Santa María del Mar, Museo Picasso y Paseo de Gracia. El aeropuerto (Aeropuerto de Barcelona - El Prat) está a 12 km.  \n",
      "\n",
      "\n",
      "--- Barcelona - Post ---\n",
      "                             Name  \\\n",
      "0         chic&basic Habana Hoose   \n",
      "4                    Hotel Market   \n",
      "5   Travelodge Barcelona Poblenou   \n",
      "10                  Hotel Condado   \n",
      "11  BCN Urbaness Hotels Bonavista   \n",
      "\n",
      "                                                                                                                                                                                                                                                                                                                                                                                                                                                                                                                                                                                                                                                                                                                                                                                                                                                                                                                                                                                                                                                                                                                                                                                                                                                                                                                                                                                                                                                  Description  \n",
      "0                                                                                                                                                                                                                                                                                                                                                                                                                                          Chic&basic Habana Hoose es un alojamiento con una ubicación excelente en Barcelona que ofrece restaurante, wifi gratis, bar y habitaciones con aire acondicionado. Este hotel de 3 estrellas ofrece servicio de conserjería y mostrador de información turística. Este alojamiento libre de humo se encuentra a 18 min a pie de Platja del Somorrostro.\\n\\nEn el hotel, todas las habitaciones tienen armario, TV de pantalla plana, baño privado, ropa de cama y toallas. Cada habitación dispone de caja fuerte, y algunas también ofrecen balcón.\\n\\nEn chic&basic Habana Hoose se puede disfrutar de un desayuno buffet.\\n\\nLa recepción ofrece ayuda de forma ininterrumpida, y el personal habla catalán, inglés y español.\\n\\nCerca del alojamiento hay puntos de interés como Platja de Sant Miquel, Platja de la Barceloneta y Santa María del Mar. El aeropuerto (Aeropuerto de Barcelona - El Prat) está a 12 km, y el alojamiento ofrece servicio de traslado de pago para ir o volver del aeropuerto.  \n",
      "4                                                                                                                                                                                                                                                                                                                                                                                                                                                                El Hotel Market se encuentra en Barcelona, junto al mercado de San Antonio y ​​a 10 minutos a pie del Museo de Arte Contemporáneo MACBA. El establecimiento ofrece habitaciones elegantes con ducha de efecto lluvia y WiFi gratuita. También alberga un restaurante muy frecuentado.\\n\\nLas habitaciones del Market Hotel presentan una decoración moderna y constan de vigas de madera oscura, paredes blancas y ventanas grandes. Todas las habitaciones incluyen baño privado. Algunas habitaciones cuentan con balcón o terraza.\\n\\nEl establecimiento se halla a 15 minutos a pie de la plaza de España y de la plaza Catalunya. Asimismo, el hotel está ubicado a unos 200 metros de la estación de metro Sant Antoni y a solo 2 minutos a pie de la parada del autobús que proporciona conexiones con el aeropuerto.\\n\\nEl restaurante del Market Hotel está especializado en platos de arroz y sirve una selección de platos de la cocina catalana moderna en un ambiente elegante.  \n",
      "5   Este moderno hotel cuenta con 250 amplias y completamente equipadas habitaciones, un Snack-Bar abierto las 24 horas donde los clientes pueden disfrutar de un desayuno buffet, así como comidas ligeras para el almuerzo y la cena. También dispone de máquinas expendedoras y parking privado de pago. Todas sus instalaciones están perfectamente adaptadas y accesibles para personas con movilidad reducida.\\nEs un hotel con WiFi de alta velocidad gratuito e ilimitado en las zonas comunes. También disponen de WiFi por un suplemento.\\nTravelodge Barcelona Poblenou es un hotel pet-friendly que estará encantado de ofrecerte a ti y a tu mascota la mejor experiencia.\\nSe encuentra en el tradicional barrio de Poblenou, dentro de calles llenas de restaurantes, bares y tiendas. Uno de los barrios con más encanto de la ciudad, ya 600 metros de la playa del Bogatell. Se puede llegar al centro de la ciudad de Barcelona en 10 minutos en metro y el Port Olímpic de Barcelona, con su vibrante vida nocturna, está a solo 20 minutos a pie.\\nEste es considerado el barrio más innovador de la ciudad. Está en pleno Distrito 22@ y concentra multitud de empresas tecnológicas y de I+D. Por tanto, gracias a su ubicación e instalaciones, también es un alojamiento perfecto para viajes de negocios.\\nTravelodge Barcelona Poblenou te ofrece todo lo que necesitas para tener la mejor experiencia en la ciudad de Barcelona.  \n",
      "10                                                                                                                                                                                                                                                                                                                                                                                                                                                                                                                                                                                                                                                                          El Hotel Condado se encuentra a 200 metros de la avenida Diagonal de Barcelona y a 10 minutos a pie de la estación de metro de Diagonal. Ofrece habitaciones elegantes con aire acondicionado, TV vía satélite y conexión Wi-Fi gratuita.\\n\\nLas habitaciones del Condado también cuentan con calefacción y baño privado con secador de pelo y artículos de aseo. Disponen de caja fuerte y un escritorio con un cable LAN para conectarse a internet de forma gratuita.\\n\\nEl desayuno se sirve en la cafetería del hotel, aunque también podrá tomarlo en su habitación.\\n\\nEl hotel dispone de recepción 24 horas y de mostrador de información turística, donde podrá alquilar un coche.\\n\\nLa Pedrera y la Casa Batlló, situadas en el paseo de Gracia, están a pocos pasos.  \n",
      "11                                                                                                                                                                                                                                                                                                                                                                                                                                                                                                                                                                                                                                                                                                                                                            El BCN Urbaness Hotels Bonavista se encuentra en Barcelona, a 400 metros de La Pedrera y a menos de 1 km de la Casa Batlló. Este establecimiento ofrece recepción 24 horas, mostrador de información turística y wifi gratuita en todas las instalaciones. El establecimiento ofrece habitaciones familiares.\\n\\nTodas las habitaciones tienen baño privado. Algunas también incluyen balcón (según disponibilidad) y otras ofrecen vistas a la ciudad.\\n\\nEl hostal se halla cerca de lugares de interés populares, como el Passeig de Gràcia, la Sagrada Familia y el Teatro Tívoli. El aeropuerto más cercano es el de Barcelona El Prat, ubicado a 13 km del BCN Urbaness Hotels Bonavista.  \n",
      "\n",
      "\n",
      "--- Madrid - During ---\n",
      "                                  Name  \\\n",
      "0                      Room Mate Oscar   \n",
      "1                     Sonder Santa Ana   \n",
      "2                       Hostal Mendoza   \n",
      "4  Amor de Dios 17 Boutique Apartments   \n",
      "6                  Hostal Flat55Madrid   \n",
      "\n",
      "                                                                                                                                                                                                                                                                                                                                                                                                                                                                                                                                                                                                                                                                                                                                                                                                                                                                                                                                                                                                                                                                                                                                                                                                                                                                  Description  \n",
      "0                                                                                                                                                                                                                  El Room Mate Oscar es un hotel elegante ubicado en el centro de Madrid, entre la Gran Vía y la zona de Chueca. Cuenta con WiFi gratuita, bar en la azotea y habitaciones con TV de pantalla plana.\\n\\nEl Room Mate Oscar presenta una decoración elegante en colores vivos. Las habitaciones tienen aire acondicionado y son amplias y confortables. Además, disponen de minibar y baño totalmente equipado.\\n\\nEl restaurante del hotel sirve un desayuno buffet. La azotea alberga un bar con terraza y vistas fantásticas a Madrid. Se ofrecen comidas sin gluten bajo petición.\\n\\nHay salas para conferencias y reuniones. Se facilitan dispositivos WiFi portátiles.\\n\\nEl Room Mate Oscar Madrid se halla a unos 10 minutos a pie de numerosos bares, restaurantes y cafeterías. La Plaza Mayor y la zona de la Puerta del Sol quedan a menos de 800 metros. La estación de metro Gran Vía está a 5 minutos a pie del hotel.\\n\\nEste hotel ha sido galardonado por la calidad de sus instalaciones adaptadas para huéspedes con movilidad reducida.  \n",
      "1                                                                                                                                                                                                                                                                                                                                                                                                                                                                                                                                                                                                                               Sonder Santa Ana está en el centro de Madrid, a 9 min a pie de Plaza Mayor de Madrid y a 900 metros de Mercado de San Miguel, y ofrece alojamiento con wifi gratis.\\n\\nEl alojamiento tiene aire acondicionado, cocina totalmente equipada y con zona de comedor, TV de pantalla plana y baño privado con bañera o ducha, artículos de aseo gratuitos y secador de pelo. También hay nevera, microondas y fogones, además de cafetera y hervidor.\\n\\nCerca del alojamiento hay puntos de interés como Puerta del Sol, Estación de metro Gran Vía y Museo Reina Sofía. El aeropuerto (Aeropuerto Adolfo Suárez Madrid - Barajas) está a 13 km.  \n",
      "2  El Hostal Mendoza, situado en el centro de la ciudad de Madrid y a solo 20 metros de la Gran Vía, dispone de habitaciones individuales o dobles modernas con conexión Wi-Fi gratuita y taquillas gratuitas. Hay aparcamiento público en los alrededores.\\n\\nTodas las habitaciones están insonorizadas y tienen aire acondicionado, suelo de madera, escritorio, TV de pantalla plana de 42 pulgadas con puerto USB, armario y baño privado con ducha, artículos de aseo gratuitos y toallas. Además, hay taquillas gratuitas.\\n\\nEl establecimiento está rodeado de discotecas y bares conocidos, restaurantes típicos, tiendas y lugares de interés cultural. Además, se encuentra a 350 metros de la Puerta del Sol y a menos de 3 minutos a pie de El Corte Inglés.\\n\\nEl Hostal Mendoza se encuentra en una calle tranquila del centro, bien comunicada en transporte público y a 150 metros de las estaciones de metro de Gran Vía y Callao.\\n\\nLa calle Alcalá está a 15 minutos a pie. El personal del establecimiento puede facilitar información sobre los numerosos lugares de interés que hay en Madrid, así como reservar transporte, entradas para espectáculos y mesas en restaurantes.\\n\\nHay aparcamiento público en las inmediaciones por un suplemento.  \n",
      "4                                                                                                                                                                                                                                                                                                                                                                                                                                                                                                                      Amor de Dios 17 Boutique Apartments ofrece alojamiento con aire acondicionado en el centro de Madrid, a 13 min a pie de Plaza Mayor de Madrid, a 700 metros de Museo Reina Sofía y a 12 min a pie de Estación de tren de Atocha. Se ofrece wifi gratis en todo el alojamiento.\\n\\nCada unidad cuenta con cocina totalmente equipada con mesa de comedor, TV de pantalla plana con canales vía satélite y baño privado con ducha, artículos de aseo gratuitos y secador de pelo. También hay nevera, microondas y fogones, además de cafetera y hervidor.\\n\\nCerca del alojamiento hay puntos de interés como Mercado de San Miguel, Museo Thyssen-Bornemisza y Puerta del Sol. El aeropuerto (Aeropuerto Adolfo Suárez Madrid - Barajas) está a 15 km.  \n",
      "6                                                                                                                                                                                                                                                                                                                                                                                                                                                                                                                                                                                                    Este luminoso y colorido hostal te permitirá disfrutar del ambiente animado y cosmopolita de Madrid. Se sirve el desayuno todos los días.\\n\\nLas modernas habitaciones con aire acondicionado del hostal Hostal Flat55Madrid presentan un diseño elegante y contemporáneo que contribuye al ambiente joven de la propiedad. Las comodidades modernas incluyen televisores con reproductores de DVD. Algunos baños son compartidos y hay wifi en todo el establecimiento.\\n\\nEl Hostal Flat55Madrid se encuentra en el centro histórico de la ciudad, que data del siglo XIX, cerca de las calles comerciales más importantes que hay alrededor de Gran Vía y Fuencarral.  \n",
      "\n",
      "\n",
      "--- Madrid - Post ---\n",
      "                      Name  \\\n",
      "0      Hostal Flat55Madrid   \n",
      "1         Sonder Santa Ana   \n",
      "2   JC Rooms Santo Domingo   \n",
      "7     Hostal Arenal Madrid   \n",
      "10          Hostal Mendoza   \n",
      "\n",
      "                                                                                                                                                                                                                                                                                                                                                                                                                                                                                                                                                                                                                                                                                                                                                                                                                                                                                                                                                                                                                                                                                                                                                                                                                                                                   Description  \n",
      "0                                                                                                                                                                                                                                                                                                                                                                                                                                                                                                                                                                                                     Este luminoso y colorido hostal te permitirá disfrutar del ambiente animado y cosmopolita de Madrid. Se sirve el desayuno todos los días.\\n\\nLas modernas habitaciones con aire acondicionado del hostal Hostal Flat55Madrid presentan un diseño elegante y contemporáneo que contribuye al ambiente joven de la propiedad. Las comodidades modernas incluyen televisores con reproductores de DVD. Algunos baños son compartidos y hay wifi en todo el establecimiento.\\n\\nEl Hostal Flat55Madrid se encuentra en el centro histórico de la ciudad, que data del siglo XIX, cerca de las calles comerciales más importantes que hay alrededor de Gran Vía y Fuencarral.  \n",
      "1                                                                                                                                                                                                                                                                                                                                                                                                                                                                                                                                                                                                                                Sonder Santa Ana está en el centro de Madrid, a 9 min a pie de Plaza Mayor de Madrid y a 900 metros de Mercado de San Miguel, y ofrece alojamiento con wifi gratis.\\n\\nEl alojamiento tiene aire acondicionado, cocina totalmente equipada y con zona de comedor, TV de pantalla plana y baño privado con bañera o ducha, artículos de aseo gratuitos y secador de pelo. También hay nevera, microondas y fogones, además de cafetera y hervidor.\\n\\nCerca del alojamiento hay puntos de interés como Puerta del Sol, Estación de metro Gran Vía y Museo Reina Sofía. El aeropuerto (Aeropuerto Adolfo Suárez Madrid - Barajas) está a 13 km.  \n",
      "2                                                                                                                                                                                                                                                                                                                                                                                                                                                                                                   En las reservas de 3 o más habitaciones se debe contactar primero con el alojamiento, ya que no se garantiza la disponibilidad.\\n\\nEl JC Rooms Santo Domingo es un hotel moderno ubicado en el centro de Madrid, junto a la plaza de Santo Domingo. Ofrece habitaciones con decoración temática, minibar gratuito y ducha de hidromasaje. Hay WiFi gratuita.\\n\\nTodas las habitaciones tienen caja fuerte y TV HD de pantalla plana. El minibar se repone a diario.\\n\\nEste hotel JC Rooms cuenta con recepción 24 horas que ofrece información turística, entre otros servicios.\\n\\nSe puede prestar un servicio de traslado al aeropuerto por un suplemento. La estación de metro Santo Domingo se encuentra a 350 metros y la avenida Gran Vía está a 15 minutos a pie.  \n",
      "7                                                                                                                                                                                                                                                                                                                                           Hostal Arenal Madrid se encuentra en Madrid, a 4 min a pie de Plaza Mayor de Madrid y a 400 metros de Puerta del Sol, y ofrece wifi gratis en todo el alojamiento. El alojamiento está cerca de Estación de metro Plaza de España, de Royal Palace of Madrid y de Puerta de Toledo. El alojamiento está a 200 metros del centro de la ciudad y a 3 min a pie de Mercado de San Miguel.\\n\\nEn el hostal o pensión, cada habitación cuenta con escritorio. Todas las unidades del alojamiento tienen baño privado con ducha y artículos de aseo gratuitos, además de TV de pantalla plana y aire acondicionado. Algunas habitaciones tienen terraza. En Hostal Arenal Madrid, todas las habitaciones están equipadas con ropa de cama y toallas.\\n\\nCerca del alojamiento hay puntos de interés como Templo de Debod, Gran Vía y Estación de metro Gran Vía. El aeropuerto (Aeropuerto Adolfo Suárez Madrid - Barajas) está a 14 km.  \n",
      "10  El Hostal Mendoza, situado en el centro de la ciudad de Madrid y a solo 20 metros de la Gran Vía, dispone de habitaciones individuales o dobles modernas con conexión Wi-Fi gratuita y taquillas gratuitas. Hay aparcamiento público en los alrededores.\\n\\nTodas las habitaciones están insonorizadas y tienen aire acondicionado, suelo de madera, escritorio, TV de pantalla plana de 42 pulgadas con puerto USB, armario y baño privado con ducha, artículos de aseo gratuitos y toallas. Además, hay taquillas gratuitas.\\n\\nEl establecimiento está rodeado de discotecas y bares conocidos, restaurantes típicos, tiendas y lugares de interés cultural. Además, se encuentra a 350 metros de la Puerta del Sol y a menos de 3 minutos a pie de El Corte Inglés.\\n\\nEl Hostal Mendoza se encuentra en una calle tranquila del centro, bien comunicada en transporte público y a 150 metros de las estaciones de metro de Gran Vía y Callao.\\n\\nLa calle Alcalá está a 15 minutos a pie. El personal del establecimiento puede facilitar información sobre los numerosos lugares de interés que hay en Madrid, así como reservar transporte, entradas para espectáculos y mesas en restaurantes.\\n\\nHay aparcamiento público en las inmediaciones por un suplemento.  \n",
      "\n",
      "\n"
     ]
    }
   ],
   "source": [
    "pd.set_option('display.max_colwidth', None) # to see the full descriptions\n",
    "\n",
    "for city, periods in dataframes.items():\n",
    "    for period, df in periods.items():\n",
    "        print(f\"--- {city} - {period} ---\")\n",
    "        print(df[['Name', 'Description']].head())  \n",
    "        print(\"\\n\")"
   ]
  },
  {
   "cell_type": "markdown",
   "metadata": {},
   "source": [
    "##### Check whether descriptions match for both observation times:"
   ]
  },
  {
   "cell_type": "code",
   "execution_count": 206,
   "metadata": {},
   "outputs": [
    {
     "name": "stdout",
     "output_type": "stream",
     "text": [
      "--- Barcelona: Description Differences ---\n",
      "All descriptions match!\n",
      "\n",
      "\n",
      "--- Madrid: Description Differences ---\n",
      "                                          Name Description_During  \\\n",
      "484       Mini Apartamento EL SOTANO de ATOCHA              Error   \n",
      "485         La Latina Hub Perfect Location MAD              Error   \n",
      "486  JACUZZI FULL exterior SOL, by MONARO*****              Error   \n",
      "\n",
      "                                                                                                                                                                                                                                                                                                                                                                                                                                                                                                                                                                                                                                                                                                                                                                                                                                                         Description_Post  \n",
      "484                                                                                                                                                                                                                                                                                                                                    Mini Apartamento EL SOTANO de ATOCHA es un alojamiento bien situado en el centro de Madrid que ofrece patio. Este apartamento ofrece wifi gratis y una zona de cocina totalmente equipada.\\n\\nEste apartamento con aire acondicionado consta de 1 dormitorio independiente, 1 baño con secador de pelo y una sala de estar.\\n\\nCerca del alojamiento hay puntos de interés como Plaza Mayor de Madrid, Mercado de San Miguel y Puerta del Sol. El aeropuerto más cercano (Aeropuerto Adolfo Suárez Madrid - Barajas) está a 13 km.  \n",
      "485                                                                                                                                                       La Latina Hub Perfect Location MAD ofrece wifi gratis y se encuentra en el centro de Madrid, a 11 min a pie de Plaza Mayor de Madrid y a 800 metros de Mercado de San Miguel. Este apartamento está a 13 min a pie de Royal Palace of Madrid y a 1,9 km de Museo Reina Sofía.\\n\\nEste apartamento con aire acondicionado consta de 1 dormitorio, una sala de estar, una cocina totalmente equipada con nevera y cafetera, y 1 baño con ducha y secador de pelo. Hay toallas y ropa de cama en el apartamento.\\n\\nCerca del alojamiento hay puntos de interés como Puerta de Toledo, Puerta del Sol y Estación de metro Plaza de España. El aeropuerto (Aeropuerto Adolfo Suárez Madrid - Barajas) está a 14 km.  \n",
      "486  JACUZZI FULL exterior SOL, by MONARO***** ofrece alojamiento con una buena ubicación en una zona céntrica de Madrid, y tiene vistas a la ciudad y salón de uso común. Se encuentra a 3 min a pie de Estación de metro Gran Vía y ofrece wifi gratis, además de recepción 24 horas.\\n\\nEste apartamento con aire acondicionado consta de 4 dormitorios, una sala de estar, una cocina totalmente equipada con nevera y cafetera, y 2 baños con ducha y bañera de hidromasaje. Hay toallas y ropa de cama en el apartamento.\\n\\nEl apartamento ofrece bañera de hidromasaje.\\n\\nCerca del alojamiento hay puntos de interés como Gran Vía, Museo Thyssen-Bornemisza y Estación de metro Plaza de España. El aeropuerto (Aeropuerto Adolfo Suárez Madrid - Barajas) está a 13 km, y el alojamiento ofrece servicio de traslado de pago para ir o volver del aeropuerto.  \n",
      "\n",
      "\n"
     ]
    }
   ],
   "source": [
    "for city, periods in dataframes.items():\n",
    "    # Merge the During and During dataframes on 'Name'\n",
    "    merged_df = periods['During'].merge(periods['Post'], on='Name', suffixes=('_During', '_Post'))\n",
    "    \n",
    "    mismatched = merged_df[merged_df['Description_During'] != merged_df['Description_Post']]\n",
    "    \n",
    "    print(f\"--- {city}: Description Differences ---\")\n",
    "    if mismatched.empty:\n",
    "        print(\"All descriptions match!\")\n",
    "    else:\n",
    "        print(mismatched[['Name', 'Description_During', 'Description_Post']])\n",
    "    print(\"\\n\")"
   ]
  },
  {
   "cell_type": "markdown",
   "metadata": {},
   "source": [
    "#### Generate a dataframe for all four observations:"
   ]
  },
  {
   "cell_type": "code",
   "execution_count": 207,
   "metadata": {},
   "outputs": [],
   "source": [
    "final_data = []\n",
    "\n",
    "for city, periods in dataframes.items():\n",
    "    merged_df = periods['During'].merge(periods['Post'], on='Name', suffixes=('_During', '_Post'))\n",
    "    \n",
    "    merged_df['Barcelona'] = 1 if city == \"Barcelona\" else 0\n",
    "\n",
    "    # During_Treatment = 1 for \"During\" period (event happening), 0 for \"Post\" period (no treatment)\n",
    "    selected_columns_during = merged_df[['Name', 'Barcelona', 'Price_During', 'Rating_During', 'Description_During']].copy()\n",
    "    selected_columns_during['During_Treatment'] = 1  \n",
    "\n",
    "    selected_columns_post = merged_df[['Name', 'Barcelona', 'Price_Post', 'Rating_During', 'Description_During']].copy()\n",
    "    selected_columns_post['During_Treatment'] = 0  \n",
    "\n",
    "    selected_columns_during.rename(columns={'Price_During': 'Price', 'Rating_During': 'Rating', 'Description_During': 'Description'}, inplace=True)\n",
    "    selected_columns_post.rename(columns={'Price_Post': 'Price', 'Rating_During': 'Rating', 'Description_During': 'Description'}, inplace=True)\n",
    "\n",
    "    final_data.append(selected_columns_during)\n",
    "    final_data.append(selected_columns_post)\n",
    "\n",
    "final_df = pd.concat(final_data, ignore_index=True)"
   ]
  },
  {
   "cell_type": "markdown",
   "metadata": {},
   "source": [
    "#### Normalize and Remove Special Characters:"
   ]
  },
  {
   "cell_type": "code",
   "execution_count": 208,
   "metadata": {},
   "outputs": [],
   "source": [
    "final_df['Description'] = final_df['Description'].str.replace(r'[√©√±]', '', regex=True)"
   ]
  },
  {
   "cell_type": "markdown",
   "metadata": {},
   "source": [
    "#### Tokenize, Remove Stop Words, and Stem:"
   ]
  },
  {
   "cell_type": "markdown",
   "metadata": {},
   "source": [
    "We use Spanish Snowball Stemmer for better accuracy:"
   ]
  },
  {
   "cell_type": "code",
   "execution_count": 209,
   "metadata": {},
   "outputs": [],
   "source": [
    "stemmer = SnowballStemmer(\"spanish\")"
   ]
  },
  {
   "cell_type": "markdown",
   "metadata": {},
   "source": [
    "Spanish stopwords and city names to remove:"
   ]
  },
  {
   "cell_type": "code",
   "execution_count": 210,
   "metadata": {},
   "outputs": [],
   "source": [
    "stop_words = set(stopwords.words(\"spanish\")) | {\"barcelona\", \"madrid\", \"hotel\"}"
   ]
  },
  {
   "cell_type": "markdown",
   "metadata": {},
   "source": [
    "Regex pattern to detect numbers followed by distance or time units:"
   ]
  },
  {
   "cell_type": "code",
   "execution_count": 211,
   "metadata": {},
   "outputs": [],
   "source": [
    "distance_pattern = re.compile(r\"(\\d+)\\s+(km|kilometros|metros|millas|yardas|m|ft|feet|yd)\", re.IGNORECASE)\n",
    "time_pattern = re.compile(r\"(\\d+)\\s+(minuto|minutos|hora|horas)\", re.IGNORECASE)"
   ]
  },
  {
   "cell_type": "markdown",
   "metadata": {},
   "source": [
    "We believe lemmatization (instead of stemming) for better Spanish text processing."
   ]
  },
  {
   "cell_type": "code",
   "execution_count": 212,
   "metadata": {},
   "outputs": [],
   "source": [
    "def preprocess_text(text):\n",
    "    if pd.isna(text):\n",
    "        return \"\"  # Handle NaN values\n",
    "\n",
    "    text = text.lower()  # Convert to lowercase\n",
    "\n",
    "    # Preserve numbers with distance/time expressions as a single token\n",
    "    text = distance_pattern.sub(lambda x: f\"{x.group(1)}_{x.group(2)}\", text)\n",
    "    text = time_pattern.sub(lambda x: f\"{x.group(1)}_{x.group(2)}\", text)\n",
    "\n",
    "    # Remove accents, punctuation, and standalone numbers (except for preserved ones)\n",
    "    text = unidecode.unidecode(text)  # Remove accents (á -> a, ñ -> n)\n",
    "    text = re.sub(r\"[^\\w\\s]\", \"\", text)  # Remove punctuation\n",
    "    text = re.sub(r\"\\b\\d+\\b\", \"\", text)  # Remove standalone numbers\n",
    "\n",
    "    # Tokenization and Stemming\n",
    "    tokens = word_tokenize(text)\n",
    "    stemmed_tokens = [stemmer.stem(word) for word in tokens if word not in stop_words]\n",
    "\n",
    "    return \" \".join(stemmed_tokens)\n",
    "\n",
    "# Apply preprocessing to the dataset\n",
    "final_df['Cleaned_Description'] = final_df['Description'].astype(str).apply(preprocess_text)"
   ]
  },
  {
   "cell_type": "markdown",
   "metadata": {},
   "source": [
    "## (b) Create Word Clouds:"
   ]
  },
  {
   "cell_type": "code",
   "execution_count": 213,
   "metadata": {},
   "outputs": [],
   "source": [
    "def generate_wordcloud(text, title, filename):\n",
    "    wordcloud = WordCloud(width=800, height=400, background_color='white').generate(' '.join(text))\n",
    "    plt.figure(figsize=(10, 5))\n",
    "    plt.imshow(wordcloud, interpolation='bilinear')\n",
    "    plt.title(title)\n",
    "    plt.axis('off')\n",
    "    plt.savefig(filename, format='png', dpi=300, bbox_inches='tight')  # Save the word cloud\n",
    "    plt.close()\n",
    "\n",
    "# Generate and save word clouds for each city before and after preprocessing\n",
    "for city_label, city_name in [(1, \"Barcelona\"), (0, \"Madrid\")]:\n",
    "    city_df = final_df[final_df['Barcelona'] == city_label]\n",
    "    \n",
    "    # Raw descriptions\n",
    "    generate_wordcloud(city_df['Description'].dropna(), f\"{city_name} - Before Preprocessing\", f\"{city_name.lower()}_before.png\")\n",
    "\n",
    "    # Cleaned descriptions\n",
    "    generate_wordcloud(city_df['Cleaned_Description'].dropna(), f\"{city_name} - After Preprocessing\", f\"{city_name.lower()}_after.png\")"
   ]
  },
  {
   "cell_type": "markdown",
   "metadata": {},
   "source": [
    "We can see that the words have improved a lot and now show words that seem to be more important for an analysis such as \"air acondicion\" or \"wifi\" compared to just the name of the city or \"de la\"."
   ]
  },
  {
   "cell_type": "markdown",
   "metadata": {},
   "source": [
    "## Extracting Metadata:"
   ]
  },
  {
   "cell_type": "code",
   "execution_count": 189,
   "metadata": {},
   "outputs": [],
   "source": [
    "special_words = [\"centro\", \"playa\", \"aeropuerto\", \"wifi\", \"metro\", \"piscina\", \"habitacion\"]\n",
    "\n",
    "def extract_metadata(text):\n",
    "    if pd.isna(text) or text.strip() == \"\":\n",
    "        return pd.Series([0, 0, 0, 0, 0])  # Handle empty cases\n",
    "\n",
    "    words = word_tokenize(text)\n",
    "    sentences = sent_tokenize(text)\n",
    "    \n",
    "    # Compute metadata features\n",
    "    word_count = len(words)\n",
    "    sentence_count = len(sentences)\n",
    "    avg_word_length = sum(len(word) for word in words) / max(1, word_count)  # Avoid division by zero\n",
    "    sentiment_score = TextBlob(text).sentiment.polarity  # Sentiment polarity\n",
    "\n",
    "    # Count occurrences of special words\n",
    "    special_mentions = sum(text.count(word) for word in special_words)\n",
    "\n",
    "    return pd.Series([word_count, sentence_count, avg_word_length, special_mentions, sentiment_score])\n",
    "\n",
    "# Apply function to create metadata columns\n",
    "final_df[[\"Word_Count\", \"Sentence_Count\", \"Avg_Word_Length\", \"Special_Mentions\", \"Sentiment_Score\"]] = \\\n",
    "    final_df[\"Cleaned_Description\"].apply(extract_metadata)"
   ]
  },
  {
   "cell_type": "markdown",
   "metadata": {},
   "source": [
    "####  Save Cleaned Data:"
   ]
  },
  {
   "cell_type": "code",
   "execution_count": 190,
   "metadata": {},
   "outputs": [],
   "source": [
    "final_df.to_csv(\"final_cleaned_data.csv\", index=False)"
   ]
  }
 ],
 "metadata": {
  "kernelspec": {
   "display_name": "base",
   "language": "python",
   "name": "python3"
  },
  "language_info": {
   "codemirror_mode": {
    "name": "ipython",
    "version": 3
   },
   "file_extension": ".py",
   "mimetype": "text/x-python",
   "name": "python",
   "nbconvert_exporter": "python",
   "pygments_lexer": "ipython3",
   "version": "3.12.2"
  }
 },
 "nbformat": 4,
 "nbformat_minor": 2
}
