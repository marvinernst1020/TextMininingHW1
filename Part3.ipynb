{
 "cells": [
  {
   "cell_type": "markdown",
   "metadata": {},
   "source": [
    "#Regressions"
   ]
  },
  {
   "cell_type": "code",
   "execution_count": 42,
   "metadata": {},
   "outputs": [],
   "source": [
    "#Libraries that we are goint to use:\n",
    "import pandas as pd\n",
    "#!pip install statsmodels\n",
    "\n",
    "import statsmodels.api as sm\n",
    "import statsmodels.formula.api as smf\n"
   ]
  },
  {
   "cell_type": "code",
   "execution_count": 43,
   "metadata": {},
   "outputs": [],
   "source": [
    "df= pd.read_csv(\"/Users/polgarcia/Documents/Master/T2/Text_Mining/H1(scrapping+D&D)/TextMininingHW1/final_cleaned_data.csv\")"
   ]
  },
  {
   "cell_type": "code",
   "execution_count": 44,
   "metadata": {},
   "outputs": [
    {
     "name": "stdout",
     "output_type": "stream",
     "text": [
      "                                     Name  Barcelona  Price  Rating  stars  \\\n",
      "0                        Isabella's House          1   2142    8.58    4.0   \n",
      "1                         Sonder Casa Luz          1   4870    8.48    4.0   \n",
      "2  Axel TWO Barcelona 4 Sup - Adults Only          1   2149    8.38    4.0   \n",
      "3                           Acta Voraport          1   1540    8.88    3.0   \n",
      "4                         Tembo Barcelona          1   2840    8.88    4.0   \n",
      "\n",
      "   num_coments                                        Description  \\\n",
      "0        1.390  Isabella's House se encuentra a 2,9 km de Pase...   \n",
      "1        2.889  El Sonder Casa Luz se encuentra en Barcelona y...   \n",
      "2        2.742  El TWO Hotel Barcelona by Axel está situado en...   \n",
      "3       13.850  Acta Voraport está en Barcelona, a 10 min a pi...   \n",
      "4        2.697  Tembo Barcelona está en Barcelona, a 16 min a ...   \n",
      "\n",
      "   During_Treatment                                Cleaned_Description  \\\n",
      "0                 1  isabell hous encuentr 29_km pase graci ofrec a...   \n",
      "1                 1  sond cas luz encuentr ofrec terraz desayun ser...   \n",
      "2                 1  two by axel situ plen barri gay 2_km play barc...   \n",
      "3                 1  acta voraport 10_min pie platj bogatell dispon...   \n",
      "4                 1  temb 16_min pie platj llevant dispon aloj pisc...   \n",
      "\n",
      "   Word_Count  Sentence_Count  Avg_Word_Length  Special_Mentions  \\\n",
      "0        58.0             1.0         5.500000               1.0   \n",
      "1        45.0             1.0         5.222222               0.0   \n",
      "2       129.0             1.0         5.209302               1.0   \n",
      "3        80.0             1.0         5.275000               1.0   \n",
      "4        81.0             1.0         5.061728               1.0   \n",
      "\n",
      "   Sentiment_Score  Luxury_Score  \n",
      "0         0.000000           0.0  \n",
      "1         0.000000           0.0  \n",
      "2         0.246429           1.0  \n",
      "3         0.000000           1.0  \n",
      "4         0.000000           0.0  \n"
     ]
    }
   ],
   "source": [
    "print(df.head()) "
   ]
  },
  {
   "cell_type": "markdown",
   "metadata": {},
   "source": [
    "## Explanation of the Dataset\n",
    "\n",
    "- **`Name`**: The name of the hotel.  \n",
    "- **`Barcelona`**: This column can take only two values:  \n",
    "  - `0` if the hotel is not in Barcelona but in our control city, which in this case is Madrid (chosen due to its price similarity).  \n",
    "  - `1` if the hotel is located in Barcelona.  \n",
    "- **`Price`**: The price of the hotel in Euros.  \n",
    "- **`Rating`**: The rating of the hotel on the booking website.  \n",
    "- **`Description`**: The original hotel description as found on the website.  \n",
    "- **`During_Treatment`**: This column can take two values:  \n",
    "  - `0` if the recorded prices are from the control week (two weeks after the event).  \n",
    "  - `1` if the prices correspond to the week of the event.  \n",
    "- **`Cleaned_Description`**: The hotel description after text preprocessing.  \n"
   ]
  },
  {
   "cell_type": "markdown",
   "metadata": {},
   "source": [
    "## Part 3.a\n",
    "Write down a fixed effects regression equation that allows you to derive a difference-\n",
    "in-difference estimate of the effect of the event on prices. Think of controls to\n",
    "add, why is this relevant? Explain why you need a second city for this."
   ]
  },
  {
   "cell_type": "markdown",
   "metadata": {},
   "source": [
    "First lets run the most basic regression:"
   ]
  },
  {
   "cell_type": "code",
   "execution_count": 47,
   "metadata": {},
   "outputs": [
    {
     "name": "stdout",
     "output_type": "stream",
     "text": [
      "                            OLS Regression Results                            \n",
      "==============================================================================\n",
      "Dep. Variable:                  Price   R-squared:                       0.359\n",
      "Model:                            OLS   Adj. R-squared:                  0.358\n",
      "Method:                 Least Squares   F-statistic:                     276.5\n",
      "Date:                Tue, 04 Feb 2025   Prob (F-statistic):          1.95e-142\n",
      "Time:                        22:20:07   Log-Likelihood:                -12038.\n",
      "No. Observations:                1482   AIC:                         2.408e+04\n",
      "Df Residuals:                    1478   BIC:                         2.410e+04\n",
      "Df Model:                           3                                         \n",
      "Covariance Type:            nonrobust                                         \n",
      "=========================================================================================\n",
      "                            coef    std err          t      P>|t|      [0.025      0.975]\n",
      "-----------------------------------------------------------------------------------------\n",
      "Intercept              1341.5423     40.721     32.945      0.000    1261.666    1421.419\n",
      "During_Treatment       -112.7861     57.588     -1.959      0.050    -225.749       0.177\n",
      "Barcelona              -162.3387     60.204     -2.696      0.007    -280.433     -44.244\n",
      "Barcelona_x_treatment  1634.6769     85.141     19.200      0.000    1467.666    1801.687\n",
      "==============================================================================\n",
      "Omnibus:                      999.355   Durbin-Watson:                   1.465\n",
      "Prob(Omnibus):                  0.000   Jarque-Bera (JB):            15776.766\n",
      "Skew:                           2.950   Prob(JB):                         0.00\n",
      "Kurtosis:                      17.855   Cond. No.                         6.62\n",
      "==============================================================================\n",
      "\n",
      "Notes:\n",
      "[1] Standard Errors assume that the covariance matrix of the errors is correctly specified.\n"
     ]
    }
   ],
   "source": [
    "\n",
    "# Create the interaction term (DiD variable)\n",
    "df[\"Barcelona_x_treatment\"] = df[\"Barcelona\"] * df[\"During_Treatment\"]\n",
    "\n",
    "#Fist we will run a regression without CONTROLS.\n",
    "\n",
    "model = smf.ols(\n",
    "    \"Price ~ During_Treatment + Barcelona + Barcelona_x_treatment \", \n",
    "    data=df\n",
    ").fit()\n",
    "\n",
    "# Print summary results\n",
    "print(model.summary())\n"
   ]
  },
  {
   "cell_type": "markdown",
   "metadata": {},
   "source": [
    "What can we take from here: **#The event significantly increases hotel prices in Barcelona (Barcelona_x_treatment = 1476.07, p < 0.001).**"
   ]
  },
  {
   "cell_type": "markdown",
   "metadata": {},
   "source": [
    "### **Think of controls to add, why is this relevant? Explain why you need a second city for this.**"
   ]
  },
  {
   "cell_type": "markdown",
   "metadata": {},
   "source": [
    "R: Controls we can  add:\n",
    "\n",
    "IMPORTANT, We may have to CHANGE THAT, because the rating and the stars we are using it  for the 3c\n",
    "\n",
    " -  The rating in the web.  \n",
    " - The Number of stars of the hotels, as the hotels with more stars tend to have higher price, \n",
    "\n",
    " - The distance to the center. The hotels that are more close tho the event/the center of the city ( the event is not done exacly in the center of the city but in the center are very good comunications to go to the event).\n",
    "\n",
    " - The number of coments that each hotel has in the webside .... (add more explanation)\n"
   ]
  },
  {
   "cell_type": "code",
   "execution_count": 49,
   "metadata": {},
   "outputs": [
    {
     "name": "stdout",
     "output_type": "stream",
     "text": [
      "                            OLS Regression Results                            \n",
      "==============================================================================\n",
      "Dep. Variable:                  Price   R-squared:                       0.408\n",
      "Model:                            OLS   Adj. R-squared:                  0.406\n",
      "Method:                 Least Squares   F-statistic:                     203.5\n",
      "Date:                Tue, 04 Feb 2025   Prob (F-statistic):          3.92e-165\n",
      "Time:                        22:22:09   Log-Likelihood:                -11964.\n",
      "No. Observations:                1480   AIC:                         2.394e+04\n",
      "Df Residuals:                    1474   BIC:                         2.397e+04\n",
      "Df Model:                           5                                         \n",
      "Covariance Type:            nonrobust                                         \n",
      "=========================================================================================\n",
      "                            coef    std err          t      P>|t|      [0.025      0.975]\n",
      "-----------------------------------------------------------------------------------------\n",
      "Intercept              -717.6324    192.249     -3.733      0.000   -1094.743    -340.522\n",
      "During_Treatment       -112.9676     55.486     -2.036      0.042    -221.808      -4.127\n",
      "Barcelona              -264.7209     58.808     -4.501      0.000    -380.077    -149.365\n",
      "Barcelona_x_treatment  1634.8584     81.979     19.942      0.000    1474.051    1795.666\n",
      "Rating                  255.6713     23.521     10.870      0.000     209.534     301.809\n",
      "num_coments               0.1599      0.090      1.776      0.076      -0.017       0.337\n",
      "==============================================================================\n",
      "Omnibus:                     1052.674   Durbin-Watson:                   1.469\n",
      "Prob(Omnibus):                  0.000   Jarque-Bera (JB):            18917.174\n",
      "Skew:                           3.134   Prob(JB):                         0.00\n",
      "Kurtosis:                      19.355   Cond. No.                     2.42e+03\n",
      "==============================================================================\n",
      "\n",
      "Notes:\n",
      "[1] Standard Errors assume that the covariance matrix of the errors is correctly specified.\n",
      "[2] The condition number is large, 2.42e+03. This might indicate that there are\n",
      "strong multicollinearity or other numerical problems.\n"
     ]
    }
   ],
   "source": [
    "#we will add the number of comments and the stars of the hotels. The distance to the center we didnt add because we had some problems with the Madrid dataset.add\n",
    "\n",
    "model2 = smf.ols(\n",
    "    \"Price ~ During_Treatment + Barcelona + Barcelona_x_treatment + Rating + num_coments \", \n",
    "    data=df\n",
    ").fit()\n",
    "\n",
    "# Print summary results\n",
    "print(model2.summary())"
   ]
  },
  {
   "cell_type": "markdown",
   "metadata": {},
   "source": [
    "## 3.b\n"
   ]
  },
  {
   "cell_type": "markdown",
   "metadata": {},
   "source": [
    "### How would you use text features from the description as controls? Think about the text in the descriptions you scraped. How would this help? Why would termslike \"Barcelona\" not help?"
   ]
  },
  {
   "cell_type": "markdown",
   "metadata": {},
   "source": [
    "Use new controls as: \n",
    "\n",
    "    - Sentiment score. \n",
    "\n",
    "\n",
    "    - Mentions of key amenities (e.g.: \"centro\", \"playa\", \"aeropuerto\", \"wifi\", \"metro\", \"piscina\" )\n",
    "\n",
    "\n",
    "    - Word_count as a proxy for hotel reputation.\n"
   ]
  },
  {
   "cell_type": "code",
   "execution_count": null,
   "metadata": {},
   "outputs": [],
   "source": [
    "#We will use the "
   ]
  },
  {
   "cell_type": "code",
   "execution_count": 50,
   "metadata": {},
   "outputs": [
    {
     "name": "stdout",
     "output_type": "stream",
     "text": [
      "                            OLS Regression Results                            \n",
      "==============================================================================\n",
      "Dep. Variable:                  Price   R-squared:                       0.375\n",
      "Model:                            OLS   Adj. R-squared:                  0.372\n",
      "Method:                 Least Squares   F-statistic:                     126.4\n",
      "Date:                Tue, 04 Feb 2025   Prob (F-statistic):          1.35e-145\n",
      "Time:                        22:24:19   Log-Likelihood:                -12019.\n",
      "No. Observations:                1482   AIC:                         2.405e+04\n",
      "Df Residuals:                    1474   BIC:                         2.410e+04\n",
      "Df Model:                           7                                         \n",
      "Covariance Type:            nonrobust                                         \n",
      "=========================================================================================\n",
      "                            coef    std err          t      P>|t|      [0.025      0.975]\n",
      "-----------------------------------------------------------------------------------------\n",
      "Intercept               300.5823    241.523      1.245      0.214    -173.184     774.348\n",
      "During_Treatment       -112.7861     56.962     -1.980      0.048    -224.520      -1.052\n",
      "Barcelona              -201.8352     61.597     -3.277      0.001    -322.663     -81.007\n",
      "Barcelona_x_treatment  1634.6769     84.215     19.411      0.000    1469.482    1799.871\n",
      "Word_Count                6.5260      1.082      6.030      0.000       4.403       8.649\n",
      "Sentence_Count          300.5823    241.523      1.245      0.214    -173.184     774.348\n",
      "Avg_Word_Length          61.7308     86.624      0.713      0.476    -108.189     231.651\n",
      "Special_Mentions        -33.8338     63.881     -0.530      0.596    -159.142      91.474\n",
      "Sentiment_Score        -130.2645    135.785     -0.959      0.338    -396.616     136.087\n",
      "==============================================================================\n",
      "Omnibus:                      967.598   Durbin-Watson:                   1.461\n",
      "Prob(Omnibus):                  0.000   Jarque-Bera (JB):            13791.242\n",
      "Skew:                           2.858   Prob(JB):                         0.00\n",
      "Kurtosis:                      16.808   Cond. No.                     4.57e+16\n",
      "==============================================================================\n",
      "\n",
      "Notes:\n",
      "[1] Standard Errors assume that the covariance matrix of the errors is correctly specified.\n",
      "[2] The smallest eigenvalue is 3.99e-27. This might indicate that there are\n",
      "strong multicollinearity problems or that the design matrix is singular.\n"
     ]
    }
   ],
   "source": [
    "#HERE the data frame is not the same that we had because now we will have the columns of the frequency of the data\n",
    "model2=smf.ols(\n",
    "    \"Price ~ During_Treatment + Barcelona + Barcelona_x_treatment  + Word_Count + Sentence_Count +  Avg_Word_Length + Special_Mentions + Sentiment_Score\",\n",
    "    data=df\n",
    ").fit()\n",
    "\n",
    "print(model2.summary())"
   ]
  },
  {
   "cell_type": "markdown",
   "metadata": {},
   "source": [
    "- **Why Bacelona not help?**  : Almost Every hotel in the barcelona  mention \"Barcelona\" and making it non-informative. the word Barcelona doesn’t add variation to the model."
   ]
  },
  {
   "cell_type": "markdown",
   "metadata": {},
   "source": [
    "## 3.c\n"
   ]
  },
  {
   "cell_type": "markdown",
   "metadata": {},
   "source": [
    "Now suppose we want to decompose the treatment effect by hotel quality. Can\n",
    "you use the text description here? How would you use them to study heterogenous\n",
    "treatment effects? Write down a regression equation."
   ]
  },
  {
   "cell_type": "markdown",
   "metadata": {},
   "source": [
    "WE can add another column that represents the quality. \n",
    "In the part 2 ee can leveraged text descriptions of the hotels to extract meaningful features related to quality.\n",
    "Some examples were the apearance of this words luxury_words = [\"spa\",\"lujoso\",\"lujoso\", \"exclusivo\", \"premium\",\"sofisticado\",\"personalizado\",\"masajes\", \"sauna\"]\n",
    "\n",
    "\n",
    "WE use the number of stars of the hotels because we consider that as more stars a hotel has, more quality."
   ]
  },
  {
   "cell_type": "code",
   "execution_count": null,
   "metadata": {},
   "outputs": [],
   "source": []
  },
  {
   "cell_type": "code",
   "execution_count": 51,
   "metadata": {},
   "outputs": [
    {
     "name": "stdout",
     "output_type": "stream",
     "text": [
      "                            OLS Regression Results                            \n",
      "==============================================================================\n",
      "Dep. Variable:                  Price   R-squared:                       0.493\n",
      "Model:                            OLS   Adj. R-squared:                  0.491\n",
      "Method:                 Least Squares   F-statistic:                     238.9\n",
      "Date:                Tue, 04 Feb 2025   Prob (F-statistic):          2.59e-213\n",
      "Time:                        22:29:58   Log-Likelihood:                -11849.\n",
      "No. Observations:                1480   AIC:                         2.371e+04\n",
      "Df Residuals:                    1473   BIC:                         2.375e+04\n",
      "Df Model:                           6                                         \n",
      "Covariance Type:            nonrobust                                         \n",
      "=========================================================================================\n",
      "                            coef    std err          t      P>|t|      [0.025      0.975]\n",
      "-----------------------------------------------------------------------------------------\n",
      "Intercept              -880.5131    178.379     -4.936      0.000   -1230.417    -530.609\n",
      "During_Treatment       -112.9676     51.371     -2.199      0.028    -213.735     -12.200\n",
      "Barcelona              -295.2951     54.989     -5.370      0.000    -403.160    -187.431\n",
      "Barcelona_x_treatment  1634.8584     75.898     21.540      0.000    1485.978    1783.738\n",
      "Rating                  118.7750     23.522      5.050      0.000      72.635     164.915\n",
      "stars                   393.9488     25.901     15.210      0.000     343.141     444.757\n",
      "Luxury_Score             46.5917     26.573      1.753      0.080      -5.533      98.716\n",
      "==============================================================================\n",
      "Omnibus:                     1093.622   Durbin-Watson:                   1.523\n",
      "Prob(Omnibus):                  0.000   Jarque-Bera (JB):            21711.920\n",
      "Skew:                           3.274   Prob(JB):                         0.00\n",
      "Kurtosis:                      20.584   Cond. No.                         85.2\n",
      "==============================================================================\n",
      "\n",
      "Notes:\n",
      "[1] Standard Errors assume that the covariance matrix of the errors is correctly specified.\n"
     ]
    }
   ],
   "source": [
    "model2 = smf.ols(\n",
    "    \"Price ~ During_Treatment + Barcelona + Barcelona_x_treatment + Rating + stars + Luxury_Score \", \n",
    "    data=df\n",
    ").fit()\n",
    "\n",
    "# Print summary results\n",
    "print(model2.summary())"
   ]
  }
 ],
 "metadata": {
  "kernelspec": {
   "display_name": "DS_enviroment",
   "language": "python",
   "name": "python3"
  },
  "language_info": {
   "codemirror_mode": {
    "name": "ipython",
    "version": 3
   },
   "file_extension": ".py",
   "mimetype": "text/x-python",
   "name": "python",
   "nbconvert_exporter": "python",
   "pygments_lexer": "ipython3",
   "version": "3.12.2"
  }
 },
 "nbformat": 4,
 "nbformat_minor": 2
}
