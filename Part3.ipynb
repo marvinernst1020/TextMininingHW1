{
 "cells": [
  {
   "cell_type": "markdown",
   "metadata": {},
   "source": [
    "#Regressions"
   ]
  },
  {
   "cell_type": "markdown",
   "metadata": {},
   "source": [
    "## Part 3.a\n",
    "Write down a fixed effects regression equation that allows you to derive a difference-\n",
    "in-difference estimate of the effect of the event on prices. Think of controls to\n",
    "add, why is this relevant? Explain why you need a second city for this."
   ]
  },
  {
   "cell_type": "code",
   "execution_count": 7,
   "metadata": {},
   "outputs": [],
   "source": [
    "#Libraries that we are goint to use:\n",
    "import pandas as pd\n",
    "#!pip install statsmodels\n",
    "\n",
    "import statsmodels.api as sm\n",
    "import statsmodels.formula.api as smf\n"
   ]
  },
  {
   "cell_type": "code",
   "execution_count": null,
   "metadata": {},
   "outputs": [],
   "source": [
    "df= pd.read_csv(\"///\")"
   ]
  },
  {
   "cell_type": "markdown",
   "metadata": {},
   "source": [
    "First lets run the most basic regression:"
   ]
  },
  {
   "cell_type": "code",
   "execution_count": null,
   "metadata": {},
   "outputs": [],
   "source": [
    "\n",
    "\n",
    "\n",
    "# Create the interaction term (DiD variable)\n",
    "df[\"MCW*treated\"] = df[\"MWC\"] * df[\"treated\"]\n",
    "\n",
    "#Fist we will run a regression without CONTROLS.\n",
    "\n",
    "model = smf.ols(\n",
    "    \"price ~ post + treated + post_treated + C(city) + C(time)\", \n",
    "    data=df\n",
    ").fit()\n",
    "\n",
    "# Print summary results\n",
    "print(model.summary())\n"
   ]
  },
  {
   "cell_type": "markdown",
   "metadata": {},
   "source": []
  },
  {
   "cell_type": "markdown",
   "metadata": {},
   "source": [
    "## 3.b\n"
   ]
  },
  {
   "cell_type": "markdown",
   "metadata": {},
   "source": [
    "How would you use text features from the description as controls? Think about\n",
    "the text in the descriptions you scraped. How would this help? Why would terms\n",
    "like \"Barcelona\" not help?"
   ]
  },
  {
   "cell_type": "markdown",
   "metadata": {},
   "source": [
    "Use new controls as: \n",
    "\"piscina\" , \"wifi\",\"spa\", \"lujoso\"  \"cerca del centro\" ,\"cerca del metro\"\n",
    "More if you wand"
   ]
  },
  {
   "cell_type": "code",
   "execution_count": null,
   "metadata": {},
   "outputs": [],
   "source": [
    "#HERE the data frame is not the same that we had because now we will have the columns of the frequency of the data\n",
    "model2=smf.ols(\n",
    "    \"price ~ post + treated + post_treated + C(city) + C(time) + X + XX + XXX+ XXX\",\n",
    "    data=df\n",
    ").fit()"
   ]
  },
  {
   "cell_type": "markdown",
   "metadata": {},
   "source": [
    "- **Why bacelona not help?**  : Almost Every hotel in the barcelona  mention \"Barcelona\" and making it non-informative. the word Barcelona doesn’t add variation to the model."
   ]
  },
  {
   "cell_type": "markdown",
   "metadata": {},
   "source": [
    "## 3.c\n"
   ]
  },
  {
   "cell_type": "markdown",
   "metadata": {},
   "source": [
    "Now suppose we want to decompose the treatment effect by hotel quality. Can\n",
    "you use the text description here? How would you use them to study heterogenous\n",
    "treatment effects? Write down a regression equation."
   ]
  },
  {
   "cell_type": "markdown",
   "metadata": {},
   "source": [
    "WE can add another column that represents the quality. Quality =2 represents Luxury .Quality=1 represens Mid-range,  Quality = 0 represent Budget hotels\n",
    "\n",
    "Luxury hotels (mentioning \"5-star\", \"spa\", \"rooftop\", etc.).\n",
    "Mid-range hotels (\"comfortable\", \"good location\", \"breakfast included\").\n",
    "Budget hotels (\"affordable\", \"hostel\", \"shared room\")."
   ]
  },
  {
   "cell_type": "code",
   "execution_count": null,
   "metadata": {},
   "outputs": [],
   "source": [
    "#need to generate another model where the control columns are some"
   ]
  }
 ],
 "metadata": {
  "kernelspec": {
   "display_name": "DS_enviroment",
   "language": "python",
   "name": "python3"
  },
  "language_info": {
   "codemirror_mode": {
    "name": "ipython",
    "version": 3
   },
   "file_extension": ".py",
   "mimetype": "text/x-python",
   "name": "python",
   "nbconvert_exporter": "python",
   "pygments_lexer": "ipython3",
   "version": "3.12.2"
  }
 },
 "nbformat": 4,
 "nbformat_minor": 2
}
