{
 "cells": [
  {
   "cell_type": "markdown",
   "metadata": {},
   "source": [
    "#Regressions"
   ]
  },
  {
   "cell_type": "code",
   "execution_count": 7,
   "metadata": {},
   "outputs": [],
   "source": [
    "#Libraries that we are goint to use:\n",
    "import pandas as pd\n",
    "#!pip install statsmodels\n",
    "\n",
    "import statsmodels.api as sm\n",
    "import statsmodels.formula.api as smf\n"
   ]
  },
  {
   "cell_type": "code",
   "execution_count": 10,
   "metadata": {},
   "outputs": [],
   "source": [
    "df= pd.read_csv(\"/Users/polgarcia/Documents/Master/T2/Text_Mining/H1(scrapping+D&D)/TextMininingHW1/GitTextMining/final_cleaned_data.csv\")"
   ]
  },
  {
   "cell_type": "code",
   "execution_count": 11,
   "metadata": {},
   "outputs": [
    {
     "name": "stdout",
     "output_type": "stream",
     "text": [
      "                                     Name  Barcelona  Price  Rating  \\\n",
      "0                 chic&basic Habana Hoose          1   2652    8.58   \n",
      "1  Axel TWO Barcelona 4 Sup - Adults Only          1   2149    8.38   \n",
      "2      Barcelonaforrent The Central Place          1   5312    8.28   \n",
      "3                         Tembo Barcelona          1   2840    8.88   \n",
      "4          Hesperia Barcelona Barri Gòtic          1   2327    8.78   \n",
      "\n",
      "                                         Description  During_Treatment  \\\n",
      "0  Chic&basic Habana Hoose es un alojamiento con ...                 1   \n",
      "1  El TWO Hotel Barcelona by Axel está situado en...                 1   \n",
      "2  El Barcelonaforrent The Central Places ofrece ...                 1   \n",
      "3  Tembo Barcelona está en Barcelona, a 16 min a ...                 1   \n",
      "4  Hesperia Barcelona Barri Gòtic es un alojamien...                 1   \n",
      "\n",
      "                                 Cleaned_Description  \n",
      "0  chic basic habana hoos alojamiento ubicación e...  \n",
      "1  two hotel barcelona by axel situado pleno barr...  \n",
      "2  barcelonaforr the central place ofrec vista ca...  \n",
      "3  tembo barcelona barcelona 16 min pie platja ll...  \n",
      "4  hesperia barcelona barri gòtic alojamiento bie...  \n"
     ]
    }
   ],
   "source": [
    "print(df.head())"
   ]
  },
  {
   "cell_type": "markdown",
   "metadata": {},
   "source": [
    "## Explanation of the Dataset\n",
    "\n",
    "- **`Name`**: The name of the hotel.  \n",
    "- **`Barcelona`**: This column can take only two values:  \n",
    "  - `0` if the hotel is not in Barcelona but in our control city, which in this case is Madrid (chosen due to its price similarity).  \n",
    "  - `1` if the hotel is located in Barcelona.  \n",
    "- **`Price`**: The price of the hotel in Euros.  \n",
    "- **`Rating`**: The rating of the hotel on the booking website.  \n",
    "- **`Description`**: The original hotel description as found on the website.  \n",
    "- **`During_Treatment`**: This column can take two values:  \n",
    "  - `0` if the recorded prices are from the control week (two weeks after the event).  \n",
    "  - `1` if the prices correspond to the week of the event.  \n",
    "- **`Cleaned_Description`**: The hotel description after text preprocessing.  \n"
   ]
  },
  {
   "cell_type": "markdown",
   "metadata": {},
   "source": [
    "## Part 3.a\n",
    "Write down a fixed effects regression equation that allows you to derive a difference-\n",
    "in-difference estimate of the effect of the event on prices. Think of controls to\n",
    "add, why is this relevant? Explain why you need a second city for this."
   ]
  },
  {
   "cell_type": "markdown",
   "metadata": {},
   "source": [
    "First lets run the most basic regression:"
   ]
  },
  {
   "cell_type": "code",
   "execution_count": 13,
   "metadata": {},
   "outputs": [
    {
     "name": "stdout",
     "output_type": "stream",
     "text": [
      "                            OLS Regression Results                            \n",
      "==============================================================================\n",
      "Dep. Variable:                  Price   R-squared:                       0.345\n",
      "Model:                            OLS   Adj. R-squared:                  0.344\n",
      "Method:                 Least Squares   F-statistic:                     315.6\n",
      "Date:                Tue, 04 Feb 2025   Prob (F-statistic):          1.41e-164\n",
      "Time:                        13:02:15   Log-Likelihood:                -14547.\n",
      "No. Observations:                1802   AIC:                         2.910e+04\n",
      "Df Residuals:                    1798   BIC:                         2.912e+04\n",
      "Df Model:                           3                                         \n",
      "Covariance Type:            nonrobust                                         \n",
      "============================================================================================\n",
      "                               coef    std err          t      P>|t|      [0.025      0.975]\n",
      "--------------------------------------------------------------------------------------------\n",
      "Intercept                 1293.3757     34.349     37.653      0.000    1226.007    1360.745\n",
      "C(Barcelona)[T.1]          -50.1058     26.105     -1.919      0.055    -101.305       1.093\n",
      "C(During_Treatment)[T.1]   -31.0881     24.289     -1.280      0.201     -78.725      16.549\n",
      "During_Treatment           -31.0881     24.289     -1.280      0.201     -78.725      16.549\n",
      "Barcelona                  -50.1058     26.105     -1.919      0.055    -101.305       1.093\n",
      "Barcelona_x_treatment     1476.0710     73.835     19.991      0.000    1331.259    1620.883\n",
      "==============================================================================\n",
      "Omnibus:                     1109.311   Durbin-Watson:                   1.278\n",
      "Prob(Omnibus):                  0.000   Jarque-Bera (JB):            15603.167\n",
      "Skew:                           2.654   Prob(JB):                         0.00\n",
      "Kurtosis:                      16.403   Cond. No.                     1.51e+15\n",
      "==============================================================================\n",
      "\n",
      "Notes:\n",
      "[1] Standard Errors assume that the covariance matrix of the errors is correctly specified.\n",
      "[2] The smallest eigenvalue is 1.77e-27. This might indicate that there are\n",
      "strong multicollinearity problems or that the design matrix is singular.\n"
     ]
    }
   ],
   "source": [
    "\n",
    "\n",
    "\n",
    "# Create the interaction term (DiD variable)\n",
    "df[\"Barcelona_x_treatment\"] = df[\"Barcelona\"] * df[\"During_Treatment\"]\n",
    "\n",
    "#Fist we will run a regression without CONTROLS.\n",
    "\n",
    "model = smf.ols(\n",
    "    \"Price ~ During_Treatment + Barcelona + Barcelona_x_treatment + C(Barcelona) + C(During_Treatment)\", \n",
    "    data=df\n",
    ").fit()\n",
    "\n",
    "# Print summary results\n",
    "print(model.summary())\n"
   ]
  },
  {
   "cell_type": "markdown",
   "metadata": {},
   "source": [
    "What can we take from here: **#The event significantly increases hotel prices in Barcelona (Barcelona_x_treatment = 1476.07, p < 0.001).**"
   ]
  },
  {
   "cell_type": "markdown",
   "metadata": {},
   "source": [
    "### **Think of controls to add, why is this relevant? Explain why you need a second city for this.**"
   ]
  },
  {
   "cell_type": "markdown",
   "metadata": {},
   "source": [
    "R: Controls we can  add:\n",
    " - The Number of stars of the hotels, as the hotels with more stars tend to have higher price, \n",
    " - The distance to the center. The hotels that are more close tho the event/the center of the city ( the event is not done exacly in the center of the city but in the center are very good comunications to go to the event).\n",
    " - The number of coments that each hotel has in the webside .... (add more explanation)\n"
   ]
  },
  {
   "cell_type": "markdown",
   "metadata": {},
   "source": [
    "## 3.b\n"
   ]
  },
  {
   "cell_type": "markdown",
   "metadata": {},
   "source": [
    "### How would you use text features from the description as controls? Think about the text in the descriptions you scraped. How would this help? Why would termslike \"Barcelona\" not help?"
   ]
  },
  {
   "cell_type": "markdown",
   "metadata": {},
   "source": [
    "Use new controls as: \n",
    "\"piscina\" , \"wifi\",\"spa\", \"lujoso\"  \"cerca del centro\" ,\"cerca del metro\"\n",
    "More if you wand"
   ]
  },
  {
   "cell_type": "code",
   "execution_count": null,
   "metadata": {},
   "outputs": [],
   "source": [
    "# will need ot do some preprocesessing. Using Results from part 2\n",
    "vocab, index = {}, 1  # start indexing from 1\n",
    "dfwords=df[\"Cleaned_Description\"]\n",
    "for col in dfwords:\n",
    "    tokens = col.split()\n",
    "    for token in tokens:\n",
    "      if token not in vocab:\n",
    "        vocab[token] = index\n",
    "        index += 1\n",
    "        \n",
    "vocab_stem=vocab\n",
    "vocab_stem_size = len(vocab)\n",
    "print(vocab_stem)\n",
    "print(\" \")\n",
    "print(\"Total size of stemmed vocabulary:\", vocab_stem_size)\n",
    "\n",
    "vectors=[]\n",
    "for doc in corpus_data.text_preproc:\n",
    "    vectors.append(vectorize(doc, vocab_stem))\n",
    "\n",
    "df = pd.DataFrame(vectors)\n",
    "df"
   ]
  },
  {
   "cell_type": "code",
   "execution_count": null,
   "metadata": {},
   "outputs": [],
   "source": [
    "#HERE the data frame is not the same that we had because now we will have the columns of the frequency of the data\n",
    "model2=smf.ols(\n",
    "    \"price ~ During_Treatment + Barcelona + Barcelona_x_treatment + C(Barcelona) + C(During_Treatment) + X + XX + XXX+ XXX\",\n",
    "    data=df\n",
    ").fit()"
   ]
  },
  {
   "cell_type": "markdown",
   "metadata": {},
   "source": [
    "- **Why bacelona not help?**  : Almost Every hotel in the barcelona  mention \"Barcelona\" and making it non-informative. the word Barcelona doesn’t add variation to the model."
   ]
  },
  {
   "cell_type": "code",
   "execution_count": 25,
   "metadata": {},
   "outputs": [
    {
     "name": "stdout",
     "output_type": "stream",
     "text": [
      "[]\n"
     ]
    }
   ],
   "source": [
    "import re\n",
    "string ='2314.23 comentarios'\n",
    "patern = r'(/d+) coment'\n",
    "match= re.findall(patern,string)\n",
    "print(match)"
   ]
  },
  {
   "cell_type": "markdown",
   "metadata": {},
   "source": [
    "## 3.c\n"
   ]
  },
  {
   "cell_type": "markdown",
   "metadata": {},
   "source": [
    "Now suppose we want to decompose the treatment effect by hotel quality. Can\n",
    "you use the text description here? How would you use them to study heterogenous\n",
    "treatment effects? Write down a regression equation."
   ]
  },
  {
   "cell_type": "markdown",
   "metadata": {},
   "source": [
    "WE can add another column that represents the quality. Quality =2 represents Luxury .Quality=1 represens Mid-range,  Quality = 0 represent Budget hotels\n",
    "\n",
    "Luxury hotels (mentioning \"5-star\", \"spa\", \"rooftop\", etc.).\n",
    "Mid-range hotels (\"comfortable\", \"good location\", \"breakfast included\").\n",
    "Budget hotels (\"affordable\", \"hostel\", \"shared room\")."
   ]
  },
  {
   "cell_type": "code",
   "execution_count": null,
   "metadata": {},
   "outputs": [],
   "source": [
    "#need to generate another model where the control columns are some"
   ]
  }
 ],
 "metadata": {
  "kernelspec": {
   "display_name": "DS_enviroment",
   "language": "python",
   "name": "python3"
  },
  "language_info": {
   "codemirror_mode": {
    "name": "ipython",
    "version": 3
   },
   "file_extension": ".py",
   "mimetype": "text/x-python",
   "name": "python",
   "nbconvert_exporter": "python",
   "pygments_lexer": "ipython3",
   "version": "3.12.2"
  }
 },
 "nbformat": 4,
 "nbformat_minor": 2
}
