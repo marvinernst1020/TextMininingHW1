{
 "cells": [
  {
   "cell_type": "markdown",
   "metadata": {},
   "source": [
    "#Regressions"
   ]
  },
  {
   "cell_type": "code",
   "execution_count": 26,
   "metadata": {},
   "outputs": [],
   "source": [
    "#Libraries that we are goint to use:\n",
    "import pandas as pd\n",
    "#!pip install statsmodels\n",
    "\n",
    "import statsmodels.api as sm\n",
    "import statsmodels.formula.api as smf\n"
   ]
  },
  {
   "cell_type": "code",
   "execution_count": 29,
   "metadata": {},
   "outputs": [],
   "source": [
    "df= pd.read_csv(\"/Users/polgarcia/Documents/Master/T2/Text_Mining/H1(scrapping+D&D)/TextMininingHW1/final_cleaned_data.csv\")"
   ]
  },
  {
   "cell_type": "code",
   "execution_count": 30,
   "metadata": {},
   "outputs": [
    {
     "name": "stdout",
     "output_type": "stream",
     "text": [
      "                                     Name  Barcelona  Price  Rating  stars  \\\n",
      "0                        Isabella's House          1   2142    8.58    4.0   \n",
      "1                         Sonder Casa Luz          1   4870    8.48    4.0   \n",
      "2  Axel TWO Barcelona 4 Sup - Adults Only          1   2149    8.38    4.0   \n",
      "3                           Acta Voraport          1   1540    8.88    3.0   \n",
      "4                         Tembo Barcelona          1   2840    8.88    4.0   \n",
      "\n",
      "   num_coments                                        Description  \\\n",
      "0        1.390  Isabella's House se encuentra a 2,9 km de Pase...   \n",
      "1        2.889  El Sonder Casa Luz se encuentra en Barcelona y...   \n",
      "2        2.742  El TWO Hotel Barcelona by Axel está situado en...   \n",
      "3       13.850  Acta Voraport está en Barcelona, a 10 min a pi...   \n",
      "4        2.697  Tembo Barcelona está en Barcelona, a 16 min a ...   \n",
      "\n",
      "   During_Treatment                                Cleaned_Description  \\\n",
      "0                 1  isabell hous encuentr 29_km pase graci ofrec a...   \n",
      "1                 1  sond cas luz encuentr ofrec terraz desayun ser...   \n",
      "2                 1  two by axel situ plen barri gay 2_km play barc...   \n",
      "3                 1  acta voraport 10_min pie platj bogatell dispon...   \n",
      "4                 1  temb 16_min pie platj llevant dispon aloj pisc...   \n",
      "\n",
      "   Word_Count  Sentence_Count  Avg_Word_Length  Special_Mentions  \\\n",
      "0        58.0             1.0         5.500000               1.0   \n",
      "1        45.0             1.0         5.222222               0.0   \n",
      "2       129.0             1.0         5.209302               1.0   \n",
      "3        80.0             1.0         5.275000               1.0   \n",
      "4        81.0             1.0         5.061728               1.0   \n",
      "\n",
      "   Sentiment_Score  \n",
      "0         0.000000  \n",
      "1         0.000000  \n",
      "2         0.246429  \n",
      "3         0.000000  \n",
      "4         0.000000  \n"
     ]
    }
   ],
   "source": [
    "print(df.head())"
   ]
  },
  {
   "cell_type": "markdown",
   "metadata": {},
   "source": [
    "## Explanation of the Dataset\n",
    "\n",
    "- **`Name`**: The name of the hotel.  \n",
    "- **`Barcelona`**: This column can take only two values:  \n",
    "  - `0` if the hotel is not in Barcelona but in our control city, which in this case is Madrid (chosen due to its price similarity).  \n",
    "  - `1` if the hotel is located in Barcelona.  \n",
    "- **`Price`**: The price of the hotel in Euros.  \n",
    "- **`Rating`**: The rating of the hotel on the booking website.  \n",
    "- **`Description`**: The original hotel description as found on the website.  \n",
    "- **`During_Treatment`**: This column can take two values:  \n",
    "  - `0` if the recorded prices are from the control week (two weeks after the event).  \n",
    "  - `1` if the prices correspond to the week of the event.  \n",
    "- **`Cleaned_Description`**: The hotel description after text preprocessing.  \n"
   ]
  },
  {
   "cell_type": "markdown",
   "metadata": {},
   "source": [
    "## Part 3.a\n",
    "Write down a fixed effects regression equation that allows you to derive a difference-\n",
    "in-difference estimate of the effect of the event on prices. Think of controls to\n",
    "add, why is this relevant? Explain why you need a second city for this."
   ]
  },
  {
   "cell_type": "markdown",
   "metadata": {},
   "source": [
    "First lets run the most basic regression:"
   ]
  },
  {
   "cell_type": "code",
   "execution_count": 31,
   "metadata": {},
   "outputs": [
    {
     "name": "stdout",
     "output_type": "stream",
     "text": [
      "                            OLS Regression Results                            \n",
      "==============================================================================\n",
      "Dep. Variable:                  Price   R-squared:                       0.359\n",
      "Model:                            OLS   Adj. R-squared:                  0.357\n",
      "Method:                 Least Squares   F-statistic:                     206.7\n",
      "Date:                Tue, 04 Feb 2025   Prob (F-statistic):          6.64e-141\n",
      "Time:                        20:06:01   Log-Likelihood:                -12038.\n",
      "No. Observations:                1482   AIC:                         2.409e+04\n",
      "Df Residuals:                    1477   BIC:                         2.411e+04\n",
      "Df Model:                           4                                         \n",
      "Covariance Type:            nonrobust                                         \n",
      "============================================================================================\n",
      "                               coef    std err          t      P>|t|      [0.025      0.975]\n",
      "--------------------------------------------------------------------------------------------\n",
      "Intercept                 1326.1610     45.502     29.145      0.000    1236.906    1415.416\n",
      "C(Barcelona)[T.1]         1.187e+14   1.56e+14      0.760      0.447   -1.88e+14    4.25e+14\n",
      "C(During_Treatment)[T.1]  5.489e+15   7.22e+15      0.760      0.447   -8.68e+15    1.97e+16\n",
      "During_Treatment         -5.489e+15   7.22e+15     -0.760      0.447   -1.97e+16    8.68e+15\n",
      "Barcelona                -1.187e+14   1.56e+14     -0.760      0.447   -4.25e+14    1.88e+14\n",
      "Barcelona_x_treatment     1637.9109     85.313     19.199      0.000    1470.564    1805.258\n",
      "==============================================================================\n",
      "Omnibus:                      992.341   Durbin-Watson:                   1.464\n",
      "Prob(Omnibus):                  0.000   Jarque-Bera (JB):            15521.666\n",
      "Skew:                           2.924   Prob(JB):                         0.00\n",
      "Kurtosis:                      17.736   Cond. No.                     1.44e+15\n",
      "==============================================================================\n",
      "\n",
      "Notes:\n",
      "[1] Standard Errors assume that the covariance matrix of the errors is correctly specified.\n",
      "[2] The smallest eigenvalue is 1.64e-27. This might indicate that there are\n",
      "strong multicollinearity problems or that the design matrix is singular.\n"
     ]
    }
   ],
   "source": [
    "\n",
    "# Create the interaction term (DiD variable)\n",
    "df[\"Barcelona_x_treatment\"] = df[\"Barcelona\"] * df[\"During_Treatment\"]\n",
    "\n",
    "#Fist we will run a regression without CONTROLS.\n",
    "\n",
    "model = smf.ols(\n",
    "    \"Price ~ During_Treatment + Barcelona + Barcelona_x_treatment + C(Barcelona) + C(During_Treatment)\", \n",
    "    data=df\n",
    ").fit()\n",
    "\n",
    "# Print summary results\n",
    "print(model.summary())\n"
   ]
  },
  {
   "cell_type": "markdown",
   "metadata": {},
   "source": [
    "What can we take from here: **#The event significantly increases hotel prices in Barcelona (Barcelona_x_treatment = 1476.07, p < 0.001).**"
   ]
  },
  {
   "cell_type": "markdown",
   "metadata": {},
   "source": [
    "### **Think of controls to add, why is this relevant? Explain why you need a second city for this.**"
   ]
  },
  {
   "cell_type": "markdown",
   "metadata": {},
   "source": [
    "R: Controls we can  add:\n",
    " -  The rating in the web.  \n",
    " - The Number of stars of the hotels, as the hotels with more stars tend to have higher price, \n",
    "\n",
    " - The distance to the center. The hotels that are more close tho the event/the center of the city ( the event is not done exacly in the center of the city but in the center are very good comunications to go to the event).\n",
    "\n",
    " - The number of coments that each hotel has in the webside .... (add more explanation)\n"
   ]
  },
  {
   "cell_type": "code",
   "execution_count": 32,
   "metadata": {},
   "outputs": [
    {
     "name": "stdout",
     "output_type": "stream",
     "text": [
      "                            OLS Regression Results                            \n",
      "==============================================================================\n",
      "Dep. Variable:                  Price   R-squared:                       0.493\n",
      "Model:                            OLS   Adj. R-squared:                  0.491\n",
      "Method:                 Least Squares   F-statistic:                     238.6\n",
      "Date:                Tue, 04 Feb 2025   Prob (F-statistic):          4.09e-213\n",
      "Time:                        20:24:44   Log-Likelihood:                -11849.\n",
      "No. Observations:                1480   AIC:                         2.371e+04\n",
      "Df Residuals:                    1473   BIC:                         2.375e+04\n",
      "Df Model:                           6                                         \n",
      "Covariance Type:            nonrobust                                         \n",
      "============================================================================================\n",
      "                               coef    std err          t      P>|t|      [0.025      0.975]\n",
      "--------------------------------------------------------------------------------------------\n",
      "Intercept                 -873.0997    178.321     -4.896      0.000   -1222.889    -523.310\n",
      "C(Barcelona)[T.1]         -158.2343     27.281     -5.800      0.000    -211.749    -104.720\n",
      "C(During_Treatment)[T.1]   -56.4838     25.693     -2.198      0.028    -106.883      -6.084\n",
      "During_Treatment           -56.4838     25.693     -2.198      0.028    -106.883      -6.084\n",
      "Barcelona                 -158.2343     27.281     -5.800      0.000    -211.749    -104.720\n",
      "Barcelona_x_treatment     1634.8584     75.922     21.533      0.000    1485.932    1783.785\n",
      "Rating                     116.9800     23.512      4.975      0.000      70.859     163.101\n",
      "stars                      400.4701     25.555     15.671      0.000     350.342     450.598\n",
      "num_coments                  0.1225      0.083      1.468      0.142      -0.041       0.286\n",
      "==============================================================================\n",
      "Omnibus:                     1104.903   Durbin-Watson:                   1.520\n",
      "Prob(Omnibus):                  0.000   Jarque-Bera (JB):            22673.967\n",
      "Skew:                           3.311   Prob(JB):                         0.00\n",
      "Kurtosis:                      20.995   Cond. No.                     1.88e+17\n",
      "==============================================================================\n",
      "\n",
      "Notes:\n",
      "[1] Standard Errors assume that the covariance matrix of the errors is correctly specified.\n",
      "[2] The smallest eigenvalue is 2.73e-27. This might indicate that there are\n",
      "strong multicollinearity problems or that the design matrix is singular.\n"
     ]
    }
   ],
   "source": [
    "#we will add the number of comments and the stars of the hotels. The distance to the center we didnt add because we had some problems with the Madrid dataset.add\n",
    "\n",
    "model2 = smf.ols(\n",
    "    \"Price ~ During_Treatment + Barcelona + Barcelona_x_treatment + Rating + stars + num_coments + C(Barcelona) + C(During_Treatment)\", \n",
    "    data=df\n",
    ").fit()\n",
    "\n",
    "# Print summary results\n",
    "print(model2.summary())"
   ]
  },
  {
   "cell_type": "markdown",
   "metadata": {},
   "source": [
    "## 3.b\n"
   ]
  },
  {
   "cell_type": "markdown",
   "metadata": {},
   "source": [
    "### How would you use text features from the description as controls? Think about the text in the descriptions you scraped. How would this help? Why would termslike \"Barcelona\" not help?"
   ]
  },
  {
   "cell_type": "markdown",
   "metadata": {},
   "source": [
    "Use new controls as: \n",
    "\"piscina\" , \"wifi\",\"spa\", \"lujoso\"  \"cerca del centro\" ,\"cerca del metro\"\n",
    "More if you wand"
   ]
  },
  {
   "cell_type": "code",
   "execution_count": null,
   "metadata": {},
   "outputs": [],
   "source": [
    "# will need ot do some preprocesessing. Using Results from part 2\n",
    "vocab, index = {}, 1  # start indexing from 1\n",
    "dfwords=df[\"Cleaned_Description\"]\n",
    "for col in dfwords:\n",
    "    tokens = col.split()\n",
    "    for token in tokens:\n",
    "      if token not in vocab:\n",
    "        vocab[token] = index\n",
    "        index += 1\n",
    "        \n",
    "vocab_stem=vocab\n",
    "vocab_stem_size = len(vocab)\n",
    "print(vocab_stem)\n",
    "print(\" \")\n",
    "print(\"Total size of stemmed vocabulary:\", vocab_stem_size)\n",
    "\n",
    "vectors=[]\n",
    "for doc in corpus_data.text_preproc:\n",
    "    vectors.append(vectorize(doc, vocab_stem))\n",
    "\n",
    "df = pd.DataFrame(vectors)\n",
    "df"
   ]
  },
  {
   "cell_type": "code",
   "execution_count": null,
   "metadata": {},
   "outputs": [],
   "source": [
    "#HERE the data frame is not the same that we had because now we will have the columns of the frequency of the data\n",
    "model2=smf.ols(\n",
    "    \"price ~ During_Treatment + Barcelona + Barcelona_x_treatment + C(Barcelona) + C(During_Treatment) + X + XX + XXX+ XXX\",\n",
    "    data=df\n",
    ").fit()"
   ]
  },
  {
   "cell_type": "markdown",
   "metadata": {},
   "source": [
    "- **Why bacelona not help?**  : Almost Every hotel in the barcelona  mention \"Barcelona\" and making it non-informative. the word Barcelona doesn’t add variation to the model."
   ]
  },
  {
   "cell_type": "code",
   "execution_count": 25,
   "metadata": {},
   "outputs": [
    {
     "name": "stdout",
     "output_type": "stream",
     "text": [
      "[]\n"
     ]
    }
   ],
   "source": []
  },
  {
   "cell_type": "markdown",
   "metadata": {},
   "source": [
    "## 3.c\n"
   ]
  },
  {
   "cell_type": "markdown",
   "metadata": {},
   "source": [
    "Now suppose we want to decompose the treatment effect by hotel quality. Can\n",
    "you use the text description here? How would you use them to study heterogenous\n",
    "treatment effects? Write down a regression equation."
   ]
  },
  {
   "cell_type": "markdown",
   "metadata": {},
   "source": [
    "WE can add another column that represents the quality. Quality =2 represents Luxury .Quality=1 represens Mid-range,  Quality = 0 represent Budget hotels\n",
    "\n",
    "Luxury hotels (mentioning \"5-star\", \"spa\", \"rooftop\", etc.).\n",
    "Mid-range hotels (\"comfortable\", \"good location\", \"breakfast included\").\n",
    "Budget hotels (\"affordable\", \"hostel\", \"shared room\")."
   ]
  },
  {
   "cell_type": "code",
   "execution_count": null,
   "metadata": {},
   "outputs": [],
   "source": [
    "#need to generate another model where the control columns are some"
   ]
  }
 ],
 "metadata": {
  "kernelspec": {
   "display_name": "DS_enviroment",
   "language": "python",
   "name": "python3"
  },
  "language_info": {
   "codemirror_mode": {
    "name": "ipython",
    "version": 3
   },
   "file_extension": ".py",
   "mimetype": "text/x-python",
   "name": "python",
   "nbconvert_exporter": "python",
   "pygments_lexer": "ipython3",
   "version": "3.12.2"
  }
 },
 "nbformat": 4,
 "nbformat_minor": 2
}
