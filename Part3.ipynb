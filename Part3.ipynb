{
 "cells": [
  {
   "cell_type": "markdown",
   "metadata": {},
   "source": [
    "# Homework 1: Text Mining\n",
    "## Part 3: Difference in Difference\n",
    "\n",
    "Group Members: Matias Borrel, Pol Garcia, Marvin Ernst"
   ]
  },
  {
   "cell_type": "markdown",
   "metadata": {},
   "source": [
    "#### Importing relevant Libraries:"
   ]
  },
  {
   "cell_type": "code",
   "execution_count": 1,
   "metadata": {},
   "outputs": [],
   "source": [
    "import pandas as pd\n",
    "import statsmodels.api as sm\n",
    "import statsmodels.formula.api as smf\n",
    "import numpy as np"
   ]
  },
  {
   "cell_type": "markdown",
   "metadata": {},
   "source": [
    "#### Load the cleaned data:"
   ]
  },
  {
   "cell_type": "code",
   "execution_count": 2,
   "metadata": {},
   "outputs": [],
   "source": [
    "df = pd.read_csv(\"final_cleaned_data.csv\")"
   ]
  },
  {
   "cell_type": "code",
   "execution_count": 3,
   "metadata": {},
   "outputs": [
    {
     "name": "stdout",
     "output_type": "stream",
     "text": [
      "                                     Name  Barcelona  Price  Rating  stars  \\\n",
      "0                        Isabella's House          1   2142    8.58    4.0   \n",
      "1                         Sonder Casa Luz          1   4870    8.48    4.0   \n",
      "2  Axel TWO Barcelona 4 Sup - Adults Only          1   2149    8.38    4.0   \n",
      "3                           Acta Voraport          1   1540    8.88    3.0   \n",
      "4                         Tembo Barcelona          1   2840    8.88    4.0   \n",
      "\n",
      "   num_coments                                        Description  \\\n",
      "0        1.390  Isabella's House se encuentra a 2,9 km de Pase...   \n",
      "1        2.889  El Sonder Casa Luz se encuentra en Barcelona y...   \n",
      "2        2.742  El TWO Hotel Barcelona by Axel está situado en...   \n",
      "3       13.850  Acta Voraport está en Barcelona, a 10 min a pi...   \n",
      "4        2.697  Tembo Barcelona está en Barcelona, a 16 min a ...   \n",
      "\n",
      "   During_Treatment                                Cleaned_Description  \\\n",
      "0                 1  isabell hous encuentr 29_km pase graci ofrec a...   \n",
      "1                 1  sond cas luz encuentr ofrec terraz desayun ser...   \n",
      "2                 1  two by axel situ plen barri gay 2_km play barc...   \n",
      "3                 1  acta voraport 10_min pie platj bogatell dispon...   \n",
      "4                 1  temb 16_min pie platj llevant dispon aloj pisc...   \n",
      "\n",
      "   Word_Count  Sentence_Count  Avg_Word_Length  Special_Mentions  \\\n",
      "0       125.0             7.0         4.216000               1.0   \n",
      "1        92.0             5.0         4.184783               0.0   \n",
      "2       264.0            12.0         4.401515               1.0   \n",
      "3       169.0             9.0         4.289941               1.0   \n",
      "4       181.0            10.0         4.099448               1.0   \n",
      "\n",
      "   Sentiment_Score  Luxury_Score  \n",
      "0         0.000000           0.0  \n",
      "1         0.000000           0.0  \n",
      "2         0.246429           1.0  \n",
      "3         0.000000           1.0  \n",
      "4         0.000000           0.0  \n"
     ]
    }
   ],
   "source": [
    "print(df.head()) "
   ]
  },
  {
   "cell_type": "markdown",
   "metadata": {},
   "source": [
    "## Explanation of the Dataset\n",
    "\n",
    "- **Name**: The name of the hotel.\n",
    "- **Barcelona**: This column indicates whether the hotel is in the treatment or control group:\n",
    "  - `0`: The hotel is located in **Madrid** (control group).\n",
    "  - `1`: The hotel is located in **Barcelona** (treatment group).\n",
    "- **Price**: The price of the hotel in **Euros** during the given time period.\n",
    "- **Rating**: The rating of the hotel based on user reviews from the booking platform.\n",
    "- **Stars**: The star classification of the hotel (e.g., **3-star, 4-star, etc.**).\n",
    "- **num_coments**: The number of reviews left by users on the platform.\n",
    "- **Description**: The original, unprocessed hotel description as found on the website.\n",
    "- **During_Treatment**: This column indicates whether the observation belongs to the treatment period:\n",
    "  - `0`: The prices were recorded **two weeks after the event** (control period).\n",
    "  - `1`: The prices correspond to **the event week** (treatment period).\n",
    "- **Cleaned_Description**: The processed hotel description after **stemming, lowercasing, removing stopwords, and preserving relevant numeric mentions** (such as distances and durations).\n",
    "- **Word_Count**: The total number of words in the hotel’s **raw** description.\n",
    "- **Sentence_Count**: The number of sentences in the hotel’s **raw** description.\n",
    "- **Avg_Word_Length**: The average length of words in the hotel’s **raw** description.\n",
    "- **Special_Mentions**: The number of times the description contains **important location-based keywords**, such as:\n",
    "  - `\"centro\"` (city center)\n",
    "  - `\"playa\"` (beach)\n",
    "  - `\"aeropuerto\"` (airport)\n",
    "  - `\"wifi\"`, `\"metro\"`, and `\"piscina\"` (pool)\n",
    "- **Sentiment_Score**: A computed **sentiment polarity score** based on the `TextBlob` sentiment analysis of the **cleaned** description.\n",
    "  - **Ranges from** `-1` (negative) **to** `1` (positive), **with** `0` **indicating a neutral description**.\n",
    "- **Luxury_Score**: The number of times the **cleaned** description includes words associated with **luxury accommodations**, such as:\n",
    "  - `\"spa\"`, `\"lujoso\"` (luxurious), `\"exclusivo\"`, `\"premium\"`\n",
    "  - `\"sofisticado\"` (sophisticated), `\"personalizado\"`, `\"masajes\"` (massages), and `\"sauna\"`\n"
   ]
  },
  {
   "cell_type": "markdown",
   "metadata": {},
   "source": [
    "## (a) Fixed Effects Regression\n",
    "\n",
    "Write down a fixed effects regression equation that allows you to derive a difference-\n",
    "in-difference estimate of the effect of the event on prices. Think of controls to\n",
    "add, why is this relevant? Explain why you need a second city for this."
   ]
  },
  {
   "cell_type": "markdown",
   "metadata": {},
   "source": [
    "### Base Model:\n",
    "\n",
    "Fist we will run a regression without controls."
   ]
  },
  {
   "cell_type": "markdown",
   "metadata": {},
   "source": [
    "Create the interaction term:"
   ]
  },
  {
   "cell_type": "code",
   "execution_count": 4,
   "metadata": {},
   "outputs": [],
   "source": [
    "df[\"Barcelona_x_Treatment\"] = df[\"Barcelona\"] * df[\"During_Treatment\"]"
   ]
  },
  {
   "cell_type": "markdown",
   "metadata": {},
   "source": [
    "#### Why Take the Log of the Price?\n",
    "\n",
    "We take the logarithm of the price (outcome variable) because:\n",
    "\n",
    "- **Interpretability**: The coefficient estimates can be interpreted as percentage changes rather than absolute changes. This is particularly useful when analyzing price effects, as percentage changes are more intuitive in economic contexts.\n",
    "\n",
    "- **Reduces Skewness**: Prices often have a right-skewed distribution, meaning there are a few very high values that could disproportionately influence the regression results. Taking the log helps make the distribution more normal, which improves the reliability of the statistical model.\n",
    "\n",
    "- **Stabilizes Variance**: Log transformation can help reduce heteroskedasticity, meaning it makes the variance of the residuals more constant across different levels of the independent variables, which is an assumption of OLS regression.\n",
    "\n",
    "- **Better Fit for Multiplicative Relationships**: Many economic relationships are multiplicative rather than additive (e.g., a 10% increase in demand leads to a 5% increase in price, rather than a fixed amount). A log-linear model captures these effects better than a linear model.\n",
    "\n",
    "By applying the log transformation, we ensure that our estimates reflect relative price changes, improving both the robustness and interpretability of our regression results."
   ]
  },
  {
   "cell_type": "code",
   "execution_count": 5,
   "metadata": {},
   "outputs": [],
   "source": [
    "df[\"Log_Price\"] = np.log(df[\"Price\"])"
   ]
  },
  {
   "cell_type": "code",
   "execution_count": 6,
   "metadata": {},
   "outputs": [
    {
     "name": "stdout",
     "output_type": "stream",
     "text": [
      "                            OLS Regression Results                            \n",
      "==============================================================================\n",
      "Dep. Variable:              Log_Price   R-squared:                       0.408\n",
      "Model:                            OLS   Adj. R-squared:                  0.407\n",
      "Method:                 Least Squares   F-statistic:                     338.9\n",
      "Date:                Wed, 05 Feb 2025   Prob (F-statistic):          2.20e-167\n",
      "Time:                        21:46:18   Log-Likelihood:                -762.90\n",
      "No. Observations:                1480   AIC:                             1534.\n",
      "Df Residuals:                    1476   BIC:                             1555.\n",
      "Df Model:                           3                                         \n",
      "Covariance Type:            nonrobust                                         \n",
      "=========================================================================================\n",
      "                            coef    std err          t      P>|t|      [0.025      0.975]\n",
      "-----------------------------------------------------------------------------------------\n",
      "Intercept                 7.0626      0.020    349.030      0.000       7.023       7.102\n",
      "During_Treatment         -0.0541      0.029     -1.890      0.059      -0.110       0.002\n",
      "Barcelona                -0.0356      0.030     -1.189      0.234      -0.094       0.023\n",
      "Barcelona_x_Treatment     0.8597      0.042     20.303      0.000       0.777       0.943\n",
      "==============================================================================\n",
      "Omnibus:                      184.848   Durbin-Watson:                   1.399\n",
      "Prob(Omnibus):                  0.000   Jarque-Bera (JB):              360.394\n",
      "Skew:                           0.774   Prob(JB):                     5.51e-79\n",
      "Kurtosis:                       4.856   Cond. No.                         6.62\n",
      "==============================================================================\n",
      "\n",
      "Notes:\n",
      "[1] Standard Errors assume that the covariance matrix of the errors is correctly specified.\n"
     ]
    }
   ],
   "source": [
    "model1 = smf.ols(\n",
    "    \"Log_Price ~ During_Treatment + Barcelona + Barcelona_x_Treatment \", \n",
    "    data=df\n",
    ").fit()\n",
    "\n",
    "print(model1.summary())"
   ]
  },
  {
   "cell_type": "markdown",
   "metadata": {},
   "source": [
    "#### Key Takeaways from the Base Model\n",
    "\n",
    "- **R-squared (0.408):** The model explains about 40.8% of the variance in log-transformed hotel prices. While this is a reasonable fit, it suggests that other factors influence prices beyond our current variables.\n",
    "\n",
    "- **During_Treatment (-0.0541, p = 0.059):** There is a small negative effect of the treatment period on prices, but it is not statistically significant at the 5% level. This suggests that, in general, prices may not have dropped significantly in the post-event period across both cities.\n",
    "\n",
    "- **Barcelona (-0.0356, p = 0.234):** The coefficient is negative but not statistically significant, indicating that, after controlling for treatment timing, baseline hotel prices in Barcelona do not differ significantly from those in Madrid.\n",
    "\n",
    "- **Interaction Term (Barcelona × Treatment: 0.8597, p < 0.001):** This is the most relevant coefficient for our Difference-in-Differences analysis. The highly significant and large positive effect suggests that hotel prices in Barcelona **increased** significantly during the Mobile World Congress, relative to Madrid. This confirms a strong event effect."
   ]
  },
  {
   "cell_type": "markdown",
   "metadata": {},
   "source": [
    "#### Potential Controls:\n",
    "\n",
    "\n",
    "- **Hotel Rating:** Higher-rated hotels tend to have higher prices, as positive reviews often signal better quality, amenities, and service. Including this as a control helps account for differences in pricing due to customer satisfaction.\n",
    "\n",
    "- **Number of Stars:** The official star rating of a hotel (e.g., 3-star, 4-star, 5-star) is a strong determinant of price. More luxurious hotels generally charge higher prices, so including this variable helps isolate the effect of the event from differences in accommodation quality.\n",
    "\n",
    "- **Number of Comments:** Hotels with a higher number of reviews might have different pricing strategies. A well-reviewed hotel may charge premium prices due to its established reputation, while a newer or less-reviewed hotel may offer lower prices to attract customers. Controlling for this helps adjust for differences in consumer demand based on past guest experiences.\n",
    "\n",
    "\n",
    "Unfortunately, we are not able to include any time dependent varaibles, however, we assume common trends for our model."
   ]
  },
  {
   "cell_type": "markdown",
   "metadata": {},
   "source": [
    "###### Updating the number of controls to in thousands:"
   ]
  },
  {
   "cell_type": "code",
   "execution_count": 7,
   "metadata": {},
   "outputs": [],
   "source": [
    "df['num_coments'] = df['num_coments'] / 1000"
   ]
  },
  {
   "cell_type": "markdown",
   "metadata": {},
   "source": [
    "##### Adding these controls:"
   ]
  },
  {
   "cell_type": "code",
   "execution_count": 8,
   "metadata": {},
   "outputs": [
    {
     "name": "stdout",
     "output_type": "stream",
     "text": [
      "                            OLS Regression Results                            \n",
      "==============================================================================\n",
      "Dep. Variable:              Log_Price   R-squared:                       0.607\n",
      "Model:                            OLS   Adj. R-squared:                  0.606\n",
      "Method:                 Least Squares   F-statistic:                     379.0\n",
      "Date:                Wed, 05 Feb 2025   Prob (F-statistic):          3.39e-294\n",
      "Time:                        21:46:18   Log-Likelihood:                -459.56\n",
      "No. Observations:                1478   AIC:                             933.1\n",
      "Df Residuals:                    1471   BIC:                             970.2\n",
      "Df Model:                           6                                         \n",
      "Covariance Type:            nonrobust                                         \n",
      "=========================================================================================\n",
      "                            coef    std err          t      P>|t|      [0.025      0.975]\n",
      "-----------------------------------------------------------------------------------------\n",
      "Intercept                 5.5494      0.081     68.409      0.000       5.390       5.708\n",
      "During_Treatment         -0.0542      0.023     -2.316      0.021      -0.100      -0.008\n",
      "Barcelona                -0.1359      0.025     -5.473      0.000      -0.185      -0.087\n",
      "Barcelona_x_Treatment     0.8598      0.035     24.873      0.000       0.792       0.928\n",
      "Rating                    0.0939      0.011      8.778      0.000       0.073       0.115\n",
      "stars                     0.2383      0.012     20.494      0.000       0.216       0.261\n",
      "num_coments               0.0815      0.038      2.146      0.032       0.007       0.156\n",
      "==============================================================================\n",
      "Omnibus:                      446.461   Durbin-Watson:                   1.405\n",
      "Prob(Omnibus):                  0.000   Jarque-Bera (JB):             1919.705\n",
      "Skew:                           1.383   Prob(JB):                         0.00\n",
      "Kurtosis:                       7.850   Cond. No.                         85.0\n",
      "==============================================================================\n",
      "\n",
      "Notes:\n",
      "[1] Standard Errors assume that the covariance matrix of the errors is correctly specified.\n"
     ]
    }
   ],
   "source": [
    "model2 = smf.ols(\n",
    "    \"Log_Price ~ During_Treatment + Barcelona + Barcelona_x_Treatment + Rating + stars + num_coments\", \n",
    "    data=df\n",
    ").fit()\n",
    "\n",
    "print(model2.summary())"
   ]
  },
  {
   "cell_type": "markdown",
   "metadata": {},
   "source": [
    "#### Key Takeaways from the Regression Results\n",
    "\n",
    "- **Event Effect (Barcelona × Treatment: 0.8598, p < 0.001):**  \n",
    "  The strong and highly significant positive coefficient confirms that hotel prices in Barcelona increased significantly during the Mobile World Congress, compared to Madrid. This provides strong evidence that the event had a substantial impact on hotel prices.\n",
    "\n",
    "- **During_Treatment (-0.0542, p = 0.021):**  \n",
    "  Prices generally declined slightly during the treatment period across both cities. However, this effect is relatively small and only marginally significant.\n",
    "\n",
    "- **Barcelona (-0.1359, p < 0.001):**  \n",
    "  On average, hotels in Barcelona tend to have lower prices compared to Madrid, after controlling for other factors. This could be due to differences in market structure, competition, or supply constraints.\n",
    "\n",
    "- **Hotel Characteristics Matter:**  \n",
    "  - **Rating (0.0939, p < 0.001):** Higher-rated hotels tend to have significantly higher prices.  \n",
    "  - **Stars (0.2383, p < 0.001):** The number of stars is a strong predictor of price, with higher-star hotels charging more.  \n",
    "  - **Number of Comments (0.0815, p = 0.032):** Hotels with more reviews tend to have slightly higher prices, possibly reflecting higher demand or reputation effects.  "
   ]
  },
  {
   "cell_type": "markdown",
   "metadata": {},
   "source": [
    "## (b) Text Features as Controls\n",
    "\n",
    "Incorporating text-based features from hotel descriptions allows us to capture additional factors that might influence hotel prices. Below are key text-derived variables that can serve as controls in our analysis:\n",
    "\n",
    "- **Special Mentions:** The number of times key location-based words appear in the description (e.g., \"centro\", \"playa\", \"aeropuerto\", \"wifi\", \"metro\", \"piscina\"). These terms indicate proximity to important landmarks or services that could drive up hotel prices.\n",
    "\n",
    "- **Sentiment Score:** A numerical measure of the overall tone of the hotel description, capturing whether the description is more positive, neutral, or negative. More positive descriptions might correlate with higher prices.\n",
    "\n",
    "- **Luxury Score:** The count of words associated with luxury (e.g., \"spa\", \"lujoso\", \"exclusivo\", \"premium\", \"sofisticado\", \"personalizado\", \"masajes\", \"sauna\"). Hotels emphasizing luxury features in their descriptions are likely to have higher prices.\n",
    "\n",
    "- **Mentions of Key Amenities:** Some amenities, such as \"wifi\" or \"piscina\", could impact pricing. Hotels highlighting more amenities may justify higher prices.\n",
    "\n",
    "- **Sentence Count:** A measure of the length of the description, which could serve as a proxy for how much information is provided about the hotel.\n",
    "\n",
    "- **Word Count:** Longer descriptions might indicate better marketing efforts, higher-end accommodations, or more comprehensive information. This could act as a proxy for hotel reputation and demand.\n",
    "\n",
    "By integrating these text-based features into our regression model, we can better control for qualitative aspects of hotel listings that could affect price differences.\n",
    "\n",
    "On the other hand, words like \"Barcelona\" would not help because they appear in almost every description for accommodations in Barcelona and could only serve to distinguish the treatment and control groups, rather than providing meaningful variation within the treatment group. Including such a term in the regression would not add explanatory power, as it would be highly collinear with the city dummy variable. \n",
    "\n",
    "Moreover, since \"Barcelona\" is already accounted for in the fixed effects or city dummy, its presence in the text does not provide additional information about hotel characteristics, amenities, or price determinants. Instead, we should focus on words that differentiate hotels based on location, quality, or services offered."
   ]
  },
  {
   "cell_type": "markdown",
   "metadata": {},
   "source": [
    "##### The following model adds to the model in part (a) the above described controls from the descriptions:"
   ]
  },
  {
   "cell_type": "code",
   "execution_count": 9,
   "metadata": {},
   "outputs": [
    {
     "name": "stdout",
     "output_type": "stream",
     "text": [
      "                            OLS Regression Results                            \n",
      "==============================================================================\n",
      "Dep. Variable:              Log_Price   R-squared:                       0.612\n",
      "Model:                            OLS   Adj. R-squared:                  0.609\n",
      "Method:                 Least Squares   F-statistic:                     192.5\n",
      "Date:                Wed, 05 Feb 2025   Prob (F-statistic):          1.06e-290\n",
      "Time:                        21:46:18   Log-Likelihood:                -450.48\n",
      "No. Observations:                1478   AIC:                             927.0\n",
      "Df Residuals:                    1465   BIC:                             995.8\n",
      "Df Model:                          12                                         \n",
      "Covariance Type:            nonrobust                                         \n",
      "=========================================================================================\n",
      "                            coef    std err          t      P>|t|      [0.025      0.975]\n",
      "-----------------------------------------------------------------------------------------\n",
      "Intercept                 5.6723      0.181     31.295      0.000       5.317       6.028\n",
      "During_Treatment         -0.0542      0.023     -2.326      0.020      -0.100      -0.008\n",
      "Barcelona                -0.1254      0.025     -4.932      0.000      -0.175      -0.076\n",
      "Barcelona_x_Treatment     0.8598      0.034     24.976      0.000       0.792       0.927\n",
      "Rating                    0.0983      0.011      8.971      0.000       0.077       0.120\n",
      "stars                     0.2318      0.012     19.500      0.000       0.208       0.255\n",
      "num_coments               0.0836      0.038      2.192      0.029       0.009       0.158\n",
      "Word_Count                0.0012      0.000      3.025      0.003       0.000       0.002\n",
      "Sentence_Count           -0.0213      0.007     -3.009      0.003      -0.035      -0.007\n",
      "Avg_Word_Length          -0.0360      0.040     -0.894      0.371      -0.115       0.043\n",
      "Special_Mentions         -0.0251      0.026     -0.967      0.334      -0.076       0.026\n",
      "Sentiment_Score           0.0773      0.056      1.388      0.165      -0.032       0.187\n",
      "Luxury_Score              0.0073      0.012      0.588      0.556      -0.017       0.032\n",
      "==============================================================================\n",
      "Omnibus:                      451.653   Durbin-Watson:                   1.422\n",
      "Prob(Omnibus):                  0.000   Jarque-Bera (JB):             2024.085\n",
      "Skew:                           1.385   Prob(JB):                         0.00\n",
      "Kurtosis:                       8.019   Cond. No.                     3.33e+03\n",
      "==============================================================================\n",
      "\n",
      "Notes:\n",
      "[1] Standard Errors assume that the covariance matrix of the errors is correctly specified.\n",
      "[2] The condition number is large, 3.33e+03. This might indicate that there are\n",
      "strong multicollinearity or other numerical problems.\n"
     ]
    }
   ],
   "source": [
    "model3=smf.ols(\n",
    "    \"Log_Price ~ During_Treatment + Barcelona + Barcelona_x_Treatment + Rating + stars + num_coments + Word_Count + Sentence_Count +  Avg_Word_Length + Special_Mentions + Sentiment_Score + Luxury_Score\",\n",
    "    data=df\n",
    ").fit()\n",
    "\n",
    "print(model3.summary())"
   ]
  },
  {
   "cell_type": "markdown",
   "metadata": {},
   "source": [
    "#### Main Takeaways from the Regression Results\n",
    "\n",
    "- **Event Effect (`Barcelona_x_Treatment = 0.8598, p < 0.001`)**:  \n",
    "  - The strong and statistically significant interaction term confirms that the **Mobile World Congress (MWC) led to a substantial increase in hotel prices in Barcelona** compared to Madrid during the treatment period.  \n",
    "  - The magnitude of **0.86 suggests an approximately 86% increase in hotel prices in Barcelona during the event**.\n",
    "\n",
    "- **Baseline Price Differences (`Barcelona = -0.1254, p < 0.001`)**:  \n",
    "  - On average, hotel prices in **Barcelona are lower than in Madrid** when not considering the event effect.\n",
    "\n",
    "- **Treatment Period Effect (`During_Treatment = -0.0542, p = 0.020`)**:  \n",
    "  - There is a small, but significant, **overall decrease in hotel prices during the treatment period**, which may indicate seasonality or other market dynamics affecting both cities.\n",
    "\n",
    "- **Hotel Characteristics Matter**:  \n",
    "  - **Higher ratings (`Rating = 0.0983, p < 0.001`) and more stars (`stars = 0.2318, p < 0.001`) are strongly associated with higher hotel prices**.\n",
    "  - **Number of reviews (`num_coments = 8.356e-05, p = 0.029`) has a small but positive effect on prices**, suggesting that more frequently reviewed hotels tend to be priced higher.\n",
    "\n",
    "- **Text Features as Controls**:  \n",
    "  - **Word count (`Word_Count = 0.0012, p = 0.003`) has a small but positive effect on prices**, potentially capturing more detailed or extensive descriptions related to high-end accommodations.  \n",
    "  - **Sentence count (`Sentence_Count = -0.0213, p = 0.003`) has a negative effect**, possibly indicating that longer descriptions could be associated with lower-end accommodations or less concise marketing.  \n",
    "  - **Sentiment Score, Special Mentions, and Luxury Score are not statistically significant**, meaning they do not provide strong predictive power in this model.  "
   ]
  },
  {
   "cell_type": "markdown",
   "metadata": {},
   "source": [
    "## (c) Heterogeneous Treatment Effects\n",
    "\n",
    "To explore whether the effect of the Mobile World Congress (MWC) on hotel prices varies based on **hotel quality**, we introduce interaction terms between the treatment dummy (`During_Treatment`), the event interaction (`Barcelona_x_Treatment`), and various hotel characteristics such as **rating, stars, and luxury score**.\n",
    "\n",
    "#### Choosing the Right Interaction Terms\n",
    "\n",
    "- **Luxury Score:** This text-derived metric captures mentions of luxury-related words in hotel descriptions. It may provide additional insights beyond star ratings but could also overlap conceptually.\n",
    "- **Stars and Rating:** These two variables might be highly correlated, as higher-rated hotels tend to have more stars. Including both interactions may introduce **multicollinearity**, making it difficult to interpret the individual effects. Thus we should chek for their correlation.\n",
    "\n",
    "##### Correlation between Stars and Rating:"
   ]
  },
  {
   "cell_type": "code",
   "execution_count": 10,
   "metadata": {},
   "outputs": [
    {
     "name": "stdout",
     "output_type": "stream",
     "text": [
      "           stars    Rating\n",
      "stars   1.000000  0.396621\n",
      "Rating  0.396621  1.000000\n"
     ]
    }
   ],
   "source": [
    "correlation = df[['stars', 'Rating']].corr()\n",
    "print(correlation)"
   ]
  },
  {
   "cell_type": "markdown",
   "metadata": {},
   "source": [
    "This correlation is moderate.\n",
    "\n",
    "**Multiple Interactions Together**  \n",
    "We include interactions with **all three hotel characteristics** (stars, rating, and luxury score) to capture multiple dimensions of heterogeneity. These we add in the following to out previous model:"
   ]
  },
  {
   "cell_type": "code",
   "execution_count": 11,
   "metadata": {},
   "outputs": [
    {
     "name": "stdout",
     "output_type": "stream",
     "text": [
      "                            OLS Regression Results                            \n",
      "==============================================================================\n",
      "Dep. Variable:              Log_Price   R-squared:                       0.614\n",
      "Model:                            OLS   Adj. R-squared:                  0.610\n",
      "Method:                 Least Squares   F-statistic:                     154.9\n",
      "Date:                Wed, 05 Feb 2025   Prob (F-statistic):          1.00e-288\n",
      "Time:                        21:46:18   Log-Likelihood:                -447.14\n",
      "No. Observations:                1478   AIC:                             926.3\n",
      "Df Residuals:                    1462   BIC:                             1011.\n",
      "Df Model:                          15                                         \n",
      "Covariance Type:            nonrobust                                         \n",
      "=================================================================================================\n",
      "                                    coef    std err          t      P>|t|      [0.025      0.975]\n",
      "-------------------------------------------------------------------------------------------------\n",
      "Intercept                         5.8366      0.198     29.547      0.000       5.449       6.224\n",
      "During_Treatment                 -0.3829      0.160     -2.396      0.017      -0.696      -0.069\n",
      "Barcelona                        -0.1214      0.026     -4.674      0.000      -0.172      -0.070\n",
      "Barcelona_x_Treatment             0.8516      0.036     23.629      0.000       0.781       0.922\n",
      "Rating                            0.0828      0.015      5.420      0.000       0.053       0.113\n",
      "stars                             0.2216      0.017     13.280      0.000       0.189       0.254\n",
      "num_coments                       0.0836      0.038      2.195      0.028       0.009       0.158\n",
      "Word_Count                        0.0012      0.000      3.028      0.003       0.000       0.002\n",
      "Sentence_Count                   -0.0213      0.007     -3.013      0.003      -0.035      -0.007\n",
      "Avg_Word_Length                  -0.0360      0.040     -0.895      0.371      -0.115       0.043\n",
      "Special_Mentions                 -0.0251      0.026     -0.968      0.333      -0.076       0.026\n",
      "Sentiment_Score                   0.0773      0.056      1.389      0.165      -0.032       0.186\n",
      "Luxury_Score                     -0.0077      0.017     -0.444      0.657      -0.042       0.026\n",
      "During_Treatment:Rating           0.0311      0.021      1.461      0.144      -0.011       0.073\n",
      "During_Treatment:stars            0.0203      0.023      0.865      0.387      -0.026       0.066\n",
      "During_Treatment:Luxury_Score     0.0300      0.024      1.249      0.212      -0.017       0.077\n",
      "==============================================================================\n",
      "Omnibus:                      435.293   Durbin-Watson:                   1.429\n",
      "Prob(Omnibus):                  0.000   Jarque-Bera (JB):             1862.343\n",
      "Skew:                           1.347   Prob(JB):                         0.00\n",
      "Kurtosis:                       7.794   Cond. No.                     3.94e+03\n",
      "==============================================================================\n",
      "\n",
      "Notes:\n",
      "[1] Standard Errors assume that the covariance matrix of the errors is correctly specified.\n",
      "[2] The condition number is large, 3.94e+03. This might indicate that there are\n",
      "strong multicollinearity or other numerical problems.\n"
     ]
    }
   ],
   "source": [
    "model4 = smf.ols(\n",
    "    \"Log_Price ~ During_Treatment + Barcelona + Barcelona_x_Treatment + Rating + stars + num_coments + Word_Count + Sentence_Count + Avg_Word_Length + Special_Mentions + Sentiment_Score + Luxury_Score + During_Treatment:Rating + During_Treatment:stars + During_Treatment:Luxury_Score\",\n",
    "    data=df\n",
    ").fit()\n",
    "\n",
    "print(model4.summary())"
   ]
  },
  {
   "cell_type": "markdown",
   "metadata": {},
   "source": [
    "#### Key Takeaways from Heterogeneous Treatment Analysis Based on Hotel Quality\n",
    "\n",
    "- **Overall Model Fit**:  \n",
    "  - The model explains **61.4%** of the variance in log hotel prices (**R² = 0.614**), which is a significant improvement from previous models.  \n",
    "  - This suggests that incorporating hotel quality characteristics enhances explanatory power.\n",
    "\n",
    "- **Main Treatment Effect**:  \n",
    "  - The **During_Treatment** coefficient is **-0.3829 (p = 0.017)**, indicating that prices generally decrease outside the event period.  \n",
    "  - The **Barcelona_x_Treatment** coefficient remains strong and positive (**0.8516, p < 0.001**), confirming that hotel prices in **Barcelona increased significantly** during the **Mobile World Congress (MWC)** compared to Madrid.\n",
    "\n",
    "- **Hotel Characteristics & Price Levels**:  \n",
    "  - **Higher ratings and more stars significantly increase hotel prices**:  \n",
    "    - **Rating**: **0.0828 (p < 0.001)** → Higher-rated hotels tend to have higher prices.  \n",
    "    - **Stars**: **0.2216 (p < 0.001)** → More stars strongly correlate with higher prices.  \n",
    "  - **Number of reviews has a small but positive effect** (**p = 0.028**), suggesting that more reviewed hotels tend to have slightly higher prices.\n",
    "\n",
    "- **Heterogeneous Treatment Effects (Interaction Terms)**:  \n",
    "  - **During_Treatment × Rating (0.0311, p = 0.144)**:  \n",
    "    - The coefficient is **positive but not statistically significant**, meaning we do **not** find strong evidence that **higher-rated hotels reacted differently** to MWC in terms of price increases.  \n",
    "  - **During_Treatment × Stars (0.0203, p = 0.387)**:  \n",
    "    - The effect of **stars on price changes** during the event is **also not significant**, suggesting that **luxury hotels did not systematically increase their prices more than lower-tier hotels**.  \n",
    "  - **During_Treatment × Luxury_Score (0.0300, p = 0.212)**:  \n",
    "    - The **luxury score does not significantly moderate the treatment effect**, indicating that explicitly “luxury-marketed” hotels **did not price differently** due to MWC.\n",
    "\n",
    "- **Conclusion**:  \n",
    "  - The event had a **substantial price effect overall**, particularly in **Barcelona**.  \n",
    "  - However, we do **not find strong evidence that higher-end hotels** (luxury, more stars, or higher ratings) **systematically increased their prices more than lower-end hotels** during the event.  \n",
    "  - This could suggest that **MWC affects all hotels similarly**, rather than having a **disproportionate effect on high-end accommodations**."
   ]
  }
 ],
 "metadata": {
  "kernelspec": {
   "display_name": "base",
   "language": "python",
   "name": "python3"
  },
  "language_info": {
   "codemirror_mode": {
    "name": "ipython",
    "version": 3
   },
   "file_extension": ".py",
   "mimetype": "text/x-python",
   "name": "python",
   "nbconvert_exporter": "python",
   "pygments_lexer": "ipython3",
   "version": "3.12.2"
  }
 },
 "nbformat": 4,
 "nbformat_minor": 2
}
