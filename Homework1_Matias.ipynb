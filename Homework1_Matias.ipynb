{
 "cells": [
  {
   "cell_type": "markdown",
   "metadata": {},
   "source": [
    "# Imports:"
   ]
  },
  {
   "cell_type": "code",
   "execution_count": 50,
   "metadata": {},
   "outputs": [],
   "source": [
    "from selenium.webdriver.common.by import By\n",
    "from selenium.common.exceptions import NoSuchElementException, ElementClickInterceptedException, StaleElementReferenceException\n",
    "from selenium import webdriver\n",
    "import os\n",
    "import time\n",
    "from selenium import webdriver\n",
    "from selenium.webdriver.firefox.service import Service\n",
    "from selenium.webdriver.firefox.options import Options\n",
    "from datetime import datetime\n",
    "\n",
    "# Importing libraries fto switch to the new tab\n",
    "from selenium.webdriver.support.ui import WebDriverWait\n",
    "from selenium.webdriver.support import expected_conditions as EC\n",
    "from selenium.common.exceptions import TimeoutException\n",
    "\n",
    "import pandas as pd\n",
    "import re"
   ]
  },
  {
   "cell_type": "markdown",
   "metadata": {},
   "source": [
    "# Browser preferences:"
   ]
  },
  {
   "cell_type": "code",
   "execution_count": 51,
   "metadata": {},
   "outputs": [],
   "source": [
    "def ffx_preferences(dfolder, download=False):\n",
    "    '''\n",
    "    Sets the preferences of the firefox browser: download path.\n",
    "    '''\n",
    "    profile = webdriver.FirefoxProfile()\n",
    "    # set download folder:\n",
    "    profile.set_preference(\"browser.download.dir\", dfolder) # you can predefine where you wanna store things in case its needed\n",
    "    profile.set_preference(\"browser.download.folderList\", 2) # 0 means to download to the desktop, 1 means to download to the default \"Downloads\" directory, 2 means to use the directory\n",
    "    profile.set_preference(\"browser.download.manager.showWhenStarting\", False) #I dont wanna see a pop up for each download so i swith it off\n",
    "    profile.set_preference(\"browser.helperApps.neverAsk.saveToDisk\",\n",
    "                           \"application/msword,application/rtf, application/csv,text/csv,image/png ,image/jpeg, application/pdf, text/html,text/plain,application/octet-stream\")\n",
    "    \n",
    "    # profile.install_addon('/Users/luisignaciomenendezgarcia/Dropbox/CLASSES/class_bse_text_mining/class_scraping_bse_2025/booking/booking/ublock_origin-1.55.0.xpi')\n",
    "    # profile.add_extension('/Users/luisignaciomenendezgarcia/Dropbox/CLASSES/class_bse_text_mining/class_scraping_bse/booking/booking/ublock_origin-1.55.0.xpi')\n",
    "\n",
    "\n",
    "    # this allows to download pdfs automatically\n",
    "    if download:\n",
    "        profile.set_preference(\"browser.helperApps.neverAsk.saveToDisk\", \"application/pdf,application/x-pdf\")\n",
    "        profile.set_preference(\"pdfjs.disabled\", True) #dont want the pdf viewer to open\n",
    "\n",
    "    options = Options()\n",
    "    options.profile = profile\n",
    "    return options\n",
    "\n",
    "'''Modify the start_up function to include a fixed window size'''\n",
    "def start_up(link, dfolder, geko_path,donwload=True, window_size='1920,1080'):\n",
    "    # geko_path='/Users/luisignaciomenendezgarcia/Dropbox/CLASSES/class_bse_text_mining/class_scraping_bse/booking/geckodriver'\n",
    "    # download_path='./downloads'\n",
    "    os.makedirs(dfolder, exist_ok=True)\n",
    "\n",
    "    options = ffx_preferences(dfolder,donwload)\n",
    "    service = Service(geko_path)\n",
    "    browser = webdriver.Firefox(service=service, options=options)\n",
    "    width, height = map(int, window_size.split(','))\n",
    "    browser.set_window_size(width, height)\n",
    "    # Enter the website address here\n",
    "    browser.get(link)\n",
    "    time.sleep(3)  # Adjust sleep time as needed\n",
    "    return browser\n",
    "\n",
    "\n",
    "def check_and_click(browser, xpath, type):\n",
    "    '''\n",
    "    Function that checks whether the object is clickable and, if so, clicks on\n",
    "    it. If not, waits one second and tries again.\n",
    "    '''\n",
    "    ck = False\n",
    "    ss = 0\n",
    "    while ck == False:\n",
    "        ck = check_obscures(browser, xpath, type)\n",
    "        time.sleep(1)\n",
    "        ss += 1\n",
    "        if ss == 15:\n",
    "            # warn_sound()\n",
    "            # return NoSuchElementException\n",
    "            ck = True\n",
    "            # browser.quit()\n",
    "\n",
    "def check_obscures(browser, xpath, type):\n",
    "    '''\n",
    "    Function that checks whether the object is being \"obscured\" by any element so\n",
    "    that it is not clickable. Important: if True, the object is going to be clicked!\n",
    "    '''\n",
    "    try:\n",
    "        if type == \"xpath\":\n",
    "            browser.find_element('xpath',xpath).click()\n",
    "        elif type == \"id\":\n",
    "            browser.find_element('id',xpath).click()\n",
    "        elif type == \"css\":\n",
    "            browser.find_element('css selector',xpath).click()\n",
    "        elif type == \"class\":\n",
    "            browser.find_element('class name',xpath).click()\n",
    "        elif type == \"link\":\n",
    "            browser.find_element('link text',xpath).click()\n",
    "    except (ElementClickInterceptedException, NoSuchElementException, StaleElementReferenceException) as e:\n",
    "        print(e)\n",
    "        return False\n",
    "    return True"
   ]
  },
  {
   "cell_type": "markdown",
   "metadata": {},
   "source": [
    "# Walking through Booking:"
   ]
  },
  {
   "cell_type": "code",
   "execution_count": 52,
   "metadata": {},
   "outputs": [],
   "source": [
    "# lets open booking:\n",
    "\n",
    "dfolder='/Users/matiasborrell/Library/Mobile Documents/com~apple~CloudDocs/Documentacion Master Barcelona/BSE/Term 2/Introduction to Text Mining/Homework01/Downloads_HW1'\n",
    "geko_path='/Users/matiasborrell/Library/Mobile Documents/com~apple~CloudDocs/Documentacion Master Barcelona/BSE/Term 2/Introduction to Text Mining/gecko/geckodriver'\n",
    "link='https://www.booking.com/index.es.html'\n",
    "\n",
    "\n",
    "browser=start_up(dfolder=dfolder,link=link,geko_path=geko_path)\n"
   ]
  },
  {
   "cell_type": "code",
   "execution_count": 53,
   "metadata": {},
   "outputs": [],
   "source": [
    "#Reject Cookies\n",
    "check_and_click(browser, 'onetrust-reject-all-handler', 'id')"
   ]
  },
  {
   "cell_type": "code",
   "execution_count": 54,
   "metadata": {},
   "outputs": [],
   "source": [
    "# click on the \"Where to go button\"\n",
    "browser.find_element(by=By.XPATH,value='//*[@id=\":rh:\"]').click()"
   ]
  },
  {
   "cell_type": "markdown",
   "metadata": {},
   "source": [
    "## City Selection:"
   ]
  },
  {
   "cell_type": "code",
   "execution_count": 55,
   "metadata": {},
   "outputs": [],
   "source": [
    "# Input Barcelona as the target city.\n",
    "place = 'Barcelona'\n",
    "search1 = browser.find_element(by='xpath',value='//*[@id=\":rh:\"]')\n",
    "search1.send_keys(place)"
   ]
  },
  {
   "cell_type": "code",
   "execution_count": 56,
   "metadata": {},
   "outputs": [],
   "source": [
    "# Clicking on the enter date button.\n",
    "browser.find_element(by=By.XPATH,value='//*[@class=\"ebbedaf8ac ab26a5d2bd e33c97ff6b\"]').click()"
   ]
  },
  {
   "cell_type": "markdown",
   "metadata": {},
   "source": [
    "## Dates Selection:"
   ]
  },
  {
   "cell_type": "code",
   "execution_count": 57,
   "metadata": {},
   "outputs": [],
   "source": [
    "# Clicking next until we find the right month.\n",
    "\n",
    "actual_date = datetime.now()\n",
    "actual_year = str(actual_date.year)\n",
    "\n",
    "year = '2025'\n",
    "month = 'marzo'\n",
    "month_number = '03'\n",
    "arrival_day = '12'\n",
    "departure_day = '15'\n",
    "\n",
    "# We can replace with a specific year or with the os actual year just replacing the variable year by actual_year. (Notice booking just allows you to do reservations up to one year foward.)\n",
    "target_date = month + ' ' + actual_year\n",
    "\n",
    "while browser.find_element(By.XPATH, '//h3[contains(@class, \"e1eebb6a1e ee7ec6b631\")]').text.strip() != target_date:\n",
    "    browser.find_element(By.XPATH, '//*[@class=\"a83ed08757 c21c56c305 f38b6daa18 d691166b09 f671049264 f4552b6561 dc72a8413c f073249358\"]').click()"
   ]
  },
  {
   "cell_type": "code",
   "execution_count": 58,
   "metadata": {},
   "outputs": [],
   "source": [
    "# Scrolling down 300 Pixels.\n",
    "browser.execute_script(\"window.scrollBy(0, 300);\")"
   ]
  },
  {
   "cell_type": "code",
   "execution_count": 59,
   "metadata": {},
   "outputs": [],
   "source": [
    "#Clicking on the desired dates.\n",
    "path='//table[@class=\"eb03f3f27f\"]//tbody//td[@class=\"b80d5adb18\"]//span[@class=\"cf06f772fa ef091eb985\"]'\n",
    "dates = browser.find_elements('xpath',path)\n",
    "for date in dates:\n",
    "    if date.get_attribute(\"data-date\") == f\"{year}-{month_number}-{arrival_day}\":\n",
    "        date.click()\n",
    "    if date.get_attribute(\"data-date\") == f\"{year}-{month_number}-{departure_day}\":\n",
    "            date.click()\n",
    "            break"
   ]
  },
  {
   "cell_type": "code",
   "execution_count": 60,
   "metadata": {},
   "outputs": [],
   "source": [
    "# click on the \"Search button\"\n",
    "browser.find_element(by=By.XPATH,value='//button[@class=\"a83ed08757 c21c56c305 a4c1805887 f671049264 a2abacf76b c082d89982 cceeb8986b b9fd3c6b3c\"]').click()"
   ]
  },
  {
   "cell_type": "code",
   "execution_count": 61,
   "metadata": {},
   "outputs": [],
   "source": [
    "# Close offer pop up if it appears.\n",
    "\n",
    "# Wait a few seconds to see if the pop up appears.\n",
    "time.sleep(1)\n",
    "try:\n",
    "    browser.find_element(by=By.XPATH,value='//div[@class=\"eb33ef7c47\"]//button[@class=\"a83ed08757 c21c56c305 f38b6daa18 d691166b09 ab98298258 f4552b6561\"]').click()\n",
    "except NoSuchElementException:\n",
    "    pass\n",
    "time.sleep(5)"
   ]
  },
  {
   "cell_type": "markdown",
   "metadata": {},
   "source": [
    "# Loading all the hotels available:\n",
    "\n",
    "I go for a duplicate block here because sometimes the first scroll fails."
   ]
  },
  {
   "cell_type": "code",
   "execution_count": 62,
   "metadata": {},
   "outputs": [
    {
     "name": "stdout",
     "output_type": "stream",
     "text": [
      "The load more button has been clicked 0 times\n"
     ]
    }
   ],
   "source": [
    "i=0\n",
    "# Scrolling based on the height of the page.\n",
    "while True:\n",
    "    try:\n",
    "        total_height = browser.execute_script(\"return document.body.scrollHeight\")\n",
    "        scroll_position = (total_height*10) - 200\n",
    "        browser.execute_script(f\"window.scrollTo(0, {scroll_position});\")\n",
    "        \n",
    "        # Small wait to let the page load.\n",
    "        time.sleep(2)\n",
    "        \n",
    "        # Clicking on the load more button.\n",
    "        browser.find_element(By.XPATH, '//button[@class=\"a83ed08757 c21c56c305 bf0537ecb5 f671049264 af7297d90d c0e0affd09\"]').click()\n",
    "        i += 1\n",
    "    except NoSuchElementException:\n",
    "        break\n",
    "\n",
    "print(f'The load more button has been clicked {i} times')"
   ]
  },
  {
   "cell_type": "code",
   "execution_count": null,
   "metadata": {},
   "outputs": [
    {
     "name": "stdout",
     "output_type": "stream",
     "text": [
      "The load more button has been clicked 37 times\n"
     ]
    }
   ],
   "source": [
    "i=0\n",
    "# Scrolling based on the height of the page.\n",
    "while True:\n",
    "    try:\n",
    "        total_height = browser.execute_script(\"return document.body.scrollHeight\")\n",
    "        scroll_position = (total_height*10) - 200\n",
    "        browser.execute_script(f\"window.scrollTo(0, {scroll_position});\")\n",
    "        \n",
    "        # Small wait to let the page load.\n",
    "        time.sleep(2)\n",
    "        \n",
    "        # Clicking on the load more button.\n",
    "        browser.find_element(By.XPATH, '//button[@class=\"a83ed08757 c21c56c305 bf0537ecb5 f671049264 af7297d90d c0e0affd09\"]').click()\n",
    "        i += 1\n",
    "    except NoSuchElementException:\n",
    "        break\n",
    "\n",
    "print(f'The load more button has been clicked {i} times')"
   ]
  },
  {
   "cell_type": "markdown",
   "metadata": {},
   "source": [
    "# Data extraction for each hotel:"
   ]
  },
  {
   "cell_type": "code",
   "execution_count": 65,
   "metadata": {},
   "outputs": [
    {
     "data": {
      "text/html": [
       "<div>\n",
       "<style scoped>\n",
       "    .dataframe tbody tr th:only-of-type {\n",
       "        vertical-align: middle;\n",
       "    }\n",
       "\n",
       "    .dataframe tbody tr th {\n",
       "        vertical-align: top;\n",
       "    }\n",
       "\n",
       "    .dataframe thead th {\n",
       "        text-align: right;\n",
       "    }\n",
       "</style>\n",
       "<table border=\"1\" class=\"dataframe\">\n",
       "  <thead>\n",
       "    <tr style=\"text-align: right;\">\n",
       "      <th></th>\n",
       "      <th>Name</th>\n",
       "      <th>Price</th>\n",
       "      <th>Score</th>\n",
       "      <th>Description</th>\n",
       "    </tr>\n",
       "  </thead>\n",
       "  <tbody>\n",
       "    <tr>\n",
       "      <th>0</th>\n",
       "      <td>Hotel Paxton Barcelona</td>\n",
       "      <td>€ 444</td>\n",
       "      <td>8.8</td>\n",
       "      <td>Hotel Paxton Barcelona se encuentra en Barcelo...</td>\n",
       "    </tr>\n",
       "    <tr>\n",
       "      <th>1</th>\n",
       "      <td>Sonder La Casa del Sol</td>\n",
       "      <td>€ 440</td>\n",
       "      <td>8.4</td>\n",
       "      <td>El establecimiento Sonder La Casa del Sol ofre...</td>\n",
       "    </tr>\n",
       "    <tr>\n",
       "      <th>2</th>\n",
       "      <td>Hotel Lloret Ramblas</td>\n",
       "      <td>€ 366</td>\n",
       "      <td>8.1</td>\n",
       "      <td>El Hotel Lloret Ramblas se encuentra en las fa...</td>\n",
       "    </tr>\n",
       "    <tr>\n",
       "      <th>3</th>\n",
       "      <td>NH Barcelona Diagonal Center</td>\n",
       "      <td>€ 366</td>\n",
       "      <td>8.2</td>\n",
       "      <td>Este hotel de diseño está a 15 minutos de la p...</td>\n",
       "    </tr>\n",
       "    <tr>\n",
       "      <th>4</th>\n",
       "      <td>Acta BCN 40</td>\n",
       "      <td>€ 368</td>\n",
       "      <td>8.4</td>\n",
       "      <td>El Acta BCN 40 Hotel se encuentra en el centro...</td>\n",
       "    </tr>\n",
       "    <tr>\n",
       "      <th>5</th>\n",
       "      <td>Holiday Inn Express Barcelona City 22@, an IHG...</td>\n",
       "      <td>€ 483</td>\n",
       "      <td>8.3</td>\n",
       "      <td>Hotel acogedor en Barcelona con wifi y desayun...</td>\n",
       "    </tr>\n",
       "    <tr>\n",
       "      <th>6</th>\n",
       "      <td>Hostal la Palmera</td>\n",
       "      <td>€ 340</td>\n",
       "      <td>8.7</td>\n",
       "      <td>Este hostal, de ambiente tranquilo, está situa...</td>\n",
       "    </tr>\n",
       "    <tr>\n",
       "      <th>7</th>\n",
       "      <td>Acta Antibes</td>\n",
       "      <td>€ 427</td>\n",
       "      <td>8.5</td>\n",
       "      <td>El Acta Antibes está en el distrito del Eixamp...</td>\n",
       "    </tr>\n",
       "    <tr>\n",
       "      <th>8</th>\n",
       "      <td>Hotel Condado</td>\n",
       "      <td>€ 383</td>\n",
       "      <td>8.5</td>\n",
       "      <td>El Hotel Condado se encuentra a 200 metros de ...</td>\n",
       "    </tr>\n",
       "    <tr>\n",
       "      <th>9</th>\n",
       "      <td>Catalonia Albeniz</td>\n",
       "      <td>€ 433</td>\n",
       "      <td>8.4</td>\n",
       "      <td>El Catalonia Albeniz ofrece habitaciones ampli...</td>\n",
       "    </tr>\n",
       "  </tbody>\n",
       "</table>\n",
       "</div>"
      ],
      "text/plain": [
       "                                                Name  Price  Score  \\\n",
       "0                             Hotel Paxton Barcelona  € 444    8.8   \n",
       "1                             Sonder La Casa del Sol  € 440    8.4   \n",
       "2                               Hotel Lloret Ramblas  € 366    8.1   \n",
       "3                       NH Barcelona Diagonal Center  € 366    8.2   \n",
       "4                                        Acta BCN 40  € 368    8.4   \n",
       "5  Holiday Inn Express Barcelona City 22@, an IHG...  € 483    8.3   \n",
       "6                                  Hostal la Palmera  € 340    8.7   \n",
       "7                                       Acta Antibes  € 427    8.5   \n",
       "8                                      Hotel Condado  € 383    8.5   \n",
       "9                                  Catalonia Albeniz  € 433    8.4   \n",
       "\n",
       "                                         Description  \n",
       "0  Hotel Paxton Barcelona se encuentra en Barcelo...  \n",
       "1  El establecimiento Sonder La Casa del Sol ofre...  \n",
       "2  El Hotel Lloret Ramblas se encuentra en las fa...  \n",
       "3  Este hotel de diseño está a 15 minutos de la p...  \n",
       "4  El Acta BCN 40 Hotel se encuentra en el centro...  \n",
       "5  Hotel acogedor en Barcelona con wifi y desayun...  \n",
       "6  Este hostal, de ambiente tranquilo, está situa...  \n",
       "7  El Acta Antibes está en el distrito del Eixamp...  \n",
       "8  El Hotel Condado se encuentra a 200 metros de ...  \n",
       "9  El Catalonia Albeniz ofrece habitaciones ampli...  "
      ]
     },
     "execution_count": 65,
     "metadata": {},
     "output_type": "execute_result"
    }
   ],
   "source": [
    "from selenium.webdriver.common.by import By\n",
    "import time\n",
    "import pandas as pd\n",
    "\n",
    "# Creating empty lists to store the data just in case we need it.\n",
    "full_names = []\n",
    "full_prices = []\n",
    "full_score = []\n",
    "full_descriptions = []\n",
    "\n",
    "# Creating the DF that is gonna store the data.\n",
    "df = pd.DataFrame(columns=['Name', 'Price', 'Score', 'Description'])\n",
    "\n",
    "# Sabing the original handler to be able to jump from one tab to another.\n",
    "original_window = browser.current_window_handle\n",
    "\n",
    "hotels_xpath = '//div[@class=\"f6431b446c a15b38c233\"]'\n",
    "\n",
    "# Finding the full hotel list.\n",
    "hotels = browser.find_elements(By.XPATH, hotels_xpath)\n",
    "\n",
    "for index in range(10):\n",
    "#'''Use this for loop instead to do the full scrapping. It is gonna take a while......... (Around 4 Hours)'''\n",
    "#for index in range(len(hotels)):\n",
    "    try:\n",
    "        # Finding the updated list on each itaration to avoid crashes since we are not working with id.\n",
    "        hotels = browser.find_elements(By.XPATH, hotels_xpath)\n",
    "\n",
    "        # Srcolling to the hotel position according to index.\n",
    "        browser.execute_script(\"arguments[0].scrollIntoView();\", hotels[index])\n",
    "        time.sleep(2)\n",
    "\n",
    "        # Clicking on the hotel.\n",
    "        hotels[index].click()\n",
    "        time.sleep(3)\n",
    "\n",
    "        # Switching to the new tab using the handler.\n",
    "        new_window = [window for window in browser.window_handles if window != original_window][0]\n",
    "        browser.switch_to.window(new_window)\n",
    "\n",
    "        # Getting the hotel name.\n",
    "        try:\n",
    "            names = str(browser.find_element(By.XPATH, '//div[@data-capla-component-boundary=\"b-property-web-property-page/PropertyHeaderName\"]//h2[@class=\"d2fee87262 pp-header__title\"]').text)\n",
    "            full_names.append(names)\n",
    "        except Exception as e:\n",
    "            names = None\n",
    "            full_names.append(names)\n",
    "\n",
    "        # Getting the hotel score.\n",
    "        try:    \n",
    "            score = float(browser.find_element(By.XPATH, '//div[@id=\"js--hp-gallery-scorecard\"]').get_attribute(\"data-review-score\"))\n",
    "            full_score.append(score)\n",
    "        except Exception as e:\n",
    "            score = None\n",
    "            full_score.append(score)\n",
    "\n",
    "        # Getting the hotel description.\n",
    "        try:\n",
    "                browser.execute_script(\"document.body.style.zoom='70%'\")\n",
    "                browser.execute_script(\"window.scrollBy(0, 400);\")\n",
    "                description = str(browser.find_element(By.XPATH, '//p[@data-testid=\"property-description\"]').text)\n",
    "                full_descriptions.append(description)\n",
    "        except Exception as e:\n",
    "            description = None\n",
    "            full_descriptions.append(description)\n",
    "\n",
    "        # Getting the hotel price.\n",
    "        try:\n",
    "            browser.execute_script(\"window.scrollBy(0, 400);\")\n",
    "            price = browser.find_element(By.XPATH, '//span[@class=\"prco-valign-middle-helper\"]').text\n",
    "            full_prices.append(price)\n",
    "        except Exception as e:\n",
    "            price = None\n",
    "            full_prices.append(price)\n",
    "\n",
    "        # Appending the data to the DataFrame.\n",
    "        df.loc[len(df)] = {'Name': names, 'Price': price, 'Score': score, 'Description': description}\n",
    "        time.sleep(1)\n",
    "        \n",
    "        # Closing the new tab and switching back to the original one.\n",
    "        browser.close()\n",
    "        browser.switch_to.window(original_window)\n",
    "\n",
    "    except Exception as e:\n",
    "        print(f\"Error al procesar el hotel {index}: {e}\")\n",
    "        continue\n",
    "\n",
    "# Printing the Final DataFrame.\n",
    "df"
   ]
  },
  {
   "cell_type": "code",
   "execution_count": null,
   "metadata": {},
   "outputs": [],
   "source": []
  }
 ],
 "metadata": {
  "kernelspec": {
   "display_name": "brushup_env",
   "language": "python",
   "name": "python3"
  },
  "language_info": {
   "codemirror_mode": {
    "name": "ipython",
    "version": 3
   },
   "file_extension": ".py",
   "mimetype": "text/x-python",
   "name": "python",
   "nbconvert_exporter": "python",
   "pygments_lexer": "ipython3",
   "version": "3.12.5"
  }
 },
 "nbformat": 4,
 "nbformat_minor": 2
}
